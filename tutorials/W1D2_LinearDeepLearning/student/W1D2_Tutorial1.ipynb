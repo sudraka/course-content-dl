{
  "nbformat": 4,
  "nbformat_minor": 0,
  "metadata": {
    "colab": {
      "name": "W1D2_Tutorial1",
      "provenance": [],
      "collapsed_sections": [],
      "toc_visible": true,
      "include_colab_link": true
    },
    "kernel": {
      "display_name": "Python 3",
      "language": "python",
      "name": "python3"
    },
    "kernelspec": {
      "display_name": "Python 3",
      "name": "python3"
    },
    "language_info": {
      "codemirror_mode": {
        "name": "ipython",
        "version": 3
      },
      "file_extension": ".py",
      "mimetype": "text/x-python",
      "name": "python",
      "nbconvert_exporter": "python",
      "pygments_lexer": "ipython3",
      "version": "3.7.11"
    },
    "widgets": {
      "application/vnd.jupyter.widget-state+json": {
        "0ede57b4b5f741a29347288aee7b3602": {
          "model_module": "@jupyter-widgets/controls",
          "model_name": "TabModel",
          "state": {
            "_view_name": "TabView",
            "_dom_classes": [],
            "_titles": {
              "0": "Youtube",
              "1": "Bilibili"
            },
            "_model_name": "TabModel",
            "_view_module": "@jupyter-widgets/controls",
            "selected_index": 0,
            "_model_module_version": "1.5.0",
            "_view_count": null,
            "_view_module_version": "1.5.0",
            "box_style": "",
            "layout": "IPY_MODEL_b9ff8735bac64fcd86a622e93a66de68",
            "_model_module": "@jupyter-widgets/controls",
            "children": [
              "IPY_MODEL_f4f3bd66fef34c19a1b2a86ddb62f286",
              "IPY_MODEL_839431612bd64a459720fca16eff84bb"
            ]
          }
        },
        "b9ff8735bac64fcd86a622e93a66de68": {
          "model_module": "@jupyter-widgets/base",
          "model_name": "LayoutModel",
          "state": {
            "_view_name": "LayoutView",
            "grid_template_rows": null,
            "right": null,
            "justify_content": null,
            "_view_module": "@jupyter-widgets/base",
            "overflow": null,
            "_model_module_version": "1.2.0",
            "_view_count": null,
            "flex_flow": null,
            "width": null,
            "min_width": null,
            "border": null,
            "align_items": null,
            "bottom": null,
            "_model_module": "@jupyter-widgets/base",
            "top": null,
            "grid_column": null,
            "overflow_y": null,
            "overflow_x": null,
            "grid_auto_flow": null,
            "grid_area": null,
            "grid_template_columns": null,
            "flex": null,
            "_model_name": "LayoutModel",
            "justify_items": null,
            "grid_row": null,
            "max_height": null,
            "align_content": null,
            "visibility": null,
            "align_self": null,
            "height": null,
            "min_height": null,
            "padding": null,
            "grid_auto_rows": null,
            "grid_gap": null,
            "max_width": null,
            "order": null,
            "_view_module_version": "1.2.0",
            "grid_template_areas": null,
            "object_position": null,
            "object_fit": null,
            "grid_auto_columns": null,
            "margin": null,
            "display": null,
            "left": null
          }
        },
        "f4f3bd66fef34c19a1b2a86ddb62f286": {
          "model_module": "@jupyter-widgets/output",
          "model_name": "OutputModel",
          "state": {
            "_view_name": "OutputView",
            "msg_id": "",
            "_dom_classes": [],
            "_model_name": "OutputModel",
            "outputs": [
              {
                "output_type": "stream",
                "metadata": {
                  "tags": []
                },
                "text": "Video available at https://youtube.com/watch?v=i7djAv2jnzY\n",
                "stream": "stdout"
              },
              {
                "output_type": "display_data",
                "metadata": {
                  "tags": []
                },
                "text/html": "\n        <iframe\n            width=\"854\"\n            height=\"480\"\n            src=\"https://www.youtube.com/embed/i7djAv2jnzY?fs=1&rel=0\"\n            frameborder=\"0\"\n            allowfullscreen\n        ></iframe>\n        ",
                "text/plain": "<IPython.lib.display.YouTubeVideo at 0x7ff37a178690>",
                "image/jpeg": "/9j/4AAQSkZJRgABAQAAAQABAAD/2wCEABALDBoYFhsaGRoeHRwfIjImIiIiIyotLyktLzI9MC0yMDU1PVBCNzhLOS8vRWFFS1NWW1xbNUFlbWRYbFBZW1cBERISGRYZLxsbMFc6OEBXV1dXV1dXV11XV1dXV11XV1dXXVdXV1dXV1dXXVdXV1dXY1dXXVdXV1dXV19XV1dXV//AABEIAWgB4AMBIgACEQEDEQH/xAAbAAEAAgMBAQAAAAAAAAAAAAAABAUCAwYBB//EAEwQAAIBAgMDBgwDBQYFAgcAAAECAAMRBBIhBTFREyJBYXGSBhQXMlJTcoGRsdHSM0KhFRYjVPA0YnOTweEHQ4Ki8WPiJCVEsrPC8v/EABgBAQEBAQEAAAAAAAAAAAAAAAABAgME/8QAIhEBAQEBAAICAgIDAAAAAAAAAAERAhIxIUEDUYGxYZHw/9oADAMBAAIRAxEAPwD5/ERAREQEREBERAREQEREBERAREQEREBERAREQEREBERAREQEREBERAREQEREBERAREQEREBERAREQEREBERAREQEREBERAREQEREBERAREQEREBERAREQEREBERAREQEREBERAREQEREBERAREQEREBERAREQEREBERAREQEREBERAREQEREBERAREQEREBERAREQEREBE65P+HWMIBFXD6i/nP9k98nGN9bh+8/2QOQidf5OMb63D95/sjycY31uH7z/ZA5CJ1/k4xvrcP3n+yPJxjfW4fvP9kDkInX+TjG+tw/ef7I8nGN9bh+8/2QOQidf5OMb63D95/sjycY31uH7z/ZA5CJ1/k4xvrcP3n+yPJxjfW4fvP9kDkInX+TjG+tw/ef7I8nGN9bh+8/2QOQidf5OMb63D95/sjycY31uH7z/ZA5CJ1/k4xvrcP3n+yPJxjfW4fvP9kDkInX+TjG+tw/ef7I8nGN9bh+8/2QOQidf5OMb63D95/sjycY31uH7z/ZA5CJ1/k4xvrcP3n+yPJxjfW4fvP9kDkInX+TjG+tw/ef7I8nGN9bh+8/2QOQidf5OMb63D95/sjycY31uH7z/ZA5CJ1/k4xvrcP3n+yPJxjfW4fvP9kDkInX+TjG+tw/ef7I8nGN9bh+8/2QOQidf5OMb63D95/sjycY31uH7z/ZA5CJ1/k4xvrcP3n+yPJxjfW4fvP9kDkInX+TjG+tw/ef7I8nGN9bh+8/2QOQidf5OMb63D95/sjycY31uH7z/ZA5CJ1/k4xvrcP3n+yPJxjfW4fvP9kDkInX+TjG+tw/ef7JhW/4fYxFzGph7dTP9kDk4nSjwIxR/wCZR7zfbB8B8V6yh3n+2Z8ouVzUTo/3KxXp0e832z1fAnFH/mUe832x5QyubidN+42K9ZQ7z/bH7jYr1lDvP9suo5mJ037j4r1lDvP9swbwLxI/5lHvN9sujnIlzi/BqtRUM70rE20LH/8AWQDgHzZbrf3/AEgRYm6rhyrZSQT1R4s3VLJaNMTb4ueInnInqjKNcS4o+Ddd1DBqdjxLfSTsL4DYqr5tSgO1n+2QfVcP+Gnsj5TZNeH/AA09kfKbICJ5ED2IiAiIgIiICIiAiIgIiICJ5ED2IiAieRA9iIgIiICJ5ED2IiAiIgIiICIiAiIgIiICIiAkXaP4XvElSJtL8L3iS+hWoZkxmoGekzg3HhmVHeZrmyj0xPatswasg3sBfiQJsM5bwmIFSnf0P9TO0YdLnUi4II6jeRqrr6S/ETm8BthqVPk0VbXvrf8AromdPFqSc9K2Yk3GuplqyftN2uTyLZWC6b7Xv1So2Xs5ajgkHzdTx1/SWOMU+LhVUEW1/ugDf2z3YDsQykWA3G1r/wBazPVyJnzjH92cLvyvf2zMW8H8Ppo+v9//AGl8V0kdhzl/romZ31+3Txilbwdw/wD6nf8A9pHfYFAHfU7w+kv6kiVN8vn0njGWDphUUDoE6LYg5rTm6eKRV5zAW33nTbDN6ZI4zpHLpYYf8NPZHymya8P+Gnsj5TZCou1K7UsNWqLbMlNmF91wCRKrlceMOMQKtBxkz5OTZbi1yM2bfLDbv9ixX+C//wBpnP4rCVEwuHepiKz4VlUV0GUZVYAAggXyjp6pmu345LP5dAu16Iw9KvUcU1qKCoY66i9hxM3UMfSqUzUSorIL3YHdbffhKTEhqe0KYpvSpr4uFomopK6HnBbEWNsvumwUGzYyo1ai7GgVdKSkagHKW5x1tcRqeETxtzCF1Txinma1teO7XdN+K2hRom1Woqc3NzjbS9r/ABIlHy+G/YwUlCOQAyi18+XQW9LNNuHpE43B8qAXXCEm4vZrqCe3Uxq3if2tcTtOhRCmpVVQ4ut95HUN82JjqTUuWWohpWvnuLab9ZSE1V2liLVKSMyJyfKqTdADcKQw3Ne46xPPEkali+WxNEJUdLmmLKlQW1NyRcnLcRqeEXGE2rQrtlpVVZrXt0242O8dcwr7Zw1NzTesiuN4J3X4ncPfIdDF1lxNOjVajWLoxSpTFmWwvzhc6HiDvlfsTlfFChq4ZbFhWWohzZiTmz88Xvx4Rq+E9ujxGNpUsvKVFQNexY2BsLn9JpobYw1RXZKyFaYu5vuHE9UqBhgh2XTZlqhWazW0IyEqRe/V8JOKj9qqbanCtf8AzFjU8Iz2TtuliaTPmRShOYZvNUEgEk8QLzdhNr4es+SlWRm32B39nGUuGxgpbLqEBHYVHBVtQM1Ui7DgL3mzGq618DnrpVJraWQKRzTe1j5v+0at4m1OwO3qVevVoo6XU/w9b5xluT7jp7pvwuOHiqVq9SkBluzqTk9xMi7NcDGY8EgEulhfU/wxKnC5RhtlNV/BUnMTuDEHIT77xp4S+v8AH9OkwW06GIvyNVXI3gHUe6aq+28LT0eugNyLX1uDY/rIeOdHx+E5Ig1FzGoVN7U8v5urNa092HTXkcVzRzsRWzab+cRrGp4zNXKOGAZSCCLgjpEg4TFu+KxNI2y0smXTXnAk3+E1+DX9gw3+GJWY5XLbWFO+c06drb/NN7e68aTj5s/72uKW2cM9Tk1rIXJsADvPAHcTNmN2lQoW5aqqE7gTqfdvlHURq2DVBicItFgoQhCMp/Lbn6MDJj1aj41qSulI06SksUBZ733X/KCP1jS8RZLj6JpcsKiml6YOm+3zmA2phyCRWSwfITfTNvtec02uA2iLqw8Z3p5p8y9hLjbtFMuETKuTxmmMtha2ulo1bxJUzCbWw9dylKsjsBcgHo4jiJjhsdam71qlIAVSgKE2HOsoN/zcZHx4/wDmGCPTlqj3WEqqyg4KsCLg4+xB6RywjUnEq/w21sPVqGnTrI78Ad/Zx908xe18NRcJVrIjHoJ3dvD3yNtZQMRgLAaViB2cm2k0bFrU6b4wVWVavLsXzkAlD5h1/Lb/AFjTxmauaGISoC1NgwBKkjiN4m2UvgsV8XqZLZOXqZbaC2bS3ul1LPljqeNwiIlZIiICIiAiIgIiICQ9p/he8SZIO1zaie0RRViekzUKkiVtrUFH4gPUP6/WccaTbzLCV1ZmVWBK7wDule2MDU3KHMQDu42lNsvElTmcndzSu8frETrrHYV6gRGY/lBM4Zs2IYu5Jvu7J0bbR5Wm1JlKmopVTv5x014dEq6CKEW+lgBNX18N/jyo9PZ4W2sn08IjC2t+ixmhsQg3tJOzMVRqVVXNbXeb2ia72SRXNyiLUW5IuRqd1t/XJWxqR5a2YXToA6D/ALGWPhFhuSrEjdUFyOi+4yHs2nU5QNqOdre2o1mu3l+12xkd94mxmmms2q++co61qrNIjGbXqXmhzrvt1wPBg0qasNwB004zq9hC1IjrlDyPJnfcFRY/GX+w/wAI+1O8rj0sMP8Ahp7I+U2TXh/w09kfKbIGNRAylWAZSLEEXBB3gieGkpTJlXJa2Wwtbda3CZxA0VMHSdBTakjINyFQQLbrDdNb4FFoVKVFEphlIAUAC5FuiS4hdquwOyaVNKOelSarTRVNTIL3UWuCRfok40lzB8ozAWDWF7HeL8JnEFtrRicHSrACrTSoBuDqDb4z1MLTVOTFNAlrZAoy/DdN0QbUfDYCjRuaVKnTJ35FAv8ACY1tnUKj56lGk7+kyKT8SJKiDb7YNSUlSVUlfNJA5vRpw0jklzZ8ozWtmsL232vwmcQmo6YGirOy0qYL+eQoBa++/GY0dm0KdslCktjcZUUa8d2/UyVELtaGwlI1BVNNDUAsHyjMPfvmXi1Pk+TyJydrZMoy24W3Wm2INrRhsHSogilSSmDvyKBfttNiUlUEKqqCSSAALk7yeszDGVjTpVHAuVUsB2C85v8AeitoClEMdyktfjbttBrp6VNUUKihVGgAFgOwCFpKGZgoDNbMQBc23XPTOdoeEVVlZmWkgU2uSZHqeFz70Wm/G2aEdGuzcOH5QUKQe98wRb343tMsTgaNa3K0qdS27Ooa3xlCvhDX8WWuadMZty869uM1p4TYh/MoUyBvZnyi/AXOsLtdJ4pSysvJplY3ZcosTxI6dw+EzekrWzKGsbi4BsRuI65S7L2viMQ7rySUylrhr9PYd027S2hiMOmcrSIv/eg2rVqSllYqCy3ykgXF99j0TDxanYryaWLZiMotmvfN231vKCj4RVWNslO/v+s8w/hHWckcnTFiR+boNoTXRvSVipZQSpupIBsd1xwlVjsHXeqWFHCVh+RqoIZOrzTfXXokKv4RVkIHJ0zcdGaa/wB562Rm5NOaCdc2tpManVi82VgTh6OQtnYszu1rXZjc2HCTZ5PZUt27SInOY/wnajVdORDZWI849HuhHRxOabwkrhM5whC+kWNvlMP3sbooA9jH6QOoicwPCtyQFoBiTYAMb/Kbjt7Ei+bBMLcW/wBoHQxOZo+FLM1uSVeJLn6SdjtsmioNqbEi9g/+0C4ic7hPCRqr5eSResv/ALSVtLbLYcA5EfdoGPT7oFxKfwpxi0MG1R72DLu6zGA2rWroWWkgHW5+kovCzHtiNn4hWQIab09xve5PV1QK3E7Wy0g63OYgLbr3Spw5NWpmZHZr3sCo+ZkRKuahTW4upB16pkma6kW0N9/Vb5STlbiXXrKOZcgg+aXva/G1x+s8oY/Jci5tukDOmgBGlgd/R7uFpqWpkIsd1jv327YxnqLytjeUN0uN1r9B6f67ZnjMGWUANu6j066X7ZXUq6JUzMoY2tYMRv8A/MsMJXzU0Gmi6dYv09d7xfS/izyZYXZ5KMu87/cJjhsJlNyxsf0ntLbHIMbJnNiOmxvpae4OtnIABHUeiT5er49On2mc2DpVGa5RXJJ6RaxlZQQ3Bci27TTd0yTtKoPFMg6Eb9Z6GUC5Ak6cftudtLyPXbnKeo/6TBcQLHUHXoPSZGxOJmGvbKq8jtUmipXmvlbmRVph3Jvck7t5v0TqNg/hHtnJ4IhmK5lB03kDonabMRFpAIwYcQbzvHCpOH/DT2R8psmvD/hp7I+U2QEREBEh4rauGotkq16VNrXyu6g242M1ft/BfzeH/wA1frAsYld+38F/N4f/ADV+sft/BfzeH/zV+sCxiVv7fwX83h/81frPf2/gv5vD/wCav1gWMSt/b+C/m8P/AJq/WP2/gv5vD/5q/WBZRK39v4L+bw/+av1j9v4L+bw/+av1gWUSt/b+C/m8P/mr9Z7+38F/N4f/ADV+sCxiYU6iuoZSGVhcEG4I4iZwIm1P7NW/w2+U4e6XBKte+Ycxt9rX3Tudpf2et/ht8pyFZ6aAGpVSn7RgQi+elkyvYV87HI27KN+k04k35qB7nfdWsOzSXWCpGrha3IsrMKhtrYNoOmRlqMWTMrIwBBBFrG3G+sDVXxqFAi5rBAq8w9EjPRStTQOrkKttFbp39E206BahTDKCKZuGB1v1zUuHqXV0OTm+dn6esQLXYe0qeHq1AwfVVA5jdF+qbtt7ZSomUK+pFiabW39k0bEqmoRUe2Zqak9tzJ22a38AjouPnAoaeMprWNSq92tZVWmVA909wmPYEgUC6Z25y5ri7E7rTYVqq1qXJimRqCgJJ6bkzfsTMHKhQELNc/8AUeiBHxmIJdcmdNDvpseEjGtUs/KMWXIbfw2DXt8pc7R0rJxKE+69pBxNQFKlipOUggHUaQO+nsRA8nC7US+KqHp5Yzu5w2KRTjK2ckLyh6YGeIxtV6PJMRoDfTeP6Mm0NsU0pkClu03SJtRcPyR5K4e1ybmeYXY1SonKGsFsL21gaTVtiFdFsSLgSadqVm0sCekSoem4qhSxzX33PCWL4aktJWFVizbjcwIVN1D1CwvfoHGZtUHJsWQgmwUkg+6Q2IW973vxjlQd5J+MCThkQ3z7it/eJsr5GQtvfMoB6tJlQorkXmHMQLG51vI+NpMhAYFb2NrnjAsKSCnSVkc3dCCL8JD8IaK08DiVRiwzUdSf7zTccEyoC3mkc3U7+maNu4WpTwOJVgSxalpqelpefZXFAmWRpU8gbn9HCQEwlZtyH3y2wmCbLapa/DQz0Xr9OXircRTCO4TdpvP90H5ma1qKFIYdGh6byRtdAj23lhc+7QfKVZM42OiSuLKXyAC4tc757hsYyuGuSB0dGsiT2RZ8OgalcZhc9V5N2fhbMCuh6ZRYPE5uaSQejrkx9omillPOPTMY7eXwk43azcvWTNdM+S3RYC3zEl4faaOMr7t17zlhUtqdSdfeYFQ752mPPfbusqFOaF3aGVOIqkc0jUfm4yHsnaLaoxvw92+eY6sSQdbTHcmLxupIxFqZ/hCp05gzAqPdp+kjUccAwutx13PytIprldQbGXewtqYRbLisJSb/ANRV1946Zzkjpdb9nrRzZ0o0jmHOLLmHYuY6fCW+FxYolmpLTQnQlVAvOg2ZQwhUvhkpANvKKB8ZPCjgJ6J3zJ6cLzbfbHD/AIaeyPlNk14f8NPZHymycXQiIgcT4S4qlSx1TlFLk06eVQQL+dvJ6JSYWqlXGKamREHOYAi2imw+NpaeFWIFLaXKErdUpmzEai7XGsg1Fw9SrUyV6aHQoWsVII3Nw7YGJxyo9XIKediLObEKMovYcZpwuK5Jn/DqqW5yvbXQag9BlXtAjlSWK6aWVgRew3Wlhsk06mGqozor3zUySN4A0PUYHS7AxGGNOob01Jq3s5W9rCVfKUP2iSCnJh3O8W83T9ZCTEUmw1UlqYdaqsNV3WswmWC2hRR3WoU5Nm0YFbqejtEDdQFGrTdHZUbOSjgjQ9fETThcZURSq1KS8435qnp6CZnTp0mL5cVRQ5zowuD7xumvDUVbNnxFCmoY63BJ7BA2LikWhlBU1ajnM2nNUHX3mY1Xp8nhgCtwambd6XNvPNn16KYind0KFnRiSNxvYzYuJpJhavOplySi6jpbU/CBhs0U2OaoyBKdzluLu19B2TLBUqRHKVnW2uSmpGpvvY8J5gqWBNJTUCs+uvK26eE8wu0AtMLbDug3XIzAdsD6BsH+xYb/AAl+UsJX7AN8Dhv8JflLCBF2n/Zq3+G3ynB0sOpZ7jnBiL/Kd3tX+zVv8NvlOPpUMQ7PWXDmzgc3OvQN+pgRMPdS4UkXY6BiL6TdgEOIq0lcuua9wWNwOEiUazM9QcmQVa5BIuJLwvKNXpiml21tzrfrAvsT4PUKdJ2VnGhPnHfOfoYWmQASy3HnC8v8UcWaLg0h5p/OJz+CNV6auqNl3XLAA2gacJSeliKlJ2JyMFBBOq2uPnMzdwbsbZraseM2cs3jjVGpg80XUsOFt/umhgyrUzJo7jTNugTkw6HdVB6g/wDvIezsDXqVHPKmlSVmGhNybndNTYNuTFQ06WTcAMoN+3fN+FxbqgAplgXO48Sd8DfWwY5ZbO7HLa7Mb2BkXEUlAxe8FVFt+p6SZvGKfxjJkuyjdmHTrvkM4urlrU1UWcNe4F+bvsYH02IiB5OHxrqMVXv6wzuZyjU6bVMZnHOWoSDwgVjVU5KoLi9jJXKUiFCkkMBnA/WMXSpDCO+mfMRf5TXsvEVKJuqgjNqYGFSrTp4tCBzFIGvC2vzk+ni6YrsxUZNR1DgZFxdSrXqU2ZQAzc08ZMDVioo5V5S5vwsBeBQFgzFjbzr2MuP2wOQFPkx+m6Q8Lg1qV2R9wNjaWVfCUlo1DbVV5p4dUCLTxQKUrZbqBvvoR2SNtvGivXBHmqoF+JvcydsvG0qdI5qZJsOjf2SvxLK1XNlIBIJX3wJS41WpIpqAFeggG82Y7F8vh65vexpC/vabq+JovSVVo6nfZRcdsh4HCPVoYmmi5mDJpp0FuMs9lViJMcRWWmpJIAEsDsXFgaUG7y/WUuO8HNp1m/szBRuGZP11nXZHPLXP43EcpUZuvTskeXv7nbR/lm7yfWefudtH+WbvJ9Zy10UcS8/c7aP8s3eT6x+520f5Zu8n1gUimes5Y3JuZd/udtH+WbvJ9Z5+520f5Zu8n1gUt4Jl3+5+0f5Zu8n1j9z9o/yzd5PrLqKzBvZweBA+Jm7EOeUtr2Swp+CO0ARfCtvv5yfWb8X4KY9qrMuGa3RZk+sW/Cz2pKraTZSO4SybwS2gf/pn71P6zJfBTaA18WfvU/umMa1lhMfUwzNURytjvHYN/Gddsfwyp1LLiBkb0x5p7R0Tl08HNoag4V9d/OT7plQ8HMcty2GYAD0k6P8AqlR9Nw/4aeyPlNk14f8ADT2R8pshCIiBregjG7IpPEgGY+KUvVp3RN0QNPilL1ad0R4pS9WndE3RA0+KUvVp3RHitL1ad0TdECh29hHpry2HCjL56ZFII42I6J5sDFLXUislEPvVQliV9LXeOyXxF5HxOBp1VCstsvmldCvsnonSdzx8bP5c7zfLZWfilL1ad0R4pS9WndEheM1cPpX/AIlLorAaj2wPmP0lijhgGUgg6gjUGYsxuXWvxSl6tO6I8VperTuibokV4oAFgLAdAnsRAi7S/s9b2G+UoExSWHPX4y92ubYWueFJvkZymHyvh0qgCzJf6wIFQgYl3zArUuN+4ra36GSdnVQmJpMXFrnUkWEjCmXDBWynPe2nATXUwDVCKfKFSesEiB2uO2jR5Fv4iXI4icypQ4TCpmGlPUXtqeMj1PBy2vjNwOjJaZVtko+GplCVqjUm+jdUDSlNajNmIFgOntnu1MUrMlKnzhmDMVtoALAdus92RhQHc1FDsthZ93Tvk2tszDsyvlKMWAKKeYdeECu5OgVsaNfffnVKW/slhspk5PVgvObeRfzjOpOAo5bcklrbrTgsRmeu1MC1OkzWA6SWO/sEDZRZeUZywu1YjfuUAAf6ywxjIKVSzLfKekcJXGkGJAYi6kXHRNroBTqjfan09m+B9EnsRA8nKjC1WxOJamPznW4/1nVTjcXWdMRXyuQGc6DtgQdpM+qODddbaWmvxzKCOMzx4sbZixy7zLDZWMp0kysgLNrciBBTFM5pKguVa4tLOslek3LMp47xIuZalZQnMJvqBu0ktVeqCrVjamve3wKnCYvk2Zmvcm9xbfJeO2i9VLMlTKekqAJX0hcg7+cJbV9p1Hp5CuggR8PgsRUph0FlUC3m9HbItWuRUzFbFWF90l4evUCCnyhAa3ukWtYVedzhcX64G3DbWCOWtvBHRLjwQ34i+85T8S0jYjaNJ6QpimLHqknwQFjXHDKP1aB0k9iIHk9nkjDHKEZ35oDlONyGyj4wJUSENq0Taz79Ow5iuv8A1Aj3TOtj6aPkZudoPexso7SdIEqJETHqaCViGUOAbEa6zZhcSKuYruBAB4gqrA/90DfPJGxWKamycxSrMF87nXJ6FtrYanXcDwkb9qtlU8mP4gBpWbeCyqM2nN89T06X4ahZRKnFba5IHOigoGLgvvy2Nk05zEG9tJbQET2IHkwxH4b+yflNk14j8N/ZPygMP+Gnsj5TZNeH/DT2R8psgIiICIiAiIgIiICIiB5K98A1Il8KQt9WpHzG7PRPWPhLGeSy2JZqLhMetQlCClUedTbeOscR1iSpoxeCSsAHGo1VgbMp4g9EieNVMPpX59PorKN3tgbu0adkuS+k2z2s4mKOGAKkEHcR0zKZaacVQFWk9MmwdSpI6xaU2E8GBRpCkldsgJIBUdJuZfxA5xPBJFqCotZgwvrlXp4zYfBgF8/Ltf2Fl/ECj/d7/wBdu6J4fB6y28YYAD0R0S9ldt5KjYWoKZA05xJtzRqbfKXmbcS3JqqwWw0rryyV3s+nmr+UkTf+7WoPjD6G/mjom/waoVKeHy1BYE5k1B0IB+d5cS9yTqyJzbZLVadnVbW8YbuCVv7opmLGu5JJJ5o3nWdJEy056n4KIpuKzD/pEVPBYMGBrvzhY80ToJiKqlioYZhvF9fhAzieRA9lRX8H6T1GcvUBZiTa3T7pNr7RoUzZ6qg+iDc/AazT+0Wb8LD1X/vMAg/7tf0mvGp5RDfwXonfUqfFfpMv3cpWtylS3/T9JKyYt970qI/uAufibD9I/ZCN+K9Wr1O5t3RYRk+6m36irrbOwlNlzYlgy7gCpPwAvKYl+XelTVmuSALZWKnjcaaTt6GFp0hanTRB/dUCZLRUMzBQGbebam2681z1xz9az1Or94osL4MJkBdnVukKwIHvyyR+7lL1lT4r9JcT2c3RSDwZpD/mVPiv0nh8GKN78pU+K/SXkQKdfB2mDcVKn/b9JJ2bspMNnyMxz2vmt0X4Drk+ICIiB5IjbOpnNfNZmzWzGwa+a4HQbyZECKNn0wytrcAC999jcX95MybCIanKWObS9jvtuv8AGSIgRvEUyInOtT8zU3GhG/sJE8p4FUXKhZN25j0ZR8kA+PGSogRqmCRqoqkvnAsLMbWvfdu16eNhMP2ZSsRYkdF2PNs2YZfR5wB04DgJLnsCI2zqZTIcxU3zDMefffm4/TTdJU9iAiIgJrxH4b+yflNk14j8N/ZPygMP+Gnsj5TZNeH/AA09kfKbICIiAiIgIiICIiAiIgJpxGJSkAXYLc2HEnqG8zbK/EVVpYnlapCoaYVXO5TclgT0X5vdgTKFdKi5kYML206D0g8DNhEqadctiGq0rckwVS1tGYXsQekWIF+nQdEsVYk2zWPAqLwIb4BqRL4Uhb6tSbzG7PRPZpN+Dx61SVIKVF86m2hHX1jrE35W9L9BNGIJAbKwz2IByjS+6/vtpNXrfbOZ6ZYzH0aABrVFS+7Md/YJsw+JSqgem6up3FTcTgfCCjig6VcUN6WuBotidD0Anf1+6W3ghRrU6VSoQVpOwsCLE2GrC/RuHumWnWzyakYn8+vAjWZZG9L9IGcq/CHHU6WGqI9RVaopCgnU30Ok346q4pPyb8+xsbCwPRecLtuliRV5XFKQ1RRY20FtMvUem3XLLl1LNmPoeGqI1NWpsGQjQqbgibZzHglQr0qBLAqjuSika7hrruvY6fWdChJ/Pr0grrIrdPJhlb0v0Eh7Qq1BSfkn59uacotfhAjeEW0uRRUVwrv8QOPEdsgbGw6025ajTrYhmFs5siWO+2bU7uuc/tinXWsz4kWeoFI4Wtaw4WsdPrOk8FaNelhrOCquxZFI1A06DuvqbRM35d+u+ufxznm5vv8A2tMmLfe9KiP7oLn4mw/SP2Srfi1KtX2nIHdWwkpCTuf/ALd0yyt6X6Ca8r9fDzeM+2FDC06YtTpqnsgCacXtTD0WC1ayIx1sTrb6TTtStWFE8g16lxl5osddR1zhdrUayV3OIUipUOa9jZr7rdm63VM7rWY+lowYAggg6gjcZlKjwXw9Slgqa1AQbkhTvVSbgdXZLeAiIgIiICIiAiIgIiICIiAiIgIiICIiAiIgIiICa8R+G/sn5TZNeI/Df2T8oDD/AIaeyPlNk14f8NPZHymyAiIgIiICIiAiIgIiICa61Zaa5nZVXixAH6zOV9YoMYpq2tyf8LNuzXOfqzWy9dr9cCYStVNCGVhoQbiakqgjIwuw6Ont6u2Qke1eqaNuSIHKFd2fW5Hutc9kkklTmXKOO/f19o+QgbGDgXY83gDr8en9PfM6Nm13W3L6PaOMxp5nsxy26Br8T1/KY4rNlIXLyljlte9+jsgb61dKYzO6oOLEAfrMkcMAVIIO4g3BnzXa1XEOaTYkN5uVC3TYkN7/AJi0u/A41VpVLA8gX0N/zfmt1bt3TA6eoVU2tccBvX39AhgwF3OZeA3/APu/T3zJXsumSw37/lxmkl0sSF10UXPN7f603QNlIB26l6OHAfX3TbXxFOmAajqgO4swHzkLaGdaLinblQpykXvf/wAyJsSoSWbF2FcqMuewPJ5Ruv13uOPugXRAdd9wdxH6ETUXDc0i7rw6Ou/RK/CNZqvJD/4cvzCp0vYZstvy3vu6byazFRmXLYaEC+vVbj/XTA9cMou5zLwG/wD936dkURna+ll6OB4e759k8u5sebmPm6nQcf67JG2pnWhUFK3KheaVvf8A89vTA2Y6qlOtRd3Vb3XnEDeOuTWAZd/WD8jKbZJDBziwortYnNYczKMuXqve/XebMC1i4QHxcv8Aw7btwzWt+XNe1uvohq3ZFhnDdF3Ght0HtmL5l8/njoC/Tp/rSYs5QZ1y23EDp/8AH1mRD3/LmbrPNHTaGXtAZzmuDbQW3X6uz53mdbFU6ZAeoiE7gzAX7Lyu2y1RaD8h+KLWyXvYHUdenRPNluoWp4xkGIJJq5rbvy2v+XLbq39N4FvPZB2QP4PN0p525P2L823Vw6rSdAREQEREBERAREQEREBERAREQEREBERAREQEREBNeI/Df2T8psmvEfhv7J+UBh/w09kfKbJrw/4aeyPlNkBERAREQE8ns8gR6mORajIxsQqm/HMWAA6SeYYXHUiVAqKcwBHXcXGvWN08fBKa3K3bNzdNLc3Pb/8AIfgJop7LsbF25MFCF01yAAXNuIvpwHXAkPjqYamua5qEBba71LDsBCmSJBo7LCFDyjkoVsTl3KrKBoODGSGxdNWKl1DLluL6jMbL8TpA3TRjKlJU/jFMpNrPaxPCx3zfK7EVUpYoVKxCoaeWm7aKpucwvuBPN7bQJmHq02pg0ypQac21hbeJR43a6o2IV6T5cOgqCxF7HUEa36Nx3fKVTIqV6lSkw5GyhmAurOL6g9NhYEj/AEkHaOxqtXFVbW5F8MA3NPOcFsg3677+4QJdPaLlgoUgPS5QkFboToA3bY7uEl7OrCrQpEEXZFZyOsa/GQNkYWrh8OvLWLVVGcWPNIWyre+6w9xvJtTMEdcy8qAdQp3kaG99B9IEnGVaKqBWKZTuDW17B0zOlVptTDIVNO2mWxHC2kpNkVnpHNjmCVGQBHew0F7qTuDdPXpwkimc9apVpfgG1yNzON7DdcWyi9+jqgR8VtlaT4jlKVT/AOGVWuCL2bd09R39k3rjmZiHUgGjyha68xTuD67zYnThKzaezXrYnEgWFFsMufmkXcF8i2v1g/CWOxMHWp0UNfLncAsCCcptYKdegWHx4wNuxa2emGLrUTMchFtBfm5wOm39Xk3G1aAAFc09dQHsfeAZG2gjGjUWnlz5SBlUjU9F7yDsNxhkIxbCnVYLlaoQLoF0UE9IN7j39MC8WojU8wKlCNCNQR1W3yMbBrve482x1X2j9f8AzDwwJepUp6UGe69FzYBmGo5pP63PTJt7grdMq+cMp39Atf8ArSBgmZdal8rbgu8dR+en+kk0QDrppuXh29c08m+mdhb8pseaei+u/r93bH2i1RqNTkyOWAsMoIN+F7/CBKxtbDrYVzT4gPY+8A/Obi6FAQQykaW1vwtaVGy8SKOc4xlp13sxZyFDLlFgCdNNbjjc9MzwinNUdQRRdyaYseAzEDTQm5HH3wMK+0xSxDUnRi4pGoHVltlGhBufO7ZhgdqZxQLI5WupdcpHNQbgwvfpG7jNG1ME9fGUMtuR5N0qkKQLXVgtr7yR8+Ey8HNnVaVFOWstTLkp3B5qqTlG/edSeN4G7Z2PepVplSGV3qDKAP4dNbhWuOJHvv1SyxlfDKwFY0sw1GexI69d3bIO0zUNBzh7Crp5i2NwdRvsdLz3Z2KSirjFOlOuWLOWIXPfcVvvAFhputaBcKQQCNQdxE9kHZK2pGwKoXYopFrKTpp0cbdF5NgQsXVblVp8ryK5C2YZbsQd3OBGg1/ozTh9qEqoYLmOQDW2bOxUMBwsLyxemrCzAEcCLz001JvYXHTbWBVYXazstPMKZJFPNZtb1PRFtw+vCKe12qNhwgQCpkL3a9g6O1h1goPjLFMMisWCgNxt8uEKKe4ZN97C2/j8YG6JDG0aZqNSFy6sFIt6QuD2WB+BkuB7ERAREQEREBERAREQEREBERAREQE14j8N/ZPymya8R+G/sn5QGH/DT2R8psmvD/hp7I+U2QEREBERA8ldgNpPWqVE5HLyTlHOe4BsCttNbgjhaTq1MshUMyEjzltcdl5Fwey6dGo9RC3PtmBOhI3seLHjArHxT1a1a7YpUpuUVaCC2gFyWsSTcy02WOYda51/54sfdpumNbZamo1RKlWiz2z8mRZiNASCCL20vN9DDFEZTWqOT+Zstx2WAEDkziqtbEV1ovVWpUrkYdi5FMLSsKptfW5zaWnQvswmtyxbnXJIA84WGQe4i/vMxo7BpJToorVP4NQ1Ea4zXa+a5tqDcy0ga8MWNNC/n5Rm7bazHE4mnTAzm2bQCxJPYBqZulfXqClieVqaI1MKr20QgksDwvddf7vZAl4fEJUW6MCAbHqPAjoPVMWqBDYajpA/L9BIdIGrWqVaRK0yqre1uUIvqOoAgX6ZvJtzMxTjoBp1dsDJ0NQFmOVR5tvmT0/1xmtVsFe1lG5fR4g/1pMhSZbEsQg3Cw5vX/W75eVcxzKjm7g2NhYNbj9OED3GbTw9FQ1Woqht19b232A4TOnjadSlylN1dToCDpfhOD2vsWthsha7qV85QSFa5JXq33v0y48E9m1Qj1GDIrMMqnTNpYt8h12gXyqF84FgN3FTxJ6P9JudWA55zL6I0P8A7v0noNhYsV/ulR+nH3TBabKQWY5ejQc3t/rSB7QIBF9w80ej1H6+7txx+08PQsK1RVLbgdSeuwmGOotVpOlNucVIDWAAJ6/pOJ21suth6oz5qilVCuASNBbL1WN/jA74YpHpB0ZXVvNI1BmhVAIuC1vN180nieMpfBbZlZaJd8yhnJSmdNLAE67ibbp0FwBYsR/dKj9B0+6B46sBzzmX0Rp//X6dk1IcpDHcNLeiOB6+v3dua02Ugsxt0bub1H6+7t07Rw71qLpTbnMpAYgAD32v8IGzG7Vw1HKKtVAWFwN+nGw6OubWxKPTDIwdXHNI1BHEcZ8/2tsqrhqpVgzqQMjgEggAC3VY30nR+DGzKqYfNUDDMxK0zpYHpseJubQLdFAIuLncrA+b1E8f67dlVSB/E54Olhp+nT/WkyJ0sWPDLlF+y0xRGU3dzu0OmnV/v0wMKbZWzMQb6E8PoePH3TzGbYwtFgtWsita9t9gdxNtw65p2tg3xNBqdNtWsMxAAtfUaamcRtTZtXD13RldrnmvlJzi2m7ptpbqgfSqbhlDKQVIuCDcET1r2NtD0Sp8GMLUo4NFqghrkhTvUE3AlnWz5Dky57aZr2v12gVeytoVqr5HyZqZqLWCg71YBCNTYEa21kKnRfEVa7Ph1rlarIA1YgIB5oC2001v03l5g8KKYY6F6jZqjAWubW+AAA90wxGzKFV870wXtYsLgkdAJG+A2bRFKmRyK0dScqtmHbewnI7NpHEVqYKpS8YrNikqjziqMAEUaZdLG9zoTOxp4GmtNqarZG3i51vv1veYrs2iBSUUwBRN6e/m9GkDWdnBX5VSWqqHyljYEub62HRuHAEyOmCxKoVFVbFSLEsTfJYEN0XbXdLeIGKAhRffbWZREBERAREQEREBERAREQEREBERATXiPw39k/KbJrxH4b+yflAYf8NPZHymya8P+Gnsj5TZAREQEREBERAREQEREBIuO2jRwyhqzhATYbyT2AamSZyXhns+s9SnWRGqIEykKCSpvfcNbH/SB0eH2jRq0uVpOHXdpx4EHUGeIM17jMb3t0X4n6dE57wT2TUAepVV0VrZFYWuRfnFT22F51IpkfnPwX6QNfIt0tceib2+O/4zBjYW80dAP5T1cR8pv5M+m3wX6TCthy6MudtRbcunXugam2lSAXnXJvzUBc6b9FBOk3UcVTdM6tcDQ6EEHgQdQeqVOzsEmz2ZbVGRwLVMpYgi91IUaDpHRqZJw9DlatStZ0QhQoItmIvdip7QNRfSBKvn1K5uA6B7+PZPeRbpOceid3+/vvNnJn02+C/SOTPpt8F+kDWlQKcp0HA7x/t1zyvjqdMgMSWIvZFZzbjZQdOueYvCGrTamajDMLXsul/dIGBpjBF6bCoyEgpUys9wFAynKNLWNtLa9sCzp4lHTOrArxHHh29Uw8/XLmPRwX39J7JFwmGzvVqkMiu91Ui25QMxUjQm3T0Adcn8mfTb4L9IGvkD0nOPRP8AWvvhKoU5Tu6L7x1Hq65syH02+C/SaMbguWpNTNRgGFr2XT9IHtfH06bZSWLWvZEZyBxIUGwmxMSjIHVgyncR09UrcCBg89NxUKkgpUys+YZQLHKNCLWtwtabsFhczVKrBkzvmVDbQWAuQdxJF/8Ae8CTbPra56D0L2Hf7xBon838QcD/AKdHx+M28mfTb4L9I5M+m3wX6QMKdYA2J7Cd/YfrNdfaNKmxUliw1IVHa3blBt75htHZ3jFI02qMAbXIC3te/CR8HUGFVqVQVScxIcIz5wdxuoOoGljw4QLOnUV1DKQykXBBuDMpE2bTZaZLLkzuzhPRDG9u3p98mQEREBERAREQEREBERAREQEREBERAREQEREBERATXiPw39k/KbJrxH4b+yflAYf8NPZHymya8P8Ahp7I+U2QEREBERAREQEREBERAREQPJ7EQERECBidoiniadJiiq1NnLMbEZSoHxzfpJ0rMds16prMGW9RUQA38xWzOCejNcj4Tdh1YYmpcMQaSDNYhSwLZrdA0KwJ0REBIFHaIOJq0SyDIVVddSSuYi3ZY/8AiT5U/sypmRs638Yeq2/W4Kp22Uj3gcIFtErdkpY1TlqKpIADgjdcX13k7yezrllATyezCqpKsAbEggG17HjAh7L2iK6EkqGu2g9FXKhvfa/VeTgwO4gyrGz3ogtSOcrQFJEsBcre2pOlydeyZYLBNTKlFFMJSFMAgEtbeSFPVpr0mBZxIWLpOTRNg5WpmJUAWFiOk9cmwEREDyexEBERAREQEREBERAREQEREBERAREQEREBERAREQE14j8N/ZPymya8R+G/sn5QGH/DT2R8pslXRrvkXnHzR8pl4w/pGBZRK3xh/SMeMP6RgWUSt8Yf0jHjD+kYFlErfGH9Ix4w/pGBZRK3xh/Sjxh/SMCyiVvjD+kY8Yf0jAsolb4w/pGPGH9IwLKJW+MP6Rjxh/SMCyiVvjD+kY8Yf0oFlErfGH9Ix4w/pGBZRK3xh/SMeMP6RgWU8ld4w/pGPGH9IwLGeyt8Yf0jHjD+kYFlErfGH9Ix4w/pGBYxK7xh/SM5Ta2MLYrFUzicSlUIrUUp1GVTZbtoOmFk13s8ny1tplqVIUsXjGrsxDLytTLr5uXXfOh2BjQcViEo4mvWpoiAmq5bnXIbLfo0ELec+47KJW+MP6Rjxh/SMMrKJW+MP6Rjxh/SMCyiVvjD+kY8Yf0jAsolb4w/pGPGH9IwLKJW+MP6Rjxh/SMCyiVvjD+kY8Yf0jAsolb4w/pGPGH9IwLKJW+MP6Rjxh/SMCyiVvjD+kY8Yf0jAsolb4w/pGPGH9IwLKJW+MP6Rjxh/SMCyiVvjD+kY8Yf0jAsolb4w/pGPGH9IwLKa8R+G/sn5SuTHFiVD3I3j+uwxWrvkbnHzT8oGuj5i9g+UrMVgsQ2KFdSgCWVRc3KkHP1byD/ANAl7RpLkXT8o+Uz5JeEDmcRs/FtQanyhbMhBu9ucaYBN7ebmzadc3thcVmQirpnYsL7hmGS3VluLdfwv+SXhHJLwgUeCw+KWoOVqhqYv26c1b6dI5x6xIlPZ2IQ1eTyqHa98wLbyfOAFxqPOud/v6fkl4RyS8IHOvhsab2qCxC6X4AZ+G86jXTXjpOXCEtRd6j56akEA2ViRYlh09UtOSXhHJLwgcz+zK4LtTCU3vUIqZrlsxOQEW3C433tabPF8YCpNS6hTp03udDx0sOndOi5JeEckvCBz1PDYh8K6ubu2QqGa5Fspa5sLXIOnRMsThsS5qMjckWU2AYecFstzbUZrS/5JeEckvCBz7YfF3qfxBYtpY25t+jgQLCZPg674aulR81SomVdeaDkAO4aXbNL7kl4RyS8IHM/s7FoXCVRbMArX52QKQt77yDbtt7pIFDFE2Z7KHPODalTUzbraWTmy+5JeEckvCBQYfC4jlVaqwKh8wF725rg2+K/rI37KxKMWp1FF2qvZiTlZrhCOogi46CJ1HJLwjkl4QOc8TxQ56vd8lhmbS4e9iNb802v1T0YXGAa1cxuQOcBoMoVm01vZiRxadFyS8I5JeEDnxg8QKiPyl94e51ILEqAbaAC3ba0mbNSqtO1Y3YHfe5I6+vf/WktOSXhHJLwgRYkrkl4RyS8IEWJK5JeEckvCBFiSuSXhHJLwgRZ898J8QaW1TUUAlMjAHcSADrPpnJLwkPEbFwtVi9TD03Y7ywuYHDviTRD7RWkmXErkpIV0Rz+IRwtlNuObqM2/wDD7z8R7KfMzsTsLCFQhw9MqNQttATvsJtwuysPRuaVFKd9+UWvA8iSeSXhHJLwgRoknkl4RyS8IEaJJ5JeEckvCBGiSeSXhHJLwgRoknkl4RyS8IEaJJ5JeEckvCBGiSeSXhHJLwgRoknkl4RyS8IEaJJ5JeEckvCBGiSeSXhHJLwgRoknkl4RyS8IEaJJ5JeEckvCBGiSeSXhHJLwgQkp2ZmJuWPwAFgPmfeZ7V8xvZPykzkl4TGtSXI2n5T8oGdHzF9kfKZzCj5i+yPlM4CIiAiIgIiICIiAiIgIiICIiAiIgIiICIiAiIgIiICIiAiIgIiICIiAiIgIiICIiAiIgIiICIiAiIgIiICIiAiIgIiICIiAmFbzG9k/KZzCt5jeyflAUfMX2R8pnPmi/wDEDFgAcnh9BbzX+6e+ULGerw/df74H0qJ818oWM9Xh+6/3x5QsZ6vD91/vgfSonzXyhYz1eH7r/fHlCxnq8P3X++B9KifNfKFjPV4fuv8AfHlCxnq8P3X++B9KifNfKFjPV4fuv98eULGerw/df74H0qJ818oWM9Xh+6/3x5QsZ6vD91/vgfSonzXyhYz1eH7r/fHlCxnq8P3X++B9KifNfKFjPV4fuv8AfHlCxnq8P3X++B9KifNfKFjPV4fuv98eULGerw/df74H0qJ818oWM9Xh+6/3x5QsZ6vD91/vgfSonzXyhYz1eH7r/fHlCxnq8P3X++B9KifNfKFjPV4fuv8AfHlCxnq8P3X++B9KifNfKFjPV4fuv98eULGerw/df74H0qJ818oWM9Xh+6/3x5QsZ6vD91/vgfSonzXyhYz1eH7r/fHlCxnq8P3X++B9KifNfKFjPV4fuv8AfHlCxnq8P3X++B9KifNfKFjPV4fuv98eULGerw/df74H0qJ818oWM9Xh+6/3x5QsZ6vD91/vgfSonzXyhYz1eH7r/fHlCxnq8P3X++B9KifNfKFjPV4fuv8AfHlCxnq8P3X++B9KifNfKFjPV4fuv98eULGerw/df74H0qJ818oWM9Xh+6/3x5QsZ6vD91/vgfSonzXyhYz1eH7r/fHlCxnq8P3X++B9KifNfKFjPV4fuv8AfHlCxnq8P3X++B9KifNfKFjPV4fuv98eULGerw/df74H0qJ818oWM9Xh+6/3x5QsZ6vD91/vgfSonzXyhYz1eH7r/fHlCxnq8P3X++B9KifNfKFjPV4fuv8AfHlCxnq8P3X++B9KifNfKFjPV4fuv98eULGerw/df74H0qYVvMb2T8p848oWM9Xh+6/3zxv+IGLII5PD6i3mv90DlIiICIiAiIgIiICIiAiIgIiICIiAiIgIiICIiAiIgIiICIiAiIgIiICIiAiIgIiICIiAiIgIiICIiAiIgIiICIiAiIgIiICIiAiIgIiICIiAiIgIiICIiAiIgIiICIiAiIgIiICIiAiIgIiICIiAiIgIiICIiAiIgIiICIiAiIgIiICIiAiIgIiICIiAiIgIiICIiAiIgIiICIiAiIgIiICIiAiIgIiICIiAiIgIiICIiAiIgIiICIiAiIgIiICIiAiIgIiICIiAiIgIiICIiAiIgIiICIiAiIgIiICIiAiIgf/Z\n"
              }
            ],
            "_view_module": "@jupyter-widgets/output",
            "_model_module_version": "1.0.0",
            "_view_count": null,
            "_view_module_version": "1.0.0",
            "layout": "IPY_MODEL_dc0dc02bb342467e8f772a4ca77078de",
            "_model_module": "@jupyter-widgets/output"
          }
        },
        "839431612bd64a459720fca16eff84bb": {
          "model_module": "@jupyter-widgets/output",
          "model_name": "OutputModel",
          "state": {
            "_view_name": "OutputView",
            "msg_id": "",
            "_dom_classes": [],
            "_model_name": "OutputModel",
            "outputs": [
              {
                "output_type": "stream",
                "metadata": {
                  "tags": []
                },
                "text": "Video available at https://www.bilibili.com/video/BV1Qf4y1578t\n",
                "stream": "stdout"
              },
              {
                "output_type": "display_data",
                "metadata": {
                  "tags": []
                },
                "text/html": "\n        <iframe\n            width=\"854\"\n            height=\"480\"\n            src=\"https://player.bilibili.com/player.html?bvid=BV1Qf4y1578t&page=1?fs=1\"\n            frameborder=\"0\"\n            allowfullscreen\n        ></iframe>\n        ",
                "text/plain": "<__main__.BiliVideo at 0x7ff37abbfc50>"
              }
            ],
            "_view_module": "@jupyter-widgets/output",
            "_model_module_version": "1.0.0",
            "_view_count": null,
            "_view_module_version": "1.0.0",
            "layout": "IPY_MODEL_21357a24950c436882a9e999f99b8ce0",
            "_model_module": "@jupyter-widgets/output"
          }
        },
        "dc0dc02bb342467e8f772a4ca77078de": {
          "model_module": "@jupyter-widgets/base",
          "model_name": "LayoutModel",
          "state": {
            "_view_name": "LayoutView",
            "grid_template_rows": null,
            "right": null,
            "justify_content": null,
            "_view_module": "@jupyter-widgets/base",
            "overflow": null,
            "_model_module_version": "1.2.0",
            "_view_count": null,
            "flex_flow": null,
            "width": null,
            "min_width": null,
            "border": null,
            "align_items": null,
            "bottom": null,
            "_model_module": "@jupyter-widgets/base",
            "top": null,
            "grid_column": null,
            "overflow_y": null,
            "overflow_x": null,
            "grid_auto_flow": null,
            "grid_area": null,
            "grid_template_columns": null,
            "flex": null,
            "_model_name": "LayoutModel",
            "justify_items": null,
            "grid_row": null,
            "max_height": null,
            "align_content": null,
            "visibility": null,
            "align_self": null,
            "height": null,
            "min_height": null,
            "padding": null,
            "grid_auto_rows": null,
            "grid_gap": null,
            "max_width": null,
            "order": null,
            "_view_module_version": "1.2.0",
            "grid_template_areas": null,
            "object_position": null,
            "object_fit": null,
            "grid_auto_columns": null,
            "margin": null,
            "display": null,
            "left": null
          }
        },
        "21357a24950c436882a9e999f99b8ce0": {
          "model_module": "@jupyter-widgets/base",
          "model_name": "LayoutModel",
          "state": {
            "_view_name": "LayoutView",
            "grid_template_rows": null,
            "right": null,
            "justify_content": null,
            "_view_module": "@jupyter-widgets/base",
            "overflow": null,
            "_model_module_version": "1.2.0",
            "_view_count": null,
            "flex_flow": null,
            "width": null,
            "min_width": null,
            "border": null,
            "align_items": null,
            "bottom": null,
            "_model_module": "@jupyter-widgets/base",
            "top": null,
            "grid_column": null,
            "overflow_y": null,
            "overflow_x": null,
            "grid_auto_flow": null,
            "grid_area": null,
            "grid_template_columns": null,
            "flex": null,
            "_model_name": "LayoutModel",
            "justify_items": null,
            "grid_row": null,
            "max_height": null,
            "align_content": null,
            "visibility": null,
            "align_self": null,
            "height": null,
            "min_height": null,
            "padding": null,
            "grid_auto_rows": null,
            "grid_gap": null,
            "max_width": null,
            "order": null,
            "_view_module_version": "1.2.0",
            "grid_template_areas": null,
            "object_position": null,
            "object_fit": null,
            "grid_auto_columns": null,
            "margin": null,
            "display": null,
            "left": null
          }
        },
        "f3ed7aa8a93b4bd8bf473927c361750e": {
          "model_module": "@jupyter-widgets/controls",
          "model_name": "TabModel",
          "state": {
            "_view_name": "TabView",
            "_dom_classes": [],
            "_titles": {
              "0": "Youtube",
              "1": "Bilibili"
            },
            "_model_name": "TabModel",
            "_view_module": "@jupyter-widgets/controls",
            "selected_index": 0,
            "_model_module_version": "1.5.0",
            "_view_count": null,
            "_view_module_version": "1.5.0",
            "box_style": "",
            "layout": "IPY_MODEL_bb2ca1ff37694855813a077939ec46b1",
            "_model_module": "@jupyter-widgets/controls",
            "children": [
              "IPY_MODEL_0087b00da4f34a97b9f319be16422b4f",
              "IPY_MODEL_d88fde2fe46f4702a8b4cbae83b0e792"
            ]
          }
        },
        "bb2ca1ff37694855813a077939ec46b1": {
          "model_module": "@jupyter-widgets/base",
          "model_name": "LayoutModel",
          "state": {
            "_view_name": "LayoutView",
            "grid_template_rows": null,
            "right": null,
            "justify_content": null,
            "_view_module": "@jupyter-widgets/base",
            "overflow": null,
            "_model_module_version": "1.2.0",
            "_view_count": null,
            "flex_flow": null,
            "width": null,
            "min_width": null,
            "border": null,
            "align_items": null,
            "bottom": null,
            "_model_module": "@jupyter-widgets/base",
            "top": null,
            "grid_column": null,
            "overflow_y": null,
            "overflow_x": null,
            "grid_auto_flow": null,
            "grid_area": null,
            "grid_template_columns": null,
            "flex": null,
            "_model_name": "LayoutModel",
            "justify_items": null,
            "grid_row": null,
            "max_height": null,
            "align_content": null,
            "visibility": null,
            "align_self": null,
            "height": null,
            "min_height": null,
            "padding": null,
            "grid_auto_rows": null,
            "grid_gap": null,
            "max_width": null,
            "order": null,
            "_view_module_version": "1.2.0",
            "grid_template_areas": null,
            "object_position": null,
            "object_fit": null,
            "grid_auto_columns": null,
            "margin": null,
            "display": null,
            "left": null
          }
        },
        "0087b00da4f34a97b9f319be16422b4f": {
          "model_module": "@jupyter-widgets/output",
          "model_name": "OutputModel",
          "state": {
            "_view_name": "OutputView",
            "msg_id": "",
            "_dom_classes": [],
            "_model_name": "OutputModel",
            "outputs": [
              {
                "output_type": "stream",
                "metadata": {
                  "tags": []
                },
                "text": "Video available at https://youtube.com/watch?v=UwgA_SgG0TM\n",
                "stream": "stdout"
              },
              {
                "output_type": "display_data",
                "metadata": {
                  "tags": []
                },
                "text/html": "\n        <iframe\n            width=\"854\"\n            height=\"480\"\n            src=\"https://www.youtube.com/embed/UwgA_SgG0TM?fs=1&rel=0\"\n            frameborder=\"0\"\n            allowfullscreen\n        ></iframe>\n        ",
                "text/plain": "<IPython.lib.display.YouTubeVideo at 0x7ff37a615d50>",
                "image/jpeg": "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\n"
              }
            ],
            "_view_module": "@jupyter-widgets/output",
            "_model_module_version": "1.0.0",
            "_view_count": null,
            "_view_module_version": "1.0.0",
            "layout": "IPY_MODEL_5e8cc2756c5f4652ad3a64342ed2af0b",
            "_model_module": "@jupyter-widgets/output"
          }
        },
        "d88fde2fe46f4702a8b4cbae83b0e792": {
          "model_module": "@jupyter-widgets/output",
          "model_name": "OutputModel",
          "state": {
            "_view_name": "OutputView",
            "msg_id": "",
            "_dom_classes": [],
            "_model_name": "OutputModel",
            "outputs": [
              {
                "output_type": "stream",
                "metadata": {
                  "tags": []
                },
                "text": "Video available at https://www.bilibili.com/video/BV1Pq4y1p7em\n",
                "stream": "stdout"
              },
              {
                "output_type": "display_data",
                "metadata": {
                  "tags": []
                },
                "text/html": "\n        <iframe\n            width=\"854\"\n            height=\"480\"\n            src=\"https://player.bilibili.com/player.html?bvid=BV1Pq4y1p7em&page=1?fs=1\"\n            frameborder=\"0\"\n            allowfullscreen\n        ></iframe>\n        ",
                "text/plain": "<__main__.BiliVideo at 0x7ff37a64fbd0>"
              }
            ],
            "_view_module": "@jupyter-widgets/output",
            "_model_module_version": "1.0.0",
            "_view_count": null,
            "_view_module_version": "1.0.0",
            "layout": "IPY_MODEL_3257a702af4f45eb9e80903e7ca1a5f0",
            "_model_module": "@jupyter-widgets/output"
          }
        },
        "5e8cc2756c5f4652ad3a64342ed2af0b": {
          "model_module": "@jupyter-widgets/base",
          "model_name": "LayoutModel",
          "state": {
            "_view_name": "LayoutView",
            "grid_template_rows": null,
            "right": null,
            "justify_content": null,
            "_view_module": "@jupyter-widgets/base",
            "overflow": null,
            "_model_module_version": "1.2.0",
            "_view_count": null,
            "flex_flow": null,
            "width": null,
            "min_width": null,
            "border": null,
            "align_items": null,
            "bottom": null,
            "_model_module": "@jupyter-widgets/base",
            "top": null,
            "grid_column": null,
            "overflow_y": null,
            "overflow_x": null,
            "grid_auto_flow": null,
            "grid_area": null,
            "grid_template_columns": null,
            "flex": null,
            "_model_name": "LayoutModel",
            "justify_items": null,
            "grid_row": null,
            "max_height": null,
            "align_content": null,
            "visibility": null,
            "align_self": null,
            "height": null,
            "min_height": null,
            "padding": null,
            "grid_auto_rows": null,
            "grid_gap": null,
            "max_width": null,
            "order": null,
            "_view_module_version": "1.2.0",
            "grid_template_areas": null,
            "object_position": null,
            "object_fit": null,
            "grid_auto_columns": null,
            "margin": null,
            "display": null,
            "left": null
          }
        },
        "3257a702af4f45eb9e80903e7ca1a5f0": {
          "model_module": "@jupyter-widgets/base",
          "model_name": "LayoutModel",
          "state": {
            "_view_name": "LayoutView",
            "grid_template_rows": null,
            "right": null,
            "justify_content": null,
            "_view_module": "@jupyter-widgets/base",
            "overflow": null,
            "_model_module_version": "1.2.0",
            "_view_count": null,
            "flex_flow": null,
            "width": null,
            "min_width": null,
            "border": null,
            "align_items": null,
            "bottom": null,
            "_model_module": "@jupyter-widgets/base",
            "top": null,
            "grid_column": null,
            "overflow_y": null,
            "overflow_x": null,
            "grid_auto_flow": null,
            "grid_area": null,
            "grid_template_columns": null,
            "flex": null,
            "_model_name": "LayoutModel",
            "justify_items": null,
            "grid_row": null,
            "max_height": null,
            "align_content": null,
            "visibility": null,
            "align_self": null,
            "height": null,
            "min_height": null,
            "padding": null,
            "grid_auto_rows": null,
            "grid_gap": null,
            "max_width": null,
            "order": null,
            "_view_module_version": "1.2.0",
            "grid_template_areas": null,
            "object_position": null,
            "object_fit": null,
            "grid_auto_columns": null,
            "margin": null,
            "display": null,
            "left": null
          }
        },
        "a858058684ee4dfb8b9cf8fbdd801d55": {
          "model_module": "@jupyter-widgets/controls",
          "model_name": "TabModel",
          "state": {
            "_view_name": "TabView",
            "_dom_classes": [],
            "_titles": {
              "0": "Youtube",
              "1": "Bilibili"
            },
            "_model_name": "TabModel",
            "_view_module": "@jupyter-widgets/controls",
            "selected_index": 0,
            "_model_module_version": "1.5.0",
            "_view_count": null,
            "_view_module_version": "1.5.0",
            "box_style": "",
            "layout": "IPY_MODEL_6b2a097c65154d1c89b703d769cd120c",
            "_model_module": "@jupyter-widgets/controls",
            "children": [
              "IPY_MODEL_26656df853244523b80751cdc375c92c",
              "IPY_MODEL_ebec210b83b1478fb34f7422626ded79"
            ]
          }
        },
        "6b2a097c65154d1c89b703d769cd120c": {
          "model_module": "@jupyter-widgets/base",
          "model_name": "LayoutModel",
          "state": {
            "_view_name": "LayoutView",
            "grid_template_rows": null,
            "right": null,
            "justify_content": null,
            "_view_module": "@jupyter-widgets/base",
            "overflow": null,
            "_model_module_version": "1.2.0",
            "_view_count": null,
            "flex_flow": null,
            "width": null,
            "min_width": null,
            "border": null,
            "align_items": null,
            "bottom": null,
            "_model_module": "@jupyter-widgets/base",
            "top": null,
            "grid_column": null,
            "overflow_y": null,
            "overflow_x": null,
            "grid_auto_flow": null,
            "grid_area": null,
            "grid_template_columns": null,
            "flex": null,
            "_model_name": "LayoutModel",
            "justify_items": null,
            "grid_row": null,
            "max_height": null,
            "align_content": null,
            "visibility": null,
            "align_self": null,
            "height": null,
            "min_height": null,
            "padding": null,
            "grid_auto_rows": null,
            "grid_gap": null,
            "max_width": null,
            "order": null,
            "_view_module_version": "1.2.0",
            "grid_template_areas": null,
            "object_position": null,
            "object_fit": null,
            "grid_auto_columns": null,
            "margin": null,
            "display": null,
            "left": null
          }
        },
        "26656df853244523b80751cdc375c92c": {
          "model_module": "@jupyter-widgets/output",
          "model_name": "OutputModel",
          "state": {
            "_view_name": "OutputView",
            "msg_id": "",
            "_dom_classes": [],
            "_model_name": "OutputModel",
            "outputs": [
              {
                "output_type": "stream",
                "metadata": {
                  "tags": []
                },
                "text": "Video available at https://youtube.com/watch?v=8s22ffAfGwI\n",
                "stream": "stdout"
              },
              {
                "output_type": "display_data",
                "metadata": {
                  "tags": []
                },
                "text/html": "\n        <iframe\n            width=\"854\"\n            height=\"480\"\n            src=\"https://www.youtube.com/embed/8s22ffAfGwI?fs=1&rel=0\"\n            frameborder=\"0\"\n            allowfullscreen\n        ></iframe>\n        ",
                "text/plain": "<IPython.lib.display.YouTubeVideo at 0x7ff37a1e2d50>",
                "image/jpeg": "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\n"
              }
            ],
            "_view_module": "@jupyter-widgets/output",
            "_model_module_version": "1.0.0",
            "_view_count": null,
            "_view_module_version": "1.0.0",
            "layout": "IPY_MODEL_39703e39eeda446182b210e2217c3463",
            "_model_module": "@jupyter-widgets/output"
          }
        },
        "ebec210b83b1478fb34f7422626ded79": {
          "model_module": "@jupyter-widgets/output",
          "model_name": "OutputModel",
          "state": {
            "_view_name": "OutputView",
            "msg_id": "",
            "_dom_classes": [],
            "_model_name": "OutputModel",
            "outputs": [
              {
                "output_type": "stream",
                "metadata": {
                  "tags": []
                },
                "text": "Video available at https://www.bilibili.com/video/BV1Rf4y157bw\n",
                "stream": "stdout"
              },
              {
                "output_type": "display_data",
                "metadata": {
                  "tags": []
                },
                "text/html": "\n        <iframe\n            width=\"854\"\n            height=\"480\"\n            src=\"https://player.bilibili.com/player.html?bvid=BV1Rf4y157bw&page=1?fs=1\"\n            frameborder=\"0\"\n            allowfullscreen\n        ></iframe>\n        ",
                "text/plain": "<__main__.BiliVideo at 0x7ff3718a4a10>"
              }
            ],
            "_view_module": "@jupyter-widgets/output",
            "_model_module_version": "1.0.0",
            "_view_count": null,
            "_view_module_version": "1.0.0",
            "layout": "IPY_MODEL_73de3cbe561e467c909d2dca61c40ac9",
            "_model_module": "@jupyter-widgets/output"
          }
        },
        "39703e39eeda446182b210e2217c3463": {
          "model_module": "@jupyter-widgets/base",
          "model_name": "LayoutModel",
          "state": {
            "_view_name": "LayoutView",
            "grid_template_rows": null,
            "right": null,
            "justify_content": null,
            "_view_module": "@jupyter-widgets/base",
            "overflow": null,
            "_model_module_version": "1.2.0",
            "_view_count": null,
            "flex_flow": null,
            "width": null,
            "min_width": null,
            "border": null,
            "align_items": null,
            "bottom": null,
            "_model_module": "@jupyter-widgets/base",
            "top": null,
            "grid_column": null,
            "overflow_y": null,
            "overflow_x": null,
            "grid_auto_flow": null,
            "grid_area": null,
            "grid_template_columns": null,
            "flex": null,
            "_model_name": "LayoutModel",
            "justify_items": null,
            "grid_row": null,
            "max_height": null,
            "align_content": null,
            "visibility": null,
            "align_self": null,
            "height": null,
            "min_height": null,
            "padding": null,
            "grid_auto_rows": null,
            "grid_gap": null,
            "max_width": null,
            "order": null,
            "_view_module_version": "1.2.0",
            "grid_template_areas": null,
            "object_position": null,
            "object_fit": null,
            "grid_auto_columns": null,
            "margin": null,
            "display": null,
            "left": null
          }
        },
        "73de3cbe561e467c909d2dca61c40ac9": {
          "model_module": "@jupyter-widgets/base",
          "model_name": "LayoutModel",
          "state": {
            "_view_name": "LayoutView",
            "grid_template_rows": null,
            "right": null,
            "justify_content": null,
            "_view_module": "@jupyter-widgets/base",
            "overflow": null,
            "_model_module_version": "1.2.0",
            "_view_count": null,
            "flex_flow": null,
            "width": null,
            "min_width": null,
            "border": null,
            "align_items": null,
            "bottom": null,
            "_model_module": "@jupyter-widgets/base",
            "top": null,
            "grid_column": null,
            "overflow_y": null,
            "overflow_x": null,
            "grid_auto_flow": null,
            "grid_area": null,
            "grid_template_columns": null,
            "flex": null,
            "_model_name": "LayoutModel",
            "justify_items": null,
            "grid_row": null,
            "max_height": null,
            "align_content": null,
            "visibility": null,
            "align_self": null,
            "height": null,
            "min_height": null,
            "padding": null,
            "grid_auto_rows": null,
            "grid_gap": null,
            "max_width": null,
            "order": null,
            "_view_module_version": "1.2.0",
            "grid_template_areas": null,
            "object_position": null,
            "object_fit": null,
            "grid_auto_columns": null,
            "margin": null,
            "display": null,
            "left": null
          }
        },
        "0731faac56d5415aaaf0488d8a25df49": {
          "model_module": "@jupyter-widgets/controls",
          "model_name": "TabModel",
          "state": {
            "_view_name": "TabView",
            "_dom_classes": [],
            "_titles": {
              "0": "Youtube",
              "1": "Bilibili"
            },
            "_model_name": "TabModel",
            "_view_module": "@jupyter-widgets/controls",
            "selected_index": 0,
            "_model_module_version": "1.5.0",
            "_view_count": null,
            "_view_module_version": "1.5.0",
            "box_style": "",
            "layout": "IPY_MODEL_7e20391aba1343be99bbf90f03a9618d",
            "_model_module": "@jupyter-widgets/controls",
            "children": [
              "IPY_MODEL_9c47bcfc813d4ba597e6bed4f5968980",
              "IPY_MODEL_31d89a78e04f49bb9dc406b5b829b982"
            ]
          }
        },
        "7e20391aba1343be99bbf90f03a9618d": {
          "model_module": "@jupyter-widgets/base",
          "model_name": "LayoutModel",
          "state": {
            "_view_name": "LayoutView",
            "grid_template_rows": null,
            "right": null,
            "justify_content": null,
            "_view_module": "@jupyter-widgets/base",
            "overflow": null,
            "_model_module_version": "1.2.0",
            "_view_count": null,
            "flex_flow": null,
            "width": null,
            "min_width": null,
            "border": null,
            "align_items": null,
            "bottom": null,
            "_model_module": "@jupyter-widgets/base",
            "top": null,
            "grid_column": null,
            "overflow_y": null,
            "overflow_x": null,
            "grid_auto_flow": null,
            "grid_area": null,
            "grid_template_columns": null,
            "flex": null,
            "_model_name": "LayoutModel",
            "justify_items": null,
            "grid_row": null,
            "max_height": null,
            "align_content": null,
            "visibility": null,
            "align_self": null,
            "height": null,
            "min_height": null,
            "padding": null,
            "grid_auto_rows": null,
            "grid_gap": null,
            "max_width": null,
            "order": null,
            "_view_module_version": "1.2.0",
            "grid_template_areas": null,
            "object_position": null,
            "object_fit": null,
            "grid_auto_columns": null,
            "margin": null,
            "display": null,
            "left": null
          }
        },
        "9c47bcfc813d4ba597e6bed4f5968980": {
          "model_module": "@jupyter-widgets/output",
          "model_name": "OutputModel",
          "state": {
            "_view_name": "OutputView",
            "msg_id": "",
            "_dom_classes": [],
            "_model_name": "OutputModel",
            "outputs": [
              {
                "output_type": "stream",
                "metadata": {
                  "tags": []
                },
                "text": "Video available at https://youtube.com/watch?v=2z1YX5PonV4\n",
                "stream": "stdout"
              },
              {
                "output_type": "display_data",
                "metadata": {
                  "tags": []
                },
                "text/html": "\n        <iframe\n            width=\"854\"\n            height=\"480\"\n            src=\"https://www.youtube.com/embed/2z1YX5PonV4?fs=1&rel=0\"\n            frameborder=\"0\"\n            allowfullscreen\n        ></iframe>\n        ",
                "text/plain": "<IPython.lib.display.YouTubeVideo at 0x7ff379967890>",
                "image/jpeg": "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\n"
              }
            ],
            "_view_module": "@jupyter-widgets/output",
            "_model_module_version": "1.0.0",
            "_view_count": null,
            "_view_module_version": "1.0.0",
            "layout": "IPY_MODEL_6c0fdc09ca99483b8631dc3e81c0b608",
            "_model_module": "@jupyter-widgets/output"
          }
        },
        "31d89a78e04f49bb9dc406b5b829b982": {
          "model_module": "@jupyter-widgets/output",
          "model_name": "OutputModel",
          "state": {
            "_view_name": "OutputView",
            "msg_id": "",
            "_dom_classes": [],
            "_model_name": "OutputModel",
            "outputs": [
              {
                "output_type": "stream",
                "metadata": {
                  "tags": []
                },
                "text": "Video available at https://www.bilibili.com/video/BV1c64y1B7ZG\n",
                "stream": "stdout"
              },
              {
                "output_type": "display_data",
                "metadata": {
                  "tags": []
                },
                "text/html": "\n        <iframe\n            width=\"854\"\n            height=\"480\"\n            src=\"https://player.bilibili.com/player.html?bvid=BV1c64y1B7ZG&page=1?fs=1\"\n            frameborder=\"0\"\n            allowfullscreen\n        ></iframe>\n        ",
                "text/plain": "<__main__.BiliVideo at 0x7ff37998bbd0>"
              }
            ],
            "_view_module": "@jupyter-widgets/output",
            "_model_module_version": "1.0.0",
            "_view_count": null,
            "_view_module_version": "1.0.0",
            "layout": "IPY_MODEL_7e797e61bf024dc9a6749ad627bc6452",
            "_model_module": "@jupyter-widgets/output"
          }
        },
        "6c0fdc09ca99483b8631dc3e81c0b608": {
          "model_module": "@jupyter-widgets/base",
          "model_name": "LayoutModel",
          "state": {
            "_view_name": "LayoutView",
            "grid_template_rows": null,
            "right": null,
            "justify_content": null,
            "_view_module": "@jupyter-widgets/base",
            "overflow": null,
            "_model_module_version": "1.2.0",
            "_view_count": null,
            "flex_flow": null,
            "width": null,
            "min_width": null,
            "border": null,
            "align_items": null,
            "bottom": null,
            "_model_module": "@jupyter-widgets/base",
            "top": null,
            "grid_column": null,
            "overflow_y": null,
            "overflow_x": null,
            "grid_auto_flow": null,
            "grid_area": null,
            "grid_template_columns": null,
            "flex": null,
            "_model_name": "LayoutModel",
            "justify_items": null,
            "grid_row": null,
            "max_height": null,
            "align_content": null,
            "visibility": null,
            "align_self": null,
            "height": null,
            "min_height": null,
            "padding": null,
            "grid_auto_rows": null,
            "grid_gap": null,
            "max_width": null,
            "order": null,
            "_view_module_version": "1.2.0",
            "grid_template_areas": null,
            "object_position": null,
            "object_fit": null,
            "grid_auto_columns": null,
            "margin": null,
            "display": null,
            "left": null
          }
        },
        "7e797e61bf024dc9a6749ad627bc6452": {
          "model_module": "@jupyter-widgets/base",
          "model_name": "LayoutModel",
          "state": {
            "_view_name": "LayoutView",
            "grid_template_rows": null,
            "right": null,
            "justify_content": null,
            "_view_module": "@jupyter-widgets/base",
            "overflow": null,
            "_model_module_version": "1.2.0",
            "_view_count": null,
            "flex_flow": null,
            "width": null,
            "min_width": null,
            "border": null,
            "align_items": null,
            "bottom": null,
            "_model_module": "@jupyter-widgets/base",
            "top": null,
            "grid_column": null,
            "overflow_y": null,
            "overflow_x": null,
            "grid_auto_flow": null,
            "grid_area": null,
            "grid_template_columns": null,
            "flex": null,
            "_model_name": "LayoutModel",
            "justify_items": null,
            "grid_row": null,
            "max_height": null,
            "align_content": null,
            "visibility": null,
            "align_self": null,
            "height": null,
            "min_height": null,
            "padding": null,
            "grid_auto_rows": null,
            "grid_gap": null,
            "max_width": null,
            "order": null,
            "_view_module_version": "1.2.0",
            "grid_template_areas": null,
            "object_position": null,
            "object_fit": null,
            "grid_auto_columns": null,
            "margin": null,
            "display": null,
            "left": null
          }
        },
        "6f391657e873426abffe4fddb0bd2088": {
          "model_module": "@jupyter-widgets/controls",
          "model_name": "TabModel",
          "state": {
            "_view_name": "TabView",
            "_dom_classes": [],
            "_titles": {
              "0": "Youtube",
              "1": "Bilibili"
            },
            "_model_name": "TabModel",
            "_view_module": "@jupyter-widgets/controls",
            "selected_index": 0,
            "_model_module_version": "1.5.0",
            "_view_count": null,
            "_view_module_version": "1.5.0",
            "box_style": "",
            "layout": "IPY_MODEL_8d68e05c7acd40af9d6ac000e7be4609",
            "_model_module": "@jupyter-widgets/controls",
            "children": [
              "IPY_MODEL_832a265066264b5886062cf125d50a6f",
              "IPY_MODEL_1d85ce35e53947cf8f9519cf54949378"
            ]
          }
        },
        "8d68e05c7acd40af9d6ac000e7be4609": {
          "model_module": "@jupyter-widgets/base",
          "model_name": "LayoutModel",
          "state": {
            "_view_name": "LayoutView",
            "grid_template_rows": null,
            "right": null,
            "justify_content": null,
            "_view_module": "@jupyter-widgets/base",
            "overflow": null,
            "_model_module_version": "1.2.0",
            "_view_count": null,
            "flex_flow": null,
            "width": null,
            "min_width": null,
            "border": null,
            "align_items": null,
            "bottom": null,
            "_model_module": "@jupyter-widgets/base",
            "top": null,
            "grid_column": null,
            "overflow_y": null,
            "overflow_x": null,
            "grid_auto_flow": null,
            "grid_area": null,
            "grid_template_columns": null,
            "flex": null,
            "_model_name": "LayoutModel",
            "justify_items": null,
            "grid_row": null,
            "max_height": null,
            "align_content": null,
            "visibility": null,
            "align_self": null,
            "height": null,
            "min_height": null,
            "padding": null,
            "grid_auto_rows": null,
            "grid_gap": null,
            "max_width": null,
            "order": null,
            "_view_module_version": "1.2.0",
            "grid_template_areas": null,
            "object_position": null,
            "object_fit": null,
            "grid_auto_columns": null,
            "margin": null,
            "display": null,
            "left": null
          }
        },
        "832a265066264b5886062cf125d50a6f": {
          "model_module": "@jupyter-widgets/output",
          "model_name": "OutputModel",
          "state": {
            "_view_name": "OutputView",
            "msg_id": "",
            "_dom_classes": [],
            "_model_name": "OutputModel",
            "outputs": [
              {
                "output_type": "stream",
                "metadata": {
                  "tags": []
                },
                "text": "Video available at https://youtube.com/watch?v=IBYFCNyBcF8\n",
                "stream": "stdout"
              },
              {
                "output_type": "display_data",
                "metadata": {
                  "tags": []
                },
                "text/html": "\n        <iframe\n            width=\"854\"\n            height=\"480\"\n            src=\"https://www.youtube.com/embed/IBYFCNyBcF8?fs=1&rel=0\"\n            frameborder=\"0\"\n            allowfullscreen\n        ></iframe>\n        ",
                "text/plain": "<IPython.lib.display.YouTubeVideo at 0x7ff371896950>",
                "image/jpeg": "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\n"
              }
            ],
            "_view_module": "@jupyter-widgets/output",
            "_model_module_version": "1.0.0",
            "_view_count": null,
            "_view_module_version": "1.0.0",
            "layout": "IPY_MODEL_3bc3a9268f7e4c5895c60de6348cd837",
            "_model_module": "@jupyter-widgets/output"
          }
        },
        "1d85ce35e53947cf8f9519cf54949378": {
          "model_module": "@jupyter-widgets/output",
          "model_name": "OutputModel",
          "state": {
            "_view_name": "OutputView",
            "msg_id": "",
            "_dom_classes": [],
            "_model_name": "OutputModel",
            "outputs": [
              {
                "output_type": "stream",
                "metadata": {
                  "tags": []
                },
                "text": "Video available at https://www.bilibili.com/video/BV1UP4y1s7gv\n",
                "stream": "stdout"
              },
              {
                "output_type": "display_data",
                "metadata": {
                  "tags": []
                },
                "text/html": "\n        <iframe\n            width=\"854\"\n            height=\"480\"\n            src=\"https://player.bilibili.com/player.html?bvid=BV1UP4y1s7gv&page=1?fs=1\"\n            frameborder=\"0\"\n            allowfullscreen\n        ></iframe>\n        ",
                "text/plain": "<__main__.BiliVideo at 0x7ff37998bb50>"
              }
            ],
            "_view_module": "@jupyter-widgets/output",
            "_model_module_version": "1.0.0",
            "_view_count": null,
            "_view_module_version": "1.0.0",
            "layout": "IPY_MODEL_10c0d8e1896f475288812de126df2541",
            "_model_module": "@jupyter-widgets/output"
          }
        },
        "3bc3a9268f7e4c5895c60de6348cd837": {
          "model_module": "@jupyter-widgets/base",
          "model_name": "LayoutModel",
          "state": {
            "_view_name": "LayoutView",
            "grid_template_rows": null,
            "right": null,
            "justify_content": null,
            "_view_module": "@jupyter-widgets/base",
            "overflow": null,
            "_model_module_version": "1.2.0",
            "_view_count": null,
            "flex_flow": null,
            "width": null,
            "min_width": null,
            "border": null,
            "align_items": null,
            "bottom": null,
            "_model_module": "@jupyter-widgets/base",
            "top": null,
            "grid_column": null,
            "overflow_y": null,
            "overflow_x": null,
            "grid_auto_flow": null,
            "grid_area": null,
            "grid_template_columns": null,
            "flex": null,
            "_model_name": "LayoutModel",
            "justify_items": null,
            "grid_row": null,
            "max_height": null,
            "align_content": null,
            "visibility": null,
            "align_self": null,
            "height": null,
            "min_height": null,
            "padding": null,
            "grid_auto_rows": null,
            "grid_gap": null,
            "max_width": null,
            "order": null,
            "_view_module_version": "1.2.0",
            "grid_template_areas": null,
            "object_position": null,
            "object_fit": null,
            "grid_auto_columns": null,
            "margin": null,
            "display": null,
            "left": null
          }
        },
        "10c0d8e1896f475288812de126df2541": {
          "model_module": "@jupyter-widgets/base",
          "model_name": "LayoutModel",
          "state": {
            "_view_name": "LayoutView",
            "grid_template_rows": null,
            "right": null,
            "justify_content": null,
            "_view_module": "@jupyter-widgets/base",
            "overflow": null,
            "_model_module_version": "1.2.0",
            "_view_count": null,
            "flex_flow": null,
            "width": null,
            "min_width": null,
            "border": null,
            "align_items": null,
            "bottom": null,
            "_model_module": "@jupyter-widgets/base",
            "top": null,
            "grid_column": null,
            "overflow_y": null,
            "overflow_x": null,
            "grid_auto_flow": null,
            "grid_area": null,
            "grid_template_columns": null,
            "flex": null,
            "_model_name": "LayoutModel",
            "justify_items": null,
            "grid_row": null,
            "max_height": null,
            "align_content": null,
            "visibility": null,
            "align_self": null,
            "height": null,
            "min_height": null,
            "padding": null,
            "grid_auto_rows": null,
            "grid_gap": null,
            "max_width": null,
            "order": null,
            "_view_module_version": "1.2.0",
            "grid_template_areas": null,
            "object_position": null,
            "object_fit": null,
            "grid_auto_columns": null,
            "margin": null,
            "display": null,
            "left": null
          }
        },
        "85a3d96a0a0f406c96e30e58c169d1bd": {
          "model_module": "@jupyter-widgets/controls",
          "model_name": "TabModel",
          "state": {
            "_view_name": "TabView",
            "_dom_classes": [],
            "_titles": {
              "0": "Youtube",
              "1": "Bilibili"
            },
            "_model_name": "TabModel",
            "_view_module": "@jupyter-widgets/controls",
            "selected_index": 0,
            "_model_module_version": "1.5.0",
            "_view_count": null,
            "_view_module_version": "1.5.0",
            "box_style": "",
            "layout": "IPY_MODEL_efbebbc5b845409bb2d8d9be69c5e9ec",
            "_model_module": "@jupyter-widgets/controls",
            "children": [
              "IPY_MODEL_16716d773e734bb1b4a6952a06a3014b",
              "IPY_MODEL_13e46fc9ccce42409bb92fdc0fa7a762"
            ]
          }
        },
        "efbebbc5b845409bb2d8d9be69c5e9ec": {
          "model_module": "@jupyter-widgets/base",
          "model_name": "LayoutModel",
          "state": {
            "_view_name": "LayoutView",
            "grid_template_rows": null,
            "right": null,
            "justify_content": null,
            "_view_module": "@jupyter-widgets/base",
            "overflow": null,
            "_model_module_version": "1.2.0",
            "_view_count": null,
            "flex_flow": null,
            "width": null,
            "min_width": null,
            "border": null,
            "align_items": null,
            "bottom": null,
            "_model_module": "@jupyter-widgets/base",
            "top": null,
            "grid_column": null,
            "overflow_y": null,
            "overflow_x": null,
            "grid_auto_flow": null,
            "grid_area": null,
            "grid_template_columns": null,
            "flex": null,
            "_model_name": "LayoutModel",
            "justify_items": null,
            "grid_row": null,
            "max_height": null,
            "align_content": null,
            "visibility": null,
            "align_self": null,
            "height": null,
            "min_height": null,
            "padding": null,
            "grid_auto_rows": null,
            "grid_gap": null,
            "max_width": null,
            "order": null,
            "_view_module_version": "1.2.0",
            "grid_template_areas": null,
            "object_position": null,
            "object_fit": null,
            "grid_auto_columns": null,
            "margin": null,
            "display": null,
            "left": null
          }
        },
        "16716d773e734bb1b4a6952a06a3014b": {
          "model_module": "@jupyter-widgets/output",
          "model_name": "OutputModel",
          "state": {
            "_view_name": "OutputView",
            "msg_id": "",
            "_dom_classes": [],
            "_model_name": "OutputModel",
            "outputs": [
              {
                "output_type": "stream",
                "metadata": {
                  "tags": []
                },
                "text": "Video available at https://youtube.com/watch?v=jzTbQACq7KE\n",
                "stream": "stdout"
              },
              {
                "output_type": "display_data",
                "metadata": {
                  "tags": []
                },
                "text/html": "\n        <iframe\n            width=\"854\"\n            height=\"480\"\n            src=\"https://www.youtube.com/embed/jzTbQACq7KE?fs=1&rel=0\"\n            frameborder=\"0\"\n            allowfullscreen\n        ></iframe>\n        ",
                "text/plain": "<IPython.lib.display.YouTubeVideo at 0x7ff37992c610>",
                "image/jpeg": "/9j/4AAQSkZJRgABAQAAAQABAAD/2wCEABALDBoYFhsaGRoeHRwfIi0mISIiIzgvJyktLzIxMi4tNS86RlBCOD1NOi0vRWFFS1NWW11bMkFlbWVYbFBZW1cBERISGRYZLxsbMFc/Nz1XV1dXV1dXV1ddV1dXXldXV1dXV1dXV1dXV1dXV1ddV1ddV19XV11XV1ddV1dXXVdfWv/AABEIAWgB4AMBIgACEQEDEQH/xAAbAAEAAgMBAQAAAAAAAAAAAAAABAUCAwYBB//EAEUQAAIBAgMDBwoEAwgDAAMBAAABAgMRBBIhMUFRBRMXU2GS0hQiMjNScXKBkbEGQqHRFsHwBxUjVGKC4fE0Q6JEc7Ik/8QAGAEBAQEBAQAAAAAAAAAAAAAAAAECAwT/xAAlEQEBAAIBAwMEAwAAAAAAAAAAAQIREiExURMyQQNxsfAikaH/2gAMAwEAAhEDEQA/APn4AAAAAAAAAAAAAAAAAAAAAAAAAAAAAAAAAAAAAAAAAAAAAAAAAAAAAAAAAAAAAAAAAAAAAAAAAAAAAAAAAAAAAAAAAAAAAAAAAAAAAAAAAAAAAAAAAAAAAAAAAAAAAAAAAAAAAAAAAAAAAAAAAAAAAAAAAAAAAAAAOuh/Z1jGk+dw+qv6UvCe9HGN63D96XhA5AHX9HGN63D96XhHRxjetw/el4QOQB1/Rxjetw/el4R0cY3rcP3peEDkAdf0cY3rcP3peEdHGN63D96XhA5AHX9HGN63D96XhHRxjetw/el4QOQB1/Rxjetw/el4R0cY3rcP3peEDkAdf0cY3rcP3peEdHGN63D96XhA5AHX9HGN63D96XhHRxjetw/el4QOQB1/Rxjetw/el4R0cY3rcP3peEDkAdf0cY3rcP3peEdHGN63D96XhA5AHX9HGN63D96XhHRxjetw/el4QOQB1/Rxjetw/el4R0cY3rcP3peEDkAdf0cY3rcP3peEdHGN63D96XhA5AHX9HGN63D96XhHRxjetw/el4QOQB1/Rxjetw/el4R0cY3rcP3peEDkAdf0cY3rcP3peEdHGN63D96XhA5AHX9HGN63D96XhHRxjetw/el4QOQB1/Rxjetw/el4R0cY3rcP3peEDkAdf0cY3rcP3peEdHGN63D96XhA5AHX9HGN63D96XhHRxjetw/el4QOQB1/Rxjetw/el4R0cY3rcP3peEDkAdf0cY3rcP3peE8l/Z1jEr87h+9LwgciDrl/Z3jH/wC3D96XhPejrGdbh+9LwmeUHIA67o6xnW4fvS8J4/7PMYv/AG4fvS8I54+TTkgdU/wBi1/7KHel4TF/gTF9ZQ70vCTnj5a41y4Omf4HxXWUO9LwmL/BWK6yj3peEvPHyca5sF1jfwxiKMc0nCSva0W2/fs2FVLDtO10/cWZSpZpqBlUhlbV0+1bDyxUeAAAC3ofh2tUipKVOzV9W/2Nq/CuItfPS+r/AGM8ovGvr+H9XD4V9jYa8P6uHwr7Gw0gAAAAAAAAAeAeg8AHoB4B6AAAAAA8PQAAAAAAAAAAAAAAAAAAAAAAAAAAAAAAa6z802GnFPzPmZz9tWdyk9DMjUWb0eSVvKMjXVMzCqEndHmRa+IpwdpzjF8G0iWzm/xJJKtFtJ+b/MsjqtHiINXU01xvoaHi6T/9kfqjl1GVR2u7eyj3yKSelx0bmK25dmvJpyU2lbbGzvfS3u1OX5PwCqyjeDyqLbd/S4e75EzEV6lOLjrla85NfyNvIlVybT0jrl1XnX1f0ua3ZOjFx/l1ZPkHDdV/9S/c1vkXDdV/9S/cuJ7CPL+vocvUy8unDHwrf7mw3V//AFL9zCXIuH9h95lojCpYnqZeThj4b8FBKnFLciXFeaVkeU6VNWnK1tr/AOC0oTUoprY2jpi511mH9XD4V9jYa8P6uHwr7Gw9jzovKmIlSw1apG2aFOUlfZdJtFbQfKEqUKsauHnmipZHTcb3V7Zs38iby7/4WK//AEz/AP5ZHwfKuGpYWk516ay04385X2LS225m93XH29J8pXJ3KUa9HnWsmVuNSMn6Eo+km+wYTlbD1p5KVaEpWvZPVriuPyOcxFGp5DWrOLhGtiVVlGSvaldekl7k2uBY4ilUrOhmxOF0qRlTcINSdtbReZ7VdDa3DFZ4zlOhQaVWrGDeqT22424Gx42kqSq85Hm3a076O7stfeUWFdaONxijUowqOaf+JBuThlWWzzLzdvzuacbQUOT8Q3Vp1ITxEJPm15kfPgpJK73pv5sbPTm5Pt/q9w/K+Gq1Obp1oSnwT2+7j8iVWllhJrak3+hScv1qU6VCNKUJVHWpujlab0au1bdluXWJ9XP4X9i7Yyxkkqo/DfLUsTDLWSjWUVOy0UoPZJfZkzk/GTqVsVCVstKooxst2VPX6lTg8BKpyfhKtGyxFGClTfHjB9jRCp4iWIwnKc6cZKUpK8becrRipxt7lJGdutwlt1+9XS0OWMNUqc3CvCUnsSe33PY/kR1y9R8slhnOGkVrfXPdpwtxViBiKc62GhHyrCRpyy83KMGmndZcvnaO5MU1HlSeZpN4aFr7/PkXdZ4Y9Vg8dSVHn3UiqVk89/Ns9FqbKmIhBwUpJZ3lj2vbZHM0qOeq+TpK8IVp1ZLc6TWaK780v9pt5InKviKcJ3vgqcoyb31G3BPuxv8A7htL9OT9/pb4jlnC0qnN1K8Iz3pvZ7+HzJFfF06ai5zjFS9Ft6PS+33JspuQKtGGDnGs4RkpT8oU7XzXd3K+26IWFo3w/JkakbxdeTjGevm5ajhf5WG19OLqPKefE0I0pRlSqU6krre4uKVn82TYYmnKpKnGac4WzRW2N9l+BS8tRrPGYeOHcY1HRqpSlsirw1tvf7kn8OSpqg6cYuFSEmq0ZO8s++Te++1PgJeqZYzjtbgA05AAAAAAAAAAAAAAAAAAAAAAAAAAAGjGPzPmjeReUHan80Zz9tXHuwoPQ3pkPDT80j1OWYQupRkpJ2UW1r23Tf79h4465Ra3IMOUaVSo6cZPMlfVNXXFPeeS5QpOlKTnGMbWvJ22nBYTFcxUjNwckrra1rsdn8wx2r6DJnK/jCdp0v8AVp+q/ck4bl5qsqM4aXyqV9eGpH/FkG/J5pXyzs/91kjWLrLvslcmYJKnFbN7JksJG+9oj8/Gik5vZuW0i/xFTlJxUZXGno2nVsNC2w5ajguaxrgpNRis8V2PRrUvMTy3CLySi770kVFebqYlTjoko7eGv7ovaM56qyqSNMv5nkpank2cARhU2CMjyVm7XtfeSDGPJ9Os/wDEinZR/mW+GpqMYxWy5Ew0XGUk9VaKT37ybhne3zO+N25WOqw/q4fCvsbDXh/Vw+FfY2HseZjOClFxklKLVmmrpp7U0RqfJmHg1KOHoxktjVOKf1sSwFls7PGiNQ5OoUpZ6dGlCXtRgk/qiUAbR8TgqNa3O0qdS2zPFO31I/KfJ/OYbmaShBKUGla0UoyUmrLsRYAmiZWI1LAUYTdSFGnGb2yjBJ67dSQ1fRnoKW7YU6cYRUYRUYrRJKyXuR5Toxi5OMYxcneTStd8XxNgCItPk3DxnzkaFKM9uZQSlf32M62EpVJRnOnCUoejKUU3H3PcbwF3WCpRzueWOdqzlbW3C/AQpRi5OMYpyd5NKzb2XfEzATaNW5PoVJqc6NOc1+aUE39TdOlGTi5RTcXeLavZ7LrhtMwF3WDpRclJxTkk0pW1Se1J/JHiowU3NRiptWcrK7S2Js2AJsAAAAAAAAAAAAAAAAAAAAAAAAAAAAACo/FGOjhsJKrJNpSirLbqy3Ob/HsM3JtRf6o/clm4IVflaMcLCok5KcopJOzebZqU+Ck6rfmSc3sjKoo7N61INHFKWDpQlJRcHGV3s0f7Hl2rPNBWad2+Ct9kjjMNd3bcqXj+UIqPNwyqaeri3K2ntbPoVuGxOSSvFz1vG72O+2xhRlCVowabVlopWtd9nC30NFapzVrJaJarf2jizlrumco4xTqZlHWyavt7dN50VOcKmHhZPzUpJqKSbVtbX7Dj8PinsaU1a1mtV2p8dTbiMZLyWMYuTip3jJbtHeD+5ePwY5au3dylCStKKZGp4GlCV1BZtuzYa8HiLqKltsiHypyg75abimntvqcp4e2Wd0rlLBwqVXKUeDfyK7ExUal0lktaxlheUJSUucak0tqf6G3FWjJrTTs7DOfRjLVYOdxJ7GR414vRNO20ydTT5nPWiXbbmNMndmKnoeKWpIVY4GCi5W7PsWOF0TZVUMXSjKSlVhFu22SW5cSyweJhU9XKEkvZkn9j0Yy7cLXXYf1cPhX2Nhrw/q4fCvsbD1OAAAAAAAAAAAAAAAAAAAAAAAAAAAAAAAAAAAAAAAAAAAAAAAAAAAAAAHNf2gSa5Nm17cPudKc3+PqcpcnTUU23OGi94Hyh1JNatllVq03GDtLc35yt2302GinyPiJfkt72kWuB5L5pZqsldblqkvmS1ZEevFQc+bcYq8dNtk4r+bImfNFpJPTR333Rs5RrQqTaitNrlvdiHOelt3AzItb1OMYtPVvR2/Q0upeEoLRbbdvH6Gu5jms7mpEdtU1UJQe5fNGVSUJw82ajJbmthz/JHKkIpQqO1vRb2fMnY2SV5zWi2HnuNlevHOXrETlnHZEqcJXltlJfYi0uWqq0llmt+Za/Ur8RVc5OT3ms7TGaebLO27dJgcVSqrJFZJW0W36HlRzpys2nH9TnYyad0WuJxeeMGtrWvvMZ4RrDLqm1alXm3KkoTS1as8yX1IGH5WkpeeouPYv5X19x5z7SunZ8UWHJ3KVFWVfD0pr21BZvnxM4ya6xvLe+laMZiqcEpUIwUp/mUU7rf5rTy+4iU8bXjLNBtN74wSf6I73BwoSjmoqCT25Uk/mbpUDtLHKx02H9XD4V9jYa8P6uHwr7Gw0wAAAAAAAAAAAAAAAAAxUk72adtvYegeg8PQAAAAxjNNtJptbUns956B6AAAAAAAADFyV7XV+BkAAAAAAAAAAAAAAAAAKn8TP/APyv4o/ctip/EtCpUwso0qbqTzRtFW49uhKRxlfExgrtlByjyk56LRcCxr/hrlGbb8ll2LPHT9SK/wAIcot64aXej+5mYt3JSuT+obLr+D+Uf8tLvR/cfwfyj/lpd6P7m2FLc8uXf8H8o/5aXej+55/B/KP+Wl3o/uBR2NtbETmoqUm1FWSLf+DuUf8ALS70f3Pf4P5R/wArLvR/cCiseF7/AAfyj/lpd6P7j+D+Uf8ALS70f3AozbReq+Zb/wAHco/5aXej+5lD8Icop/8AjS70f3Jey43VVU5aGcHdpFpP8I8oP/8AGn3o/uer8J8oLVYad/jj+5jj0deUYUcTKjmnFtNO912JHQ8m/iJTSVZWftL+aKin+GuUNc2FnrttKP7kjC/h3Gxu5YaSVvaju+ZnjYm4+lYf1cPhX2Nhrw/q4fCvsbDs5AAAAAAAAABi5pNK6u9ivqBkQeWJyWHkoSyynKNNOz0zyUL6fFtJprq4eM5QlJXcLuOrtd9mxgU+OpuOGxsYykpUqOWm8zurQzJpt3vd7b7kMOp1MVWg86hOlSkleSyxvUuuyTyx7foXKpLM5b2rPtS2fd/UzAhzXMc9UcoJTlFpyvZaRhrx2ESGMnUo0qzUc3O01FQb9GeVSTvwUm/ki2zK9rq/DeYzpKTi3+V3XC+y/wCr+oGwhcrymsPJU5ZZycYJ8M7Ubrt1uTTTVw8ZyhKSbcLuOrtr2bHs3gVWKpuOHxkU5J0qWWDUndJQUrp3vte2+5HmHUqmJqwedRnTpT2yWWN5adjeVX37eBcc0s7nvas+1LZ939TLMr2ur8N4FVjcPKlTxM45M9SKp07Jqzbko3d/ane611ZuwWOuowav/iSpJr/Snq76/lf6PeWBhOjGTi2ruLvHXY9l/o2BowrtVrR/KpJrscldr+fzJZhTpKOa22Tu3xf/AFZfIzAGFSeWMpaaJvXZoe5le11fhvNeKw6qwcJOSi9uV2bXC/BgV3JvOyVFVZSzSpOpNZvzSyqyemiu9O0hYDE1Zyw0XOb5zDyV23rOLgpT+WaVvd7joJUU5RnscU0rcHa692ifyMlBK1klZWWmxcAIFTASlUbustqaUm25WhJye7a29tzDCY2XlFSMtYTlPI82xU1CL07ZOX0LQ0zpU5px02NO2jV9uzVXA14THRqpaODcIztK17TvbZ7mbHUUpSp63ypt9krrR/JinhYRXo3vbbq9Nm0eTxzSkrxbio3T2JXtZbN7AxwFVzo05S1birvi+JIMKdNQioxVlFJJdiMwAAAAAAAAAAAHh6APD0ADw9AAAADw9AA8B6AAAA8B6ABrr+rn8L+xsNeI9XP4X9gGH9XD4V9jYa8P6uHwr7GwAAAAAAAAAU+Dw9CeHc68YOerrSla8ZJ6q+1W3cElYuCPUwFGc+clSpymrec4pvTZqBF5Mxc5UYZ1qkk3J6vg3po2rMnXnwj3n+xrrrLJTXwy7Vu/rtDaXq9vsrZ/wBsvPhH6v9iv5Sx9alkVGlGq5SytJvTg72Jcqm6po3sitj+e/wDQ206dtu3s2LsXYB8qqSk5upUb53NeUn6Slv12ppn0nk/E1XRp89FRqZI5sz2trbsN8uTqDqc66NN1F+dwWb67TdUhf37n/L3AeXnwj9X+wvPhH6v9jTGdnaHpLbDcvnu/rQSnun6T2Q3P571/VgK/lnlOvSyxo0lUc1KN03pK3m7j5/GTUlUi3zt7qf583v23vu+R9Tw9P872vZ7v5GK5OoKrzqo01V9vIs312gY4fETcY54qMtjvLS+/WxvvPhH6v9jyorPNuekl2cTBuztT1/07l8939aAbLz4R7z/YpuW+VMRTShQpKbnGSUottxklo9mpZynfSfpPZF6R9/av6sZ4en+Z7X9gPltKUozjUpt87mvGS9JyezXfd/U+oUsRJpZoqLe5vfvV7CHJ1CNR1Y0aaqPbNQWb67TZNJO7V4y0ku3c/wCX0A9vPhH6v9heXCPe/wCDXmadqfndjei/3fy1MJTWyXpbcr2JcbbwKf8AEHKuIgpU6NO6nTbVSDd42vma04HH8muUMRSlQ9Y5rLbbK71T4p7z6bQp2u3te2+0wocnUKc3Up0acJvbKMEpP5oCSDw9AAAAAAAAAAAAAAAAAAAAAAAAAAAAAAAAAAAAa8R6ufwv7Gw14j1c/hf2AYf1cPhX2Nhrw/q4fCvsbAAAAA1Uq8JxjKMk1JXXavcZqaexp6227wMga6daMnJRkm4u0knsbSa/Ro2ACpwWEhWoqrVcnUldylmadN31jG3o5dny1uWxDq8nUZSblDWWslmajL3xTs/mgI+BxUq1GCqXu4rVWWfhJPt26G+lVcFlyPbZJW9Letu/abcZKMKbnLZFblf5W3+4qaPKtGc6WWUnOvG8IuL2LVNN7Pe+wC3inq5Qbb7VZLgVfLPKdTC826cHJOdpRbvtWiW9Xf2NlHlXnXSSulOpKnJWad4qTdm9usdxYRpxk9iyxei4vj8gPmlTlCvKbrSrVFUve6k1lfBLYkuB9A5Pxc61Km6icZOKcorS7tf+rHtTkTCSq87KjBzbv2N8XHY/ob8dOMIOcvyq9rXulray/pAe1G1bLBqX5UrfTbsNabneLg2/z7PktuwhYflmjJ01TlKc60c0IOMtV2Stotb68TCpj3KlGpSV5OTjlkpRc3ezitNd+q0VgPOWOVK2HnTjSg5ZlLR6tNK6tb62fA31MFSjh3WVSWdQzqvmbbdr3e5r/TstpYsKEFtssy3ez2L995qXJtBSvk2PNlzPKntvkvl29gGOHxEqkVni4trWF0tbarbqbI1XDzFB/wChXWz/AI/YzxEVtSvLcuPZ/wA7iO20rxeapfY9z4X3Lbt3AbHFyeVwct89mvBbf6+ZV8scrVsPUhCnFtSjPb5zi0r304bbMsqVS6Sk3md/M2Nvfrv+WhIp0ktqV/0XYgK7FYOnSw8q0JSVSMXONVybcna6vr5yfDZrpuJVOq6q86L1WsNF7097+whybQjJNQ1Tuo5nlT4qF7L6GzEq2qWaXs8bb+z3gYxrSj5mRuW7VbOL1PMuZ2cG0neTutZbt+79isjyzScacqU5VJVZuEL05K8ltje2iVno+Bsq8qQ5qbg3KcJKHNtON5tpWb36y1a01A0cq8rVaVZUYJqEoaz0bp+daU77PNWupMxmEhQp87SzRqRas8zbm20ssrvzr7NeJu5Pqqpz0ZRWanPm5NejLzYvTs861uxmyjydRhJOMdY+inJtR90W7R+QEsHh6ABWrHzsqrUeadTJZXzq8silfZttpbRb9DOXKcc1KMYSlzmVt6LLGam0/wD4egE8EKhylGcoxyTi55XHMlqpKUk9H/oZ7gMdz+ZqDUUouLdtVKKls3bQJgAAAAAAAAAAAAAAAAAAAAAAAAAAAAAa8R6ufwv7Gw14j1c/hf2AYf1cPhX2Nhrw/q4fCvsbAAI2OxkcPSlVmpZI+k0r2XH3GnEcqRhhquIyyy002k1bNZaNX3PiBojyRlgtYylFRs8uvmwcbX7b/qY0OS6kebknTjKOXzVDzdIThx2+f/8AKXaRv7zm1d4/Cxfsqm2l2Xctf0LHlnGOhg6tZS86MLxaW2W7R8XYD3kzAPDqSbjK6hqlZ3jCMH8vNv8AMnXOd5Ox2JrOUYy5+HM2lUyqKjW2OK2XS191iXgMLLDTjBpOLlzdN71SjGUop+5tr3JAXBT4PCUatDna0YyqO/OTfpQkm7pS2xy7rcC3IlfC4aVROcKTqO2213bZpvsBGwHO1aUXU1bhvdm09knpvWrscthsHiebwEoRyzTnQhrpGOWSdRq3FX+SO7nC/Y1sZqeJSumryW1ICDGhHJTgqcb0lZq93FJWzLTbq7PtZr5Ux1bD80qEFO88rhe+7RX3f8EupSaeeTtKWlo8dy7V9DbhVleVpJ7luS9ldn3+QEHDYPDywyq1EnJxzTrPSalbznm2xad9N1rGWDnUq0lzuk5RSafm3uv57bEmeEwzq3lClzjeaztdtbHbe+02YtXtFek/1XD5/uwOJwdHFKOAqQjaeWeHp2eijlf+I/o38kdZDk6nOnCEqUWqatFOT82ytb/nebqOno6zWjj+WPYnuX9WFVu6zaT2KP5Zdl96/qwFTy7isRSnRWHV28yaXnXstIv9XbsJdTB4ZYZ1o2TyZ4116xytpLNtbb3b9nYWVBK3+rY+zs9xojhMNzt1Clzt81tL39q3HtA14WpUkk6qUZtLNG9vlcz866nGMb7IxvtX0/XcbMWs3mpXb2rivZf9aGNJv8nnS2ST2Lsvu/UDyN75pRTvpJN7Hu3f1oyt5Y5RxFGcIUY5lOM7tec4tK90+xXdt5ZVdX53pvTJsjJcG96/q2424XS6fpL7cPl/zvAr8Vg8PTw0qtNRU1HNCqtZuX5Xm2yu7ab72JNCcpK9RJSfpRbts3dqRlTwmGVW8YUucTvZWum9rtufaZYpZpWSTe9PZLgn97/uBxUaFeChUjTbdHGyjSheylmnK7emxZkr+86nD8nxjSjCcVUWbNKTk0+cvdy7NW/mS6XGn57v52bRJ8L/APZjVV3Z6zltg9Itce3+vkFRj8bVoVFQpQSoyheU47YLN581LsV372T8bg6NGkqlGEYVE1zco7ZNtWi3+ZS3395PwrVmtst7e/8ArZY1YfC4aNS9OFJTj7Nrxvt03ATACHynjXh6aqZM0M0VPWzipNLNbfa4GxYKkp58vnXb2u13tdtl9uvaYR5OpK1oWtazu7rLe2/Ysz07SPjOUZxwtarGNpQlKEfzJ+dlUt1/d2EJJ/mlyi3vaSS+i0QFnS5LoxjGOW9lHzrvN5qaWt9Nr0Wmr4m2nQpUItxShGMUnbYoxVlp2L7Ff+Ka8oYKapuSqVHGnTyu0s0mkrMickQqV1WlCc1h5KMFGrJynmhJqq3q8t0rWv2gX1KvCfoyT0T04PYzaU/klXD01Ci5SvOTukvNjleSGu5eavcmSqFTEOcVUgox1TcXdPzVZ9mtwJwAAAAAAAAAAAAAAAAAAAAAAAAAAGvEern8L+xsNeI9XP4X9gGH9XD4V9jYa8P6uHwr7GwCFylgpYiDpOeWlOLjNJec77LSvouIhgXLC8xXnzl4ZZSSy30tpwJoArY4bFxVliKUrb50XmfvtJK/yPeV+Tp4mnThnjFRqRnO8b5srvbborosQBAwPJ7o1q84zXN1pZ8lvRlZKTT4O19hPAAFPgqdB4eTrqGfXn3Pap77t6q27stYuCJWjh+djnVLnfy5suf5X1A0YKVXmafO3tlWrve27NvTttNs7uzWW0fQtvf7f1uN9epayW18NpqhC2sPS7PQXZ/1qB7GMpXzZVL56cLfuVvK8cTXjSWHspKfnSTslbt3q62LsLKpBv1m1bGvR+a/czpz87hfau3c12NfYD5bVcnOUql+dzec36an973PonJ8KqpQliH58orM3s2LR2/XcSZrDc+s3M8/uvl5z9yTUnbtb2IDTUUlbLlzfltv7PcKak75sub8193Z7jGEN8PSe1/k93/QnDfP0lsf5Pd/2BWcqwxblB4TYlLM92zzVrt32tpc4OLeZSi5c7m0f58/3zXPq8J37Gtq4EaKw3Pu3M8/v9HnP3A1YenUSvWazP0n+X3f9kipmVsuXNuXFdvYbqk7drexf1uNEIW1p7Xtf5Pkv2A9pptPNlb/ADX+3uKXlyhipSjLCtpQjKTae9LRK+3s3FxKOt5+kt79D3f96kmE7+/euAHyii5KcZUr87m8xr03L73vx+Z9Ko0pRX+LZye1v0W/63MzprDc88vM89vtlz/PeSKtS2ml3x2e99gGmrnTWVRzcNbNdp7BPK28r9rNx7TyEGvV79rl6L9y2/TQ8cbPNL0+30X2Ld7t4FDy/RxbcqlByVOFKTbi3d3upJb27bP0OV5OclXpOh6xzWXLteuvyttPqMJ3V1/0RcOsNzkua5nnPzZMub521AmEHlSjKtB0FC8KsWpzzJZV7tre23uJwA0PCU3S5lxTpuOVxe9bCLHktxVo4rEJLYs0X+ri2/myxAEPG8nxrToylKS5qeeKVrOWy7uu1/U9weAhRlVlBytVnnlF+ipPa1wuSwAAAAAAAAAAAAAAAAAAAAAAAAAAAAAADXiPVz+F/Y2GvEern8L+wDD+rh8K+xsNeH9XD4V9jYAAAAAAAAAPlWPzKvVVb1ud5r7W76W/l8j6qYuCbTaTa2O2qArOScLV5inKvLNUcI5lJbNNj11fHtLG0+Mfo/3NgA12nxj9H+5Wcscl1a8Yxp1I07O8rJ68Fa/EtwBS4erhVhctVwva1WMrc5zm+625r/ysS8Dh6nNwdWWaeVXUls02f1vNmCrxrKVRQs4znC7tfzJOLs1uumSwNdp8Y/R/uLT4x+j/AHNgAqOVMDiJOMsPUVPJGTaSfnO2its4mFSphHhMscuy0Yr1nObtNufN87lvVnljKXspv6GrCTjVhCtkyucVLVLMk1ezAwoYedk6koynZX00v2K5vtPjH6P9zM9A12nxj9H+5Vcq4HENqdCooKMJXhFO8m1sWtuNu0uSNjsWqMFNxcrzhCy23nJRW3tYFdiqmFeFy0nDNa1GMbZ+c/LZbVJPbftvvLClh5LWUlKW9tb+xXN6hG+ZJXe+2r+ZmBr8/jH6P9w1LjH6f8mwAUfKmCr5nUhUtSUEp04p3kr+fbty7LGzGVMPKjBUHTdS65jJa6d9qtu49ly4MY04ptpJN7WlqwMgeHoAAAAAAAAAAAAAAAAAAAAAAAAAAAAAAAAAAADXiPVz+F/Y2GvEern8L+wDD+rh8K+xsNeH9XD4V9jYAAAAAAAAAAAAAADGbaTaV3bRcTIAUXJvJ1SjOlKUVG1BqrOLXrJvNNvjZpW3ecyy5LrOph6UpSzScVd9u8lAD0AAQ+VaU6mHqU4K7mlDbayk0pP5RbfyK+VJ4fyiTtRpOccmVpXSgopLg8122+zai7AGrCSbpU3KSlJxV5JWTdtWkbgABCx+EdaVFea4QqZ5p77ReVd5p/7SaAKSlSnShh6VTMrOU5unntsel48ZSulwRPwfPRpRUo3er86WqTbyp7btKyuTABEw8nz9ZPNl83LdO2x3s9hLAAAAAAAAAAAAAAAAAAAAAAeAegxlJJXbSXaQ6vK1CH503wjqGscMsu0TjwrVylUn6qhN9stEZqniZ+lUjTXCKu/qyba9Kz3WRPNc8RCO2S+poXJ8fzynP4pO36G+nQhH0YpfIqaxny8jiIvYpP8A2syU37L+djMBno817D09AQPD0AAAANeI9XP4X9jYa8R6ufwv7AMP6uHwr7Gw14f1cPhX2NgAAAAAAAAAAAAAAAAAAAAAAAAAAAAAAAAAAAAAAAAAAAAAAAAAA8AxnUjFXk0lxbsQK/LuGh/7FL4df12ED+FlKpKdWvOabbStZq+67bLLD8j4en6NNN8Zav8AUnV6eP0Me9t+01+UH+/6lT/x8PKXa9n6fuZczj6vpVI0lwjt/r5l0lbYBpPWxnsxk+/X8qmnyFC96tSdV9r0/f8AUn0cFSp+hCK7ba/UkAajnl9XPLvXgPQVzAAAAAAAAAAAAAA14j1c/hf2NhrxHq5/C/sAw/q4fCvsbCqo155I+c/RX2M/KJ+0wLIFb5RP2mPKJ+0wLIFb5RP2mPKJ+0wLIFb5RP2mPKJ+0wLIFb5RP2mPKJ+0wLIFb5RP2mPKJ+0wLIFb5RP2mPKJ+0wLIFb5RP2mPKJ+0wLIFb5RP2mPKJ+0BZArefn7THlE/aYFkCt8on7THlE/aYFkCt8on7THlE/aYFkCt8on7THlE/aYFkCt8on7THlE/aYFkCt8on7TOU5WxjlisVTeJxMKqhGVGFOpJQdo3krLfpsCybd6D5Y+U3KlSVLF4yVeUmpR52eXX0ba7ToeQManisRCjia9anCEE3Vm5edeSllvu0QW46+Y7E9K3n5+0x5RP2mGVkCt8on7THlE/aYFkCt8on7THlE/aYFkCt8on7THlE/aYFkCt8on7THlE/aYFkCt8on7THlE/aYFkCt8on7THlE/aYFkCt8on7THlE/aYFkCt8on7THlE/aYFkCt8on7THlE/aYFkCt8on7THlE/aYFkCt8on7THlE/aYFkCt8on7TEsTJJtysltYFka8R6ufwv7FdTx2b0al9E9OD2P5ntavPJLzn6L+wGql6EfhX2KzFYKvLFKvFwShaMVd3cWnn7NrT/2IvaNKOSOn5V9jPmo8AOYxHJ+LlQlT5xyzQad528500m729HNm07SRLC4rNBqrpnk5K+xZllt2Zbq3b9L/mo8BzUeAFHgsPio1FztVSpq/v082N9N6859qIlPk7EQ53m8sVOV75ln2yfpJK61XpXe06fmo8Dzmo8AOenhsa7/AOIrNR0vwSz66bXqtdNeOk6OEblRnOpPNTi00naMm0k3Jb+wtOajwHNR4Acz/dtdOcqahTneq1UzXcs7eVNW3XWrvaxsWHxiyt1LxUXpvveWnbpZb9nzOh5qPA95qPADnqeGxE8LOM3ecubcVKWqtkcruytdp6bjLFYbEzdSUJc05RdkpfmUbRu7arNYvuajwHNR4AUEsPi/8T/EWstLO3m3ezg0rIylg688NXhUnmqVIZY6+ankSexaedmZfc1Hgec1HgBzX93YuDmoVVZyioyv52SMWo3vtadvfb5EhUMU5WlO0VN3kpauLqZtltLQ80veajwHNR4AUWHwuI52Mqsk4qeZK97ebNO31h+pF/urEwk5U6kVeVadm75ZSzKDXY01dbmvedPzUeA5qPADnfI8UvPjO88llml5t897Na3812v2HqwuMW2rm1aXnW0WVRk9Ndkm1xkdDzUeA5qPACgWDxCqQnzl15ynd6tOTcUnbRJW99rEzk2nVjTtWd5Xet7trt7dv9aFnzUeB7zUeAEUEnmo8BzUeAEYEnmo8BzUeAEYEnmo8BzUeAEY+e/ifEOlyq6kUm4c3JJ7LpJ6n0vmo8CJiORcLVk51KFOcntcldgcPUxLoKfKMaUMuJjkpQy+bCbvzjXC2V245uxm3+z708R8MPvI7F8hYRxUHh6bindRtom9tkbcLyVh6N3Sowp5tuVWuB4CTzUeB7zUeAEUErmo8BzUeAEUErmo8BzUeAEUErmo8BzUeAEUErmo8BzUeAEUErmo8BzUeAEUErmo8BzUeAEUErmo8BzUeAEUErmo8BzUeAEUErmo8BzUeAEUErmo8BzUeAEUErmo8BzUeAEU11qWeOVtrZs7Nd5O5qPAc1HgBW4bDc3bzs3mRhs25b6/r+htq+hL3P7E3mo8DCtSjklp+V/YDOj6EfhX2MzCj6EfhX2MwAAAAAAAAAAAAAAAAAAAAAAAAAAAAAAAAAAAAAAAAAAAAAAAAAAAAAAAAAAAAAAAAAAAAAAAAAAAGFb0JfC/sZmFb0JfC/sAo+hH4V9jM+aR/tAxaSXN4fRW9GXiPekLGdXh+7LxAfSgfNekLGdXh+7LxDpCxnV4fuy8QH0oHzXpCxnV4fuy8Q6QsZ1eH7svEB9KB816QsZ1eH7svEOkLGdXh+7LxAfSgfNekLGdXh+7LxDpCxnV4fuy8QH0oHzXpCxnV4fuy8Q6QsZ1eH7svEB9KB816QsZ1eH7svEOkLGdXh+7LxAfSgfNekLGdXh+7LxDpCxnV4fuy8QH0oHzXpCxnV4fuy8Q6QsZ1eH7svEB9KB816QsZ1eH7svEOkLGdXh+7LxAfSgfNekLGdXh+7LxDpCxnV4fuy8QH0oHzXpCxnV4fuy8Q6QsZ1eH7svEB9KB816QsZ1eH7svEOkLGdXh+7LxAfSgfNekLGdXh+7LxDpCxnV4fuy8QH0oHzXpCxnV4fuy8Q6QsZ1eH7svEB9KB816QsZ1eH7svEOkLGdXh+7LxAfSgfNekLGdXh+7LxDpCxnV4fuy8QH0oHzXpCxnV4fuy8Q6QsZ1eH7svEB9KB816QsZ1eH7svEOkLGdXh+7LxAfSgfNekLGdXh+7LxDpCxnV4fuy8QH0oHzXpCxnV4fuy8Q6QsZ1eH7svEB9KB816QsZ1eH7svEOkLGdXh+7LxAfSgfNekLGdXh+7LxDpCxnV4fuy8QH0oHzXpCxnV4fuy8Q6QsZ1eH7svEB9KB816QsZ1eH7svEOkLGdXh+7LxAfSgfNekLGdXh+7LxDpCxnV4fuy8QH0oHzXpCxnV4fuy8Q6QsZ1eH7svEB9KB816QsZ1eH7svEOkLGdXh+7LxAfSgfNekLGdXh+7LxDpCxnV4fuy8QH0owrehL4X9j5x0hYzq8P3ZeI8l/aBi2mubw+qt6MvEBygAAAAAAAAAAAAAAAAAAAAAAAAAAAAAAAAAAAAAAAAAAAAAAAAAAAAAAAAAAAAAAAAAAAAAAAAAAAAAAAAAAAAAAAAAAAAAAAAAAAAAAAAAAAAAAAAAAAAAAAAAAAAAAAAAAAAAAAAAAAAAAAAAAAAAAAAAAAAAAAAAAAAAAAAAAAAAAAAAAAAAAAAAAAAAAAAAAAAAAAAAAAAAAAAAAAAAAAAAAAAAAAAAAAAAAAAAAAAAAAP/9k=\n"
              }
            ],
            "_view_module": "@jupyter-widgets/output",
            "_model_module_version": "1.0.0",
            "_view_count": null,
            "_view_module_version": "1.0.0",
            "layout": "IPY_MODEL_af7d57da4d68485793015d35a429cdd1",
            "_model_module": "@jupyter-widgets/output"
          }
        },
        "13e46fc9ccce42409bb92fdc0fa7a762": {
          "model_module": "@jupyter-widgets/output",
          "model_name": "OutputModel",
          "state": {
            "_view_name": "OutputView",
            "msg_id": "",
            "_dom_classes": [],
            "_model_name": "OutputModel",
            "outputs": [
              {
                "output_type": "stream",
                "metadata": {
                  "tags": []
                },
                "text": "Video available at https://www.bilibili.com/video/BV1MU4y1H7WH\n",
                "stream": "stdout"
              },
              {
                "output_type": "display_data",
                "metadata": {
                  "tags": []
                },
                "text/html": "\n        <iframe\n            width=\"854\"\n            height=\"480\"\n            src=\"https://player.bilibili.com/player.html?bvid=BV1MU4y1H7WH&page=1?fs=1\"\n            frameborder=\"0\"\n            allowfullscreen\n        ></iframe>\n        ",
                "text/plain": "<__main__.BiliVideo at 0x7ff37992c310>"
              }
            ],
            "_view_module": "@jupyter-widgets/output",
            "_model_module_version": "1.0.0",
            "_view_count": null,
            "_view_module_version": "1.0.0",
            "layout": "IPY_MODEL_4c22a0a343d9410087a56d4dc03cf04e",
            "_model_module": "@jupyter-widgets/output"
          }
        },
        "af7d57da4d68485793015d35a429cdd1": {
          "model_module": "@jupyter-widgets/base",
          "model_name": "LayoutModel",
          "state": {
            "_view_name": "LayoutView",
            "grid_template_rows": null,
            "right": null,
            "justify_content": null,
            "_view_module": "@jupyter-widgets/base",
            "overflow": null,
            "_model_module_version": "1.2.0",
            "_view_count": null,
            "flex_flow": null,
            "width": null,
            "min_width": null,
            "border": null,
            "align_items": null,
            "bottom": null,
            "_model_module": "@jupyter-widgets/base",
            "top": null,
            "grid_column": null,
            "overflow_y": null,
            "overflow_x": null,
            "grid_auto_flow": null,
            "grid_area": null,
            "grid_template_columns": null,
            "flex": null,
            "_model_name": "LayoutModel",
            "justify_items": null,
            "grid_row": null,
            "max_height": null,
            "align_content": null,
            "visibility": null,
            "align_self": null,
            "height": null,
            "min_height": null,
            "padding": null,
            "grid_auto_rows": null,
            "grid_gap": null,
            "max_width": null,
            "order": null,
            "_view_module_version": "1.2.0",
            "grid_template_areas": null,
            "object_position": null,
            "object_fit": null,
            "grid_auto_columns": null,
            "margin": null,
            "display": null,
            "left": null
          }
        },
        "4c22a0a343d9410087a56d4dc03cf04e": {
          "model_module": "@jupyter-widgets/base",
          "model_name": "LayoutModel",
          "state": {
            "_view_name": "LayoutView",
            "grid_template_rows": null,
            "right": null,
            "justify_content": null,
            "_view_module": "@jupyter-widgets/base",
            "overflow": null,
            "_model_module_version": "1.2.0",
            "_view_count": null,
            "flex_flow": null,
            "width": null,
            "min_width": null,
            "border": null,
            "align_items": null,
            "bottom": null,
            "_model_module": "@jupyter-widgets/base",
            "top": null,
            "grid_column": null,
            "overflow_y": null,
            "overflow_x": null,
            "grid_auto_flow": null,
            "grid_area": null,
            "grid_template_columns": null,
            "flex": null,
            "_model_name": "LayoutModel",
            "justify_items": null,
            "grid_row": null,
            "max_height": null,
            "align_content": null,
            "visibility": null,
            "align_self": null,
            "height": null,
            "min_height": null,
            "padding": null,
            "grid_auto_rows": null,
            "grid_gap": null,
            "max_width": null,
            "order": null,
            "_view_module_version": "1.2.0",
            "grid_template_areas": null,
            "object_position": null,
            "object_fit": null,
            "grid_auto_columns": null,
            "margin": null,
            "display": null,
            "left": null
          }
        },
        "50c8e8f474884a0a93d2ffca4308663c": {
          "model_module": "@jupyter-widgets/controls",
          "model_name": "TabModel",
          "state": {
            "_view_name": "TabView",
            "_dom_classes": [],
            "_titles": {
              "0": "Youtube",
              "1": "Bilibili"
            },
            "_model_name": "TabModel",
            "_view_module": "@jupyter-widgets/controls",
            "selected_index": 0,
            "_model_module_version": "1.5.0",
            "_view_count": null,
            "_view_module_version": "1.5.0",
            "box_style": "",
            "layout": "IPY_MODEL_8cb899f04aee497aa919bc9f834b0b11",
            "_model_module": "@jupyter-widgets/controls",
            "children": [
              "IPY_MODEL_7a251e7d70ee4a608bd06b0b4c685d72",
              "IPY_MODEL_5ec0dd1e1da740feb62726720a77465c"
            ]
          }
        },
        "8cb899f04aee497aa919bc9f834b0b11": {
          "model_module": "@jupyter-widgets/base",
          "model_name": "LayoutModel",
          "state": {
            "_view_name": "LayoutView",
            "grid_template_rows": null,
            "right": null,
            "justify_content": null,
            "_view_module": "@jupyter-widgets/base",
            "overflow": null,
            "_model_module_version": "1.2.0",
            "_view_count": null,
            "flex_flow": null,
            "width": null,
            "min_width": null,
            "border": null,
            "align_items": null,
            "bottom": null,
            "_model_module": "@jupyter-widgets/base",
            "top": null,
            "grid_column": null,
            "overflow_y": null,
            "overflow_x": null,
            "grid_auto_flow": null,
            "grid_area": null,
            "grid_template_columns": null,
            "flex": null,
            "_model_name": "LayoutModel",
            "justify_items": null,
            "grid_row": null,
            "max_height": null,
            "align_content": null,
            "visibility": null,
            "align_self": null,
            "height": null,
            "min_height": null,
            "padding": null,
            "grid_auto_rows": null,
            "grid_gap": null,
            "max_width": null,
            "order": null,
            "_view_module_version": "1.2.0",
            "grid_template_areas": null,
            "object_position": null,
            "object_fit": null,
            "grid_auto_columns": null,
            "margin": null,
            "display": null,
            "left": null
          }
        },
        "7a251e7d70ee4a608bd06b0b4c685d72": {
          "model_module": "@jupyter-widgets/output",
          "model_name": "OutputModel",
          "state": {
            "_view_name": "OutputView",
            "msg_id": "",
            "_dom_classes": [],
            "_model_name": "OutputModel",
            "outputs": [
              {
                "output_type": "stream",
                "metadata": {
                  "tags": []
                },
                "text": "Video available at https://youtube.com/watch?v=TvZURbcnXc4\n",
                "stream": "stdout"
              },
              {
                "output_type": "display_data",
                "metadata": {
                  "tags": []
                },
                "text/html": "\n        <iframe\n            width=\"854\"\n            height=\"480\"\n            src=\"https://www.youtube.com/embed/TvZURbcnXc4?fs=1&rel=0\"\n            frameborder=\"0\"\n            allowfullscreen\n        ></iframe>\n        ",
                "text/plain": "<IPython.lib.display.YouTubeVideo at 0x7ff3707f5850>",
                "image/jpeg": "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\n"
              }
            ],
            "_view_module": "@jupyter-widgets/output",
            "_model_module_version": "1.0.0",
            "_view_count": null,
            "_view_module_version": "1.0.0",
            "layout": "IPY_MODEL_1ae400bafbdd4166a17a48ab30174168",
            "_model_module": "@jupyter-widgets/output"
          }
        },
        "5ec0dd1e1da740feb62726720a77465c": {
          "model_module": "@jupyter-widgets/output",
          "model_name": "OutputModel",
          "state": {
            "_view_name": "OutputView",
            "msg_id": "",
            "_dom_classes": [],
            "_model_name": "OutputModel",
            "outputs": [
              {
                "output_type": "stream",
                "metadata": {
                  "tags": []
                },
                "text": "Video available at https://www.bilibili.com/video/BV1Pg41177VU\n",
                "stream": "stdout"
              },
              {
                "output_type": "display_data",
                "metadata": {
                  "tags": []
                },
                "text/html": "\n        <iframe\n            width=\"854\"\n            height=\"480\"\n            src=\"https://player.bilibili.com/player.html?bvid=BV1Pg41177VU&page=1?fs=1\"\n            frameborder=\"0\"\n            allowfullscreen\n        ></iframe>\n        ",
                "text/plain": "<__main__.BiliVideo at 0x7ff36ff8f610>"
              }
            ],
            "_view_module": "@jupyter-widgets/output",
            "_model_module_version": "1.0.0",
            "_view_count": null,
            "_view_module_version": "1.0.0",
            "layout": "IPY_MODEL_6e88ee26600642acac7d20c8c74b9fb0",
            "_model_module": "@jupyter-widgets/output"
          }
        },
        "1ae400bafbdd4166a17a48ab30174168": {
          "model_module": "@jupyter-widgets/base",
          "model_name": "LayoutModel",
          "state": {
            "_view_name": "LayoutView",
            "grid_template_rows": null,
            "right": null,
            "justify_content": null,
            "_view_module": "@jupyter-widgets/base",
            "overflow": null,
            "_model_module_version": "1.2.0",
            "_view_count": null,
            "flex_flow": null,
            "width": null,
            "min_width": null,
            "border": null,
            "align_items": null,
            "bottom": null,
            "_model_module": "@jupyter-widgets/base",
            "top": null,
            "grid_column": null,
            "overflow_y": null,
            "overflow_x": null,
            "grid_auto_flow": null,
            "grid_area": null,
            "grid_template_columns": null,
            "flex": null,
            "_model_name": "LayoutModel",
            "justify_items": null,
            "grid_row": null,
            "max_height": null,
            "align_content": null,
            "visibility": null,
            "align_self": null,
            "height": null,
            "min_height": null,
            "padding": null,
            "grid_auto_rows": null,
            "grid_gap": null,
            "max_width": null,
            "order": null,
            "_view_module_version": "1.2.0",
            "grid_template_areas": null,
            "object_position": null,
            "object_fit": null,
            "grid_auto_columns": null,
            "margin": null,
            "display": null,
            "left": null
          }
        },
        "6e88ee26600642acac7d20c8c74b9fb0": {
          "model_module": "@jupyter-widgets/base",
          "model_name": "LayoutModel",
          "state": {
            "_view_name": "LayoutView",
            "grid_template_rows": null,
            "right": null,
            "justify_content": null,
            "_view_module": "@jupyter-widgets/base",
            "overflow": null,
            "_model_module_version": "1.2.0",
            "_view_count": null,
            "flex_flow": null,
            "width": null,
            "min_width": null,
            "border": null,
            "align_items": null,
            "bottom": null,
            "_model_module": "@jupyter-widgets/base",
            "top": null,
            "grid_column": null,
            "overflow_y": null,
            "overflow_x": null,
            "grid_auto_flow": null,
            "grid_area": null,
            "grid_template_columns": null,
            "flex": null,
            "_model_name": "LayoutModel",
            "justify_items": null,
            "grid_row": null,
            "max_height": null,
            "align_content": null,
            "visibility": null,
            "align_self": null,
            "height": null,
            "min_height": null,
            "padding": null,
            "grid_auto_rows": null,
            "grid_gap": null,
            "max_width": null,
            "order": null,
            "_view_module_version": "1.2.0",
            "grid_template_areas": null,
            "object_position": null,
            "object_fit": null,
            "grid_auto_columns": null,
            "margin": null,
            "display": null,
            "left": null
          }
        }
      }
    }
  },
  "cells": [
    {
      "cell_type": "markdown",
      "metadata": {
        "id": "view-in-github",
        "colab_type": "text"
      },
      "source": [
        "<a href=\"https://colab.research.google.com/github/sudraka/course-content-dl/blob/main/tutorials/W1D2_LinearDeepLearning/student/W1D2_Tutorial1.ipynb\" target=\"_parent\"><img src=\"https://colab.research.google.com/assets/colab-badge.svg\" alt=\"Open In Colab\"/></a>"
      ]
    },
    {
      "cell_type": "markdown",
      "metadata": {
        "execution": {},
        "id": "fnPmcTeG82gA"
      },
      "source": [
        "# Tutorial 1: Gradient Descent and AutoGrad\n",
        "**Week 1, Day 2: Linear Deep Learning**\n",
        "\n",
        "**By Neuromatch Academy**\n",
        "\n",
        "__Content creators:__ Saeed Salehi, Vladimir Haltakov, Andrew Saxe\n",
        "\n",
        "__Content reviewers:__ Polina Turishcheva, Antoine De Comite, Kelson Shilling-Scrivo\n",
        "\n",
        "__Content editors:__ Anoop Kulkarni, Spiros Chavlis\n",
        "\n",
        "__Production editors:__ Khalid Almubarak, Spiros Chavlis\n"
      ]
    },
    {
      "cell_type": "markdown",
      "metadata": {
        "execution": {},
        "id": "jHdIx5Pk82gN"
      },
      "source": [
        "---\n",
        "#Tutorial Objectives\n",
        "\n",
        "Day 2 Tutorial 1 will continue on buiding PyTorch skillset and motivate its core functionality, Autograd. In this notebook, we will cover the key concepts and ideas of:\n",
        "\n",
        "* Gradient descent\n",
        "* PyTorch Autograd\n",
        "* PyTorch nn module\n",
        "\n",
        "\n"
      ]
    },
    {
      "cell_type": "code",
      "metadata": {
        "cellView": "form",
        "execution": {},
        "id": "95Ht_4BZ82gP"
      },
      "source": [
        "# @title Tutorial slides\n",
        "\n",
        "# @markdown These are the slides for the videos in this tutorial\n",
        "from IPython.display import IFrame\n",
        "IFrame(src=f\"https://mfr.ca-1.osf.io/render?url=https://osf.io/3qevp/?direct%26mode=render%26action=download%26mode=render\", width=854, height=480)"
      ],
      "execution_count": null,
      "outputs": []
    },
    {
      "cell_type": "markdown",
      "metadata": {
        "execution": {},
        "id": "VwIDaSkL82gU"
      },
      "source": [
        "---\n",
        "# Setup\n",
        "\n",
        "This a GPU-Free tutorial!\n"
      ]
    },
    {
      "cell_type": "code",
      "metadata": {
        "cellView": "form",
        "execution": {},
        "id": "TiR5htd682gW",
        "outputId": "68e15e55-5ba2-4200-84e6-019b0107ae65",
        "colab": {
          "base_uri": "https://localhost:8080/"
        }
      },
      "source": [
        "# @title Install dependencies\n",
        "!pip install git+https://github.com/NeuromatchAcademy/evaltools --quiet\n",
        "\n",
        "from evaltools.airtable import AirtableForm\n",
        "# init airtable form\n",
        "atform = AirtableForm('appn7VdPRseSoMXEG','W1D2_T1','https://portal.neuromatchacademy.org/api/redirect/to/9c55f6cb-cdf9-4429-ac1c-ec44fe64c303')"
      ],
      "execution_count": 1,
      "outputs": [
        {
          "output_type": "stream",
          "text": [
            "  Building wheel for evaltools (setup.py) ... \u001b[?25l\u001b[?25hdone\n"
          ],
          "name": "stdout"
        }
      ]
    },
    {
      "cell_type": "code",
      "metadata": {
        "execution": {},
        "id": "yha6VKZF82gY"
      },
      "source": [
        "# Imports\n",
        "import torch\n",
        "import numpy as np\n",
        "from torch import nn\n",
        "from math import pi\n",
        "import matplotlib.pyplot as plt"
      ],
      "execution_count": 2,
      "outputs": []
    },
    {
      "cell_type": "code",
      "metadata": {
        "cellView": "form",
        "execution": {},
        "id": "rabpfpqS82gZ"
      },
      "source": [
        "# @title Figure settings\n",
        "import ipywidgets as widgets       # interactive display\n",
        "%config InlineBackend.figure_format = 'retina'\n",
        "plt.style.use(\"https://raw.githubusercontent.com/NeuromatchAcademy/content-creation/main/nma.mplstyle\")"
      ],
      "execution_count": 3,
      "outputs": []
    },
    {
      "cell_type": "code",
      "metadata": {
        "cellView": "form",
        "execution": {},
        "id": "gbVzLeGp82gb"
      },
      "source": [
        "# @title Plotting functions\n",
        "\n",
        "from mpl_toolkits.axes_grid1 import make_axes_locatable\n",
        "\n",
        "def ex3_plot(model, x, y, ep, lss):\n",
        "  f, (ax1, ax2) = plt.subplots(1, 2, figsize=(12, 4))\n",
        "  ax1.set_title(\"Regression\")\n",
        "  ax1.plot(x, model(x).detach().numpy(), color='r', label='prediction')\n",
        "  ax1.scatter(x, y, c='c', label='targets')\n",
        "  ax1.set_xlabel('x')\n",
        "  ax1.set_ylabel('y')\n",
        "  ax1.legend()\n",
        "\n",
        "  ax2.set_title(\"Training loss\")\n",
        "  ax2.plot(np.linspace(1, epochs, epochs), losses, color='y')\n",
        "  ax2.set_xlabel(\"Epoch\")\n",
        "  ax2.set_ylabel(\"MSE\")\n",
        "\n",
        "  plt.show()\n",
        "\n",
        "\n",
        "def ex1_plot(fun_z, fun_dz):\n",
        "  \"\"\"Plots the function and gradient vectors\n",
        "\n",
        "  \"\"\"\n",
        "  x, y = np.arange(-3, 3.01, 0.02), np.arange(-3, 3.01, 0.02)\n",
        "  xx, yy = np.meshgrid(x, y, sparse=True)\n",
        "  zz = fun_z(xx, yy)\n",
        "  xg, yg = np.arange(-2.5, 2.6, 0.5), np.arange(-2.5, 2.6, 0.5)\n",
        "  xxg, yyg = np.meshgrid(xg, yg, sparse=True)\n",
        "  zxg, zyg = fun_dz(xxg, yyg)\n",
        "\n",
        "  plt.figure(figsize=(8, 7))\n",
        "  plt.title(\"Gradient vectors point towards steepest ascent\")\n",
        "  contplt = plt.contourf(x, y, zz, levels=20)\n",
        "  plt.quiver(xxg, yyg, zxg, zyg, scale=50, color='r', )\n",
        "  plt.xlabel('$x$')\n",
        "  plt.ylabel('$y$')\n",
        "  ax = plt.gca()\n",
        "  divider = make_axes_locatable(ax)\n",
        "  cax = divider.append_axes(\"right\", size=\"5%\", pad=0.05)\n",
        "  cbar = plt.colorbar(contplt, cax=cax)\n",
        "  cbar.set_label('$z = h(x, y)$')\n",
        "  plt.show()"
      ],
      "execution_count": 4,
      "outputs": []
    },
    {
      "cell_type": "code",
      "metadata": {
        "cellView": "form",
        "execution": {},
        "id": "V1TaBS8h82ge"
      },
      "source": [
        "# @title Set random seed\n",
        "\n",
        "# @markdown Executing `set_seed(seed=seed)` you are setting the seed\n",
        "\n",
        "# for DL its critical to set the random seed so that students can have a\n",
        "# baseline to compare their results to expected results.\n",
        "# Read more here: https://pytorch.org/docs/stable/notes/randomness.html\n",
        "\n",
        "# Call `set_seed` function in the exercises to ensure reproducibility.\n",
        "import random\n",
        "import torch\n",
        "\n",
        "def set_seed(seed=None, seed_torch=True):\n",
        "  if seed is None:\n",
        "    seed = np.random.choice(2 ** 32)\n",
        "  random.seed(seed)\n",
        "  np.random.seed(seed)\n",
        "  if seed_torch:\n",
        "    torch.manual_seed(seed)\n",
        "    torch.cuda.manual_seed_all(seed)\n",
        "    torch.cuda.manual_seed(seed)\n",
        "    torch.backends.cudnn.benchmark = False\n",
        "    torch.backends.cudnn.deterministic = True\n",
        "\n",
        "  print(f'Random seed {seed} has been set.')\n",
        "\n",
        "\n",
        "# In case that `DataLoader` is used\n",
        "def seed_worker(worker_id):\n",
        "  worker_seed = torch.initial_seed() % 2**32\n",
        "  np.random.seed(worker_seed)\n",
        "  random.seed(worker_seed)"
      ],
      "execution_count": 5,
      "outputs": []
    },
    {
      "cell_type": "code",
      "metadata": {
        "cellView": "form",
        "execution": {},
        "id": "zj9pHTq282gh"
      },
      "source": [
        "# @title Set device (GPU or CPU). Execute `set_device()`\n",
        "# especially if torch modules used.\n",
        "\n",
        "# inform the user if the notebook uses GPU or CPU.\n",
        "\n",
        "def set_device():\n",
        "  device = \"cuda\" if torch.cuda.is_available() else \"cpu\"\n",
        "  if device != \"cuda\":\n",
        "    print(\"GPU is not enabled in this notebook. \\n\"\n",
        "          \"If you want to enable it, in the menu under `Runtime` -> \\n\"\n",
        "          \"`Hardware accelerator.` and select `GPU` from the dropdown menu\")\n",
        "  else:\n",
        "    print(\"GPU is enabled in this notebook. \\n\"\n",
        "          \"If you want to disable it, in the menu under `Runtime` -> \\n\"\n",
        "          \"`Hardware accelerator.` and select `None` from the dropdown menu\")\n",
        "\n",
        "  return device"
      ],
      "execution_count": 6,
      "outputs": []
    },
    {
      "cell_type": "code",
      "metadata": {
        "execution": {},
        "id": "-tQqOyYo82gk",
        "outputId": "e54dec8f-370a-4850-855f-1120bb1db245",
        "colab": {
          "base_uri": "https://localhost:8080/"
        }
      },
      "source": [
        "SEED = 2021\n",
        "set_seed(seed=SEED)\n",
        "DEVICE = set_device()"
      ],
      "execution_count": 7,
      "outputs": [
        {
          "output_type": "stream",
          "text": [
            "Random seed 2021 has been set.\n",
            "GPU is not enabled in this notebook. \n",
            "If you want to enable it, in the menu under `Runtime` -> \n",
            "`Hardware accelerator.` and select `GPU` from the dropdown menu\n"
          ],
          "name": "stdout"
        }
      ]
    },
    {
      "cell_type": "markdown",
      "metadata": {
        "execution": {},
        "id": "WVdndDz282gm"
      },
      "source": [
        "---\n",
        "# Section 0: Introduction"
      ]
    },
    {
      "cell_type": "markdown",
      "metadata": {
        "execution": {},
        "id": "wgeZKVjt82gq"
      },
      "source": [
        "Today, we will go through 3 tutorials. Starting with Gradient Descent, the workhorse of deep learning algorithms, in this tutorial. The second tutorial will help us build a better intuition about neural networks and basic hyper-parameters. Finally, in tutorial 3, we learn about the learning dynamics, what the (a good) deep network is learning, and why sometimes they may perform poorly."
      ]
    },
    {
      "cell_type": "code",
      "metadata": {
        "cellView": "form",
        "execution": {},
        "id": "3VuCKeVz82gu",
        "outputId": "7c048a3c-9b74-4884-9b43-a28640119c81",
        "colab": {
          "base_uri": "https://localhost:8080/",
          "height": 580,
          "referenced_widgets": [
            "0ede57b4b5f741a29347288aee7b3602",
            "b9ff8735bac64fcd86a622e93a66de68",
            "f4f3bd66fef34c19a1b2a86ddb62f286",
            "839431612bd64a459720fca16eff84bb",
            "dc0dc02bb342467e8f772a4ca77078de",
            "21357a24950c436882a9e999f99b8ce0"
          ]
        }
      },
      "source": [
        "# @title Video 0: Introduction\n",
        "from ipywidgets import widgets\n",
        "\n",
        "out2 = widgets.Output()\n",
        "with out2:\n",
        "  from IPython.display import IFrame\n",
        "  class BiliVideo(IFrame):\n",
        "    def __init__(self, id, page=1, width=400, height=300, **kwargs):\n",
        "      self.id=id\n",
        "      src = \"https://player.bilibili.com/player.html?bvid={0}&page={1}\".format(id, page)\n",
        "      super(BiliVideo, self).__init__(src, width, height, **kwargs)\n",
        "\n",
        "  video = BiliVideo(id=f\"BV1Qf4y1578t\", width=854, height=480, fs=1)\n",
        "  print(\"Video available at https://www.bilibili.com/video/{0}\".format(video.id))\n",
        "  display(video)\n",
        "\n",
        "out1 = widgets.Output()\n",
        "with out1:\n",
        "  from IPython.display import YouTubeVideo\n",
        "  video = YouTubeVideo(id=f\"i7djAv2jnzY\", width=854, height=480, fs=1, rel=0)\n",
        "  print(\"Video available at https://youtube.com/watch?v=\" + video.id)\n",
        "  display(video)\n",
        "\n",
        "out = widgets.Tab([out1, out2])\n",
        "out.set_title(0, 'Youtube')\n",
        "out.set_title(1, 'Bilibili')\n",
        "\n",
        "#add event to airtable\n",
        "atform.add_event('Video 0:Introduction')\n",
        "\n",
        "display(out)"
      ],
      "execution_count": 8,
      "outputs": [
        {
          "output_type": "display_data",
          "data": {
            "application/vnd.jupyter.widget-view+json": {
              "model_id": "0ede57b4b5f741a29347288aee7b3602",
              "version_minor": 0,
              "version_major": 2
            },
            "text/plain": [
              "Tab(children=(Output(), Output()), _titles={'0': 'Youtube', '1': 'Bilibili'})"
            ]
          },
          "metadata": {
            "tags": []
          }
        }
      ]
    },
    {
      "cell_type": "markdown",
      "metadata": {
        "execution": {},
        "id": "aOBcEmTU82gv"
      },
      "source": [
        "---\n",
        "# Section 1: Gradient Descent Algorithm\n",
        "\n",
        "*Time estimate: ~30-45 mins*"
      ]
    },
    {
      "cell_type": "markdown",
      "metadata": {
        "execution": {},
        "id": "KBDQZXU182gw"
      },
      "source": [
        "Since the goal of most learning algorithms is **minimizing the risk (also known as the cost or loss) function**, optimization is often the core of most machine learning techniques! The gradient descent algorithm, along with its variations such as stochastic gradient descent, is one of the most powerful and popular optimization methods used for deep learning. Today we will introduce the basics, but you will learn much more about Optimization in the coming days (Week 1 Day 4).\n",
        "\n",
        "\n",
        "\n"
      ]
    },
    {
      "cell_type": "markdown",
      "metadata": {
        "execution": {},
        "id": "UiVFbl1482gx"
      },
      "source": [
        "## Section 1.1: Gradients & Steepest Ascent"
      ]
    },
    {
      "cell_type": "code",
      "metadata": {
        "cellView": "form",
        "execution": {},
        "id": "xiTNTig382gz",
        "outputId": "dc0b9281-fd8f-422f-fdfa-a9d9c0ad849d",
        "colab": {
          "base_uri": "https://localhost:8080/",
          "height": 580,
          "referenced_widgets": [
            "f3ed7aa8a93b4bd8bf473927c361750e",
            "bb2ca1ff37694855813a077939ec46b1",
            "0087b00da4f34a97b9f319be16422b4f",
            "d88fde2fe46f4702a8b4cbae83b0e792",
            "5e8cc2756c5f4652ad3a64342ed2af0b",
            "3257a702af4f45eb9e80903e7ca1a5f0"
          ]
        }
      },
      "source": [
        "# @title Video 1: Gradient Descent\n",
        "from ipywidgets import widgets\n",
        "\n",
        "out2 = widgets.Output()\n",
        "with out2:\n",
        "  from IPython.display import IFrame\n",
        "  class BiliVideo(IFrame):\n",
        "    def __init__(self, id, page=1, width=400, height=300, **kwargs):\n",
        "      self.id=id\n",
        "      src = \"https://player.bilibili.com/player.html?bvid={0}&page={1}\".format(id, page)\n",
        "      super(BiliVideo, self).__init__(src, width, height, **kwargs)\n",
        "\n",
        "  video = BiliVideo(id=f\"BV1Pq4y1p7em\", width=854, height=480, fs=1)\n",
        "  print(\"Video available at https://www.bilibili.com/video/{0}\".format(video.id))\n",
        "  display(video)\n",
        "\n",
        "out1 = widgets.Output()\n",
        "with out1:\n",
        "  from IPython.display import YouTubeVideo\n",
        "  video = YouTubeVideo(id=f\"UwgA_SgG0TM\", width=854, height=480, fs=1, rel=0)\n",
        "  print(\"Video available at https://youtube.com/watch?v=\" + video.id)\n",
        "  display(video)\n",
        "\n",
        "out = widgets.Tab([out1, out2])\n",
        "out.set_title(0, 'Youtube')\n",
        "out.set_title(1, 'Bilibili')\n",
        "\n",
        "#add event to airtable\n",
        "atform.add_event('Video 1: Gradient Descent')\n",
        "\n",
        "display(out)"
      ],
      "execution_count": 9,
      "outputs": [
        {
          "output_type": "display_data",
          "data": {
            "application/vnd.jupyter.widget-view+json": {
              "model_id": "f3ed7aa8a93b4bd8bf473927c361750e",
              "version_minor": 0,
              "version_major": 2
            },
            "text/plain": [
              "Tab(children=(Output(), Output()), _titles={'0': 'Youtube', '1': 'Bilibili'})"
            ]
          },
          "metadata": {
            "tags": []
          }
        }
      ]
    },
    {
      "cell_type": "markdown",
      "metadata": {
        "execution": {},
        "id": "ZKsBuc8k82g0"
      },
      "source": [
        "Before introducing the gradient descent algorithm, let's review a very important property of gradients. The gradient of a function always points in the direction of the steepest ascent. The following exercise will help clarify this."
      ]
    },
    {
      "cell_type": "markdown",
      "metadata": {
        "execution": {},
        "id": "ZX4TKHI982g2"
      },
      "source": [
        "### Analytical Exercise 1.1: Gradient vector (Optional)\n",
        "\n",
        "Given the following function:\n",
        "\n",
        "\\begin{equation}\n",
        "z = h(x, y) = \\sin(x^2 + y^2)\n",
        "\\end{equation}\n",
        "\n",
        "find the gradient vector:\n",
        "\n",
        "\\begin{equation}\n",
        "  \\begin{bmatrix}\n",
        "  \\dfrac{\\partial z}{\\partial x} \\\\ \\\\ \\dfrac{\\partial z}{\\partial y}\n",
        "  \\end{bmatrix}\n",
        "\\end{equation}\n",
        "\n",
        "\n",
        "*hint: use the chain rule!*\n",
        "\n",
        "**Chain rule**: For a composite function $F(x) = g(h(x)) \\equiv (g \\circ h)(x)$:\n",
        "\n",
        "\\begin{equation}\n",
        "F'(x) = g'(h(x)) \\cdot h'(x)\n",
        "\\end{equation}\n",
        "\n",
        "or differently denoted:\n",
        "\n",
        "\\begin{equation}\n",
        "\\frac{dF}{dx} = \\frac{dg}{dh} ~ \\frac{dh}{dx}\n",
        "\\end{equation}\n",
        "\n",
        "---\n",
        "#### Solution:\n",
        "We can rewrite the function as a composite function:\n",
        "\n",
        "\\begin{equation}\n",
        "z = f\\left( g(x,y) \\right), ~~ f(u) = \\sin(u), ~~ g(x, y) = x^2 + y^2\n",
        "\\end{equation}\n",
        "\n",
        "Using chain rule:\n",
        "\n",
        "\\begin{align}\n",
        "\\dfrac{\\partial z}{\\partial x} &= \\dfrac{\\partial f}{\\partial g} \\dfrac{\\partial g}{\\partial x} = \\cos(g(x,y)) ~ (2x) = \\cos(x^2 + y^2) \\cdot 2x \\\\ \\\\\n",
        "\\dfrac{\\partial z}{\\partial y} &= \\dfrac{\\partial f}{\\partial g} \\dfrac{\\partial g}{\\partial y} = \\cos(g(x,y)) ~ (2y) = \\cos(x^2 + y^2) \\cdot 2y\n",
        "\\end{align}\n"
      ]
    },
    {
      "cell_type": "markdown",
      "metadata": {
        "execution": {},
        "id": "lHtL4M-382g2"
      },
      "source": [
        "### Coding Exercise 1.1: Gradient Vector\n",
        "\n",
        "Implement (complete) the function which returns the gradient vector for $z=\\sin(x^2 + y^2)$."
      ]
    },
    {
      "cell_type": "code",
      "metadata": {
        "execution": {},
        "id": "SLsHEOJN82g5",
        "outputId": "3374a445-d7d0-4286-aad7-ca2b02f4a2a1",
        "colab": {
          "base_uri": "https://localhost:8080/",
          "height": 503
        }
      },
      "source": [
        "def fun_z(x, y):\n",
        "  \"\"\"Function sin(x^2 + y^2)\n",
        "\n",
        "  Args:\n",
        "    x (float, np.ndarray): variable x\n",
        "    y (float, np.ndarray): variable y\n",
        "\n",
        "  Return:\n",
        "    z (float, np.ndarray): sin(x^2 + y^2)\n",
        "  \"\"\"\n",
        "  z = np.sin(x**2 + y**2)\n",
        "  return z\n",
        "\n",
        "\n",
        "def fun_dz(x, y):\n",
        "  \"\"\"Function sin(x^2 + y^2)\n",
        "\n",
        "  Args:\n",
        "    x (float, np.ndarray): variable x\n",
        "    y (float, np.ndarray): variable y\n",
        "\n",
        "  Return:\n",
        "    (tuple): gradient vector for sin(x^2 + y^2)\n",
        "  \"\"\"\n",
        "  #################################################\n",
        "  ## Implement the function which returns gradient vector\n",
        "  ## Complete the partial derivatives dz_dx and dz_dy\n",
        "  # Complete the function and remove or comment the line below\n",
        "  #################################################\n",
        "  dz_dx = np.cos(x**2 + y**2) *2*x \n",
        "  dz_dy = np.cos(x**2 + y**2) *2*y\n",
        "  return (dz_dx, dz_dy)\n",
        "\n",
        "#add event to airtable\n",
        "atform.add_event('Coding Exercise 1.1: Gradient Vector')\n",
        "\n",
        "## Uncomment to run\n",
        "ex1_plot(fun_z, fun_dz)"
      ],
      "execution_count": 10,
      "outputs": [
        {
          "output_type": "display_data",
          "data": {
            "image/png": "[encoded data removed]",
            "text/plain": [
              "<Figure size 576x504 with 2 Axes>"
            ]
          },
          "metadata": {
            "tags": [],
            "image/png": {
              "width": 557,
              "height": 486
            },
            "needs_background": "light"
          }
        }
      ]
    },
    {
      "cell_type": "markdown",
      "metadata": {
        "execution": {},
        "id": "5Ks50zv082g-"
      },
      "source": [
        "We can see from the plot that for any given $x_0$ and $y_0$, the gradient vector $\\left[ \\dfrac{\\partial z}{\\partial x}, \\dfrac{\\partial z}{\\partial y}\\right]^{\\top}_{(x_0, y_0)}$ points in the direction of $x$ and $y$ for which $z$ increases the most. It is important to note that gradient vectors only see their local values, not the whole landscape! Also, length (size) of each vector, which indicates the steepness of the function, can be very small near local plateaus (i.e. minima or maxima).\n",
        "\n",
        "Thus, we can simply use the aforementioned formula to find the local minima. \n",
        "\n",
        "In 1847, Augustin-Louis Cauchy used **negative of gradients**  to develop the Gradient Descent algorithm as an **iterative** method to **minimize** a **continuous** and (ideally) **differentiable function** of **many variables**."
      ]
    },
    {
      "cell_type": "code",
      "metadata": {
        "cellView": "form",
        "execution": {},
        "id": "lva0PDWZ82g_",
        "outputId": "ae71a8aa-9ff8-480c-defe-8c5ae20cf807",
        "colab": {
          "base_uri": "https://localhost:8080/",
          "height": 580,
          "referenced_widgets": [
            "a858058684ee4dfb8b9cf8fbdd801d55",
            "6b2a097c65154d1c89b703d769cd120c",
            "26656df853244523b80751cdc375c92c",
            "ebec210b83b1478fb34f7422626ded79",
            "39703e39eeda446182b210e2217c3463",
            "73de3cbe561e467c909d2dca61c40ac9"
          ]
        }
      },
      "source": [
        "# @title Video 2: Gradient Descent - Discussion\n",
        "from ipywidgets import widgets\n",
        "\n",
        "out2 = widgets.Output()\n",
        "with out2:\n",
        "  from IPython.display import IFrame\n",
        "  class BiliVideo(IFrame):\n",
        "    def __init__(self, id, page=1, width=400, height=300, **kwargs):\n",
        "      self.id=id\n",
        "      src = \"https://player.bilibili.com/player.html?bvid={0}&page={1}\".format(id, page)\n",
        "      super(BiliVideo, self).__init__(src, width, height, **kwargs)\n",
        "\n",
        "  video = BiliVideo(id=f\"BV1Rf4y157bw\", width=854, height=480, fs=1)\n",
        "  print(\"Video available at https://www.bilibili.com/video/{0}\".format(video.id))\n",
        "  display(video)\n",
        "\n",
        "out1 = widgets.Output()\n",
        "with out1:\n",
        "  from IPython.display import YouTubeVideo\n",
        "  video = YouTubeVideo(id=f\"8s22ffAfGwI\", width=854, height=480, fs=1, rel=0)\n",
        "  print(\"Video available at https://youtube.com/watch?v=\" + video.id)\n",
        "  display(video)\n",
        "\n",
        "out = widgets.Tab([out1, out2])\n",
        "out.set_title(0, 'Youtube')\n",
        "out.set_title(1, 'Bilibili')\n",
        "\n",
        "#add event to airtable\n",
        "atform.add_event('Video 2: Gradient Descent ')\n",
        "\n",
        "display(out)"
      ],
      "execution_count": 11,
      "outputs": [
        {
          "output_type": "display_data",
          "data": {
            "application/vnd.jupyter.widget-view+json": {
              "model_id": "a858058684ee4dfb8b9cf8fbdd801d55",
              "version_minor": 0,
              "version_major": 2
            },
            "text/plain": [
              "Tab(children=(Output(), Output()), _titles={'0': 'Youtube', '1': 'Bilibili'})"
            ]
          },
          "metadata": {
            "tags": []
          }
        }
      ]
    },
    {
      "cell_type": "markdown",
      "metadata": {
        "execution": {},
        "id": "9mDLskWK82hB"
      },
      "source": [
        "## Section 1.2: Gradient Descent Algorithm"
      ]
    },
    {
      "cell_type": "markdown",
      "metadata": {
        "execution": {},
        "id": "hheu1k7y82hC"
      },
      "source": [
        "Let $f(\\mathbf{w}): \\mathbb{R}^d \\rightarrow \\mathbb{R}$ be a differentiable function. Gradient Descent is an iterative algorithm for minimizing the function $f$, starting with an initial value for variables $\\mathbf{w}$, taking steps of size $\\eta$ (learning rate) in the direction of the negative gradient at the current point to update the variables $\\mathbf{w}$.\n",
        "\n",
        "\\begin{equation}\n",
        "\\mathbf{w}^{(t+1)} = \\mathbf{w}^{(t)} - \\eta \\nabla f (\\mathbf{w}^{(t)})\n",
        "\\end{equation}\n",
        "\n",
        "where $\\eta > 0$ and $\\nabla f (\\mathbf{w})= \\left( \\frac{\\partial f(\\mathbf{w})}{\\partial w_1}, ..., \\frac{\\partial f(\\mathbf{w})}{\\partial w_d} \\right)$. Since negative gradients always point locally in the direction of steepest descent, the algorithm makes small steps at each point **towards** the minimum.\n",
        "  \n",
        "<br/>\n",
        "\n",
        "**Vanilla Algorithm**\n",
        "\n",
        "---\n",
        "> **inputs**: initial guess $\\mathbf{w}^{(0)}$, step size $\\eta > 0$, number of steps $T$\n",
        "\n",
        "> *For* $t = 0, 2, \\dots , T-1$ *do* \\\n",
        "$\\qquad$ $\\mathbf{w}^{(t+1)} = \\mathbf{w}^{(t)} - \\eta \\nabla f (\\mathbf{w}^{(t)})$\\\n",
        "*end*\n",
        "\n",
        "> *return*: $\\mathbf{w}^{(t+1)}$\n",
        "\n",
        "---\n",
        "\n",
        "<br/>\n",
        "\n",
        "Hence, all we need is to calculate the gradient of the loss function with respect to the learnable parameters (i.e. weights):\n",
        "\n",
        "\\begin{equation}\n",
        "\\dfrac{\\partial Loss}{\\partial \\mathbf{w}} = \\left[ \\dfrac{\\partial Loss}{\\partial w_1}, \\dfrac{\\partial Loss}{\\partial w_2} , ..., \\dfrac{\\partial Loss}{\\partial w_d} \\right]^{\\top}\n",
        "\\end{equation}\n",
        "\n"
      ]
    },
    {
      "cell_type": "markdown",
      "metadata": {
        "execution": {},
        "id": "cm033pZr82hC"
      },
      "source": [
        "### Analytical Exercise 1.2: Gradients\n",
        "\n",
        "Given $f(x, y, z) = \\tanh \\left( \\ln \\left[1 + z \\frac{2x}{sin(y)} \\right] \\right)$, how easy is it to derive $\\dfrac{\\partial f}{\\partial x}$, $\\dfrac{\\partial f}{\\partial y}$ and $\\dfrac{\\partial f}{\\partial z}$? (*hint: you don't have to actually calculate them!*)"
      ]
    },
    {
      "cell_type": "markdown",
      "metadata": {
        "execution": {},
        "id": "GxsADKa982hD"
      },
      "source": [
        "## Section 1.3: Computational Graphs and Backprop\n"
      ]
    },
    {
      "cell_type": "code",
      "metadata": {
        "cellView": "form",
        "execution": {},
        "id": "Dif9mspf82hD",
        "outputId": "ab69cd97-2cac-429e-e1cd-50f9d07c3df5",
        "colab": {
          "base_uri": "https://localhost:8080/",
          "height": 580,
          "referenced_widgets": [
            "0731faac56d5415aaaf0488d8a25df49",
            "7e20391aba1343be99bbf90f03a9618d",
            "9c47bcfc813d4ba597e6bed4f5968980",
            "31d89a78e04f49bb9dc406b5b829b982",
            "6c0fdc09ca99483b8631dc3e81c0b608",
            "7e797e61bf024dc9a6749ad627bc6452"
          ]
        }
      },
      "source": [
        "# @title Video 3: Computational Graph\n",
        "from ipywidgets import widgets\n",
        "\n",
        "out2 = widgets.Output()\n",
        "with out2:\n",
        "  from IPython.display import IFrame\n",
        "  class BiliVideo(IFrame):\n",
        "    def __init__(self, id, page=1, width=400, height=300, **kwargs):\n",
        "      self.id=id\n",
        "      src = \"https://player.bilibili.com/player.html?bvid={0}&page={1}\".format(id, page)\n",
        "      super(BiliVideo, self).__init__(src, width, height, **kwargs)\n",
        "\n",
        "  video = BiliVideo(id=f\"BV1c64y1B7ZG\", width=854, height=480, fs=1)\n",
        "  print(\"Video available at https://www.bilibili.com/video/{0}\".format(video.id))\n",
        "  display(video)\n",
        "\n",
        "out1 = widgets.Output()\n",
        "with out1:\n",
        "  from IPython.display import YouTubeVideo\n",
        "  video = YouTubeVideo(id=f\"2z1YX5PonV4\", width=854, height=480, fs=1, rel=0)\n",
        "  print(\"Video available at https://youtube.com/watch?v=\" + video.id)\n",
        "  display(video)\n",
        "\n",
        "out = widgets.Tab([out1, out2])\n",
        "out.set_title(0, 'Youtube')\n",
        "out.set_title(1, 'Bilibili')\n",
        "\n",
        "#add event to airtable\n",
        "atform.add_event('Video 3: Computational Graph ')\n",
        "\n",
        "display(out)"
      ],
      "execution_count": 12,
      "outputs": [
        {
          "output_type": "display_data",
          "data": {
            "application/vnd.jupyter.widget-view+json": {
              "model_id": "0731faac56d5415aaaf0488d8a25df49",
              "version_minor": 0,
              "version_major": 2
            },
            "text/plain": [
              "Tab(children=(Output(), Output()), _titles={'0': 'Youtube', '1': 'Bilibili'})"
            ]
          },
          "metadata": {
            "tags": []
          }
        }
      ]
    },
    {
      "cell_type": "markdown",
      "metadata": {
        "execution": {},
        "id": "aYlth98m82hG"
      },
      "source": [
        " *Exercise 1.2* is an example of how overwhelming the derivation of gradients can get, as the number of variables and nested functions increases. This function is still extraordinarily simple compared to the loss functions of modern neural networks. So how can we (as well as PyTorch and similar frameworks) approach such beasts?\n",
        "\n",
        "Let’s look at the function again:\n",
        "\n",
        "\\begin{equation}\n",
        "f(x, y, z) = \\tanh \\left(\\ln \\left[1 + z \\frac{2x}{sin(y)} \\right] \\right)\n",
        "\\end{equation}\n",
        "\n",
        "We can build a so-called computational graph (shown below) to break the original function into smaller and more approachable expressions.\n",
        "\n",
        "<center><img src=\"https://raw.githubusercontent.com/NeuromatchAcademy/course-content-dl/main/tutorials/W1D2_LinearDeepLearning/static/comput_graph.png\" alt=\"Computation Graph\" width=\"700\"/></center>\n",
        "\n",
        "Starting from $x$, $y$, and $z$ and following the arrows and expressions, you would see that our graph returns the same function as $f$. It does so by calculating intermediate variables $a,b,c,d,$ and $e$. This is called the **forward pass**.\n",
        "\n",
        "Now, let’s start from $f$, and work our way against the arrows while calculating the gradient of each expression as we go. This is called the **backward pass**, from which the **backpropagation of errors** algorithm gets its name.\n",
        "\n",
        "<center><img src=\"https://raw.githubusercontent.com/NeuromatchAcademy/course-content-dl/main/tutorials/W1D2_LinearDeepLearning/static/comput_graph_full.png\" alt=\"Computation Graph full\" width=\"1200\"/></center>\n",
        "\n",
        "By breaking the computation into simple operations on intermediate variables, we can use the chain rule to calculate any gradient:\n",
        "\n",
        "\\begin{equation}\n",
        "\\dfrac{\\partial f}{\\partial x} = \\dfrac{\\partial f}{\\partial e}~\\dfrac{\\partial e}{\\partial d}~\\dfrac{\\partial d}{\\partial c}~\\dfrac{\\partial c}{\\partial a}~\\dfrac{\\partial a}{\\partial x} = \\left( 1-\\tanh^2(e) \\right) \\cdot \\frac{1}{d+1}\\cdot z \\cdot \\frac{1}{b} \\cdot 2\n",
        "\\end{equation}\n",
        "\n",
        "Conveniently, the values for $e$, $b$, and $d$ are available to us from when we did the forward pass through the graph. That is, the partial derivatives have simple expressions in terms of the intermediate variables $a,b,c,d,e$ that we calculated and stored during the forward pass.\n"
      ]
    },
    {
      "cell_type": "markdown",
      "metadata": {
        "execution": {},
        "id": "PZrqsEsr82hJ"
      },
      "source": [
        "### Analytical Exercise 1.3: Chain Rule (Optional)\n",
        "For the function above, calculate the $\\dfrac{\\partial f}{\\partial y}$ using the computational graph and chain rule.\n",
        "\n",
        "---\n",
        "#### Solution:\n",
        "\\begin{equation}\n",
        "\\dfrac{\\partial f}{\\partial y} = \\dfrac{\\partial f}{\\partial e}~\\dfrac{\\partial e}{\\partial d}~\\dfrac{\\partial d}{\\partial c}~\\dfrac{\\partial c}{\\partial b}~\\dfrac{\\partial b}{\\partial y} = \\left( 1-\\tanh^2(e) \\right) \\cdot \\frac{1}{d+1}\\cdot z \\cdot \\frac{-a}{b^2} \\cdot \\cos(y)\n",
        "\\end{equation}"
      ]
    },
    {
      "cell_type": "markdown",
      "metadata": {
        "execution": {},
        "id": "X5UXbffZ82hJ"
      },
      "source": [
        "For more: [Calculus on Computational Graphs: Backpropagation](https://colah.github.io/posts/2015-08-Backprop/)"
      ]
    },
    {
      "cell_type": "markdown",
      "metadata": {
        "execution": {},
        "id": "vFFvGstY82hK"
      },
      "source": [
        "---\n",
        "# Section 2: PyTorch AutoGrad\n",
        "\n",
        "*Time estimate: ~30-45 mins*"
      ]
    },
    {
      "cell_type": "code",
      "metadata": {
        "cellView": "form",
        "execution": {},
        "id": "u02oy_Oo82hK",
        "outputId": "78f640b6-9f1d-4b92-bee0-561e5dc53b81",
        "colab": {
          "base_uri": "https://localhost:8080/",
          "height": 580,
          "referenced_widgets": [
            "6f391657e873426abffe4fddb0bd2088",
            "8d68e05c7acd40af9d6ac000e7be4609",
            "832a265066264b5886062cf125d50a6f",
            "1d85ce35e53947cf8f9519cf54949378",
            "3bc3a9268f7e4c5895c60de6348cd837",
            "10c0d8e1896f475288812de126df2541"
          ]
        }
      },
      "source": [
        "# @title Video 4: Auto-Differentiation\n",
        "from ipywidgets import widgets\n",
        "\n",
        "out2 = widgets.Output()\n",
        "with out2:\n",
        "  from IPython.display import IFrame\n",
        "  class BiliVideo(IFrame):\n",
        "    def __init__(self, id, page=1, width=400, height=300, **kwargs):\n",
        "      self.id=id\n",
        "      src = \"https://player.bilibili.com/player.html?bvid={0}&page={1}\".format(id, page)\n",
        "      super(BiliVideo, self).__init__(src, width, height, **kwargs)\n",
        "\n",
        "  video = BiliVideo(id=f\"BV1UP4y1s7gv\", width=854, height=480, fs=1)\n",
        "  print(\"Video available at https://www.bilibili.com/video/{0}\".format(video.id))\n",
        "  display(video)\n",
        "\n",
        "out1 = widgets.Output()\n",
        "with out1:\n",
        "  from IPython.display import YouTubeVideo\n",
        "  video = YouTubeVideo(id=f\"IBYFCNyBcF8\", width=854, height=480, fs=1, rel=0)\n",
        "  print(\"Video available at https://youtube.com/watch?v=\" + video.id)\n",
        "  display(video)\n",
        "\n",
        "out = widgets.Tab([out1, out2])\n",
        "out.set_title(0, 'Youtube')\n",
        "out.set_title(1, 'Bilibili')\n",
        "\n",
        "#add event to airtable\n",
        "atform.add_event('Video 4: Auto-Differentiation ')\n",
        "\n",
        "display(out)"
      ],
      "execution_count": 13,
      "outputs": [
        {
          "output_type": "display_data",
          "data": {
            "application/vnd.jupyter.widget-view+json": {
              "model_id": "6f391657e873426abffe4fddb0bd2088",
              "version_minor": 0,
              "version_major": 2
            },
            "text/plain": [
              "Tab(children=(Output(), Output()), _titles={'0': 'Youtube', '1': 'Bilibili'})"
            ]
          },
          "metadata": {
            "tags": []
          }
        }
      ]
    },
    {
      "cell_type": "markdown",
      "metadata": {
        "execution": {},
        "id": "H7sv9hJI82hL"
      },
      "source": [
        "Deep learning frameworks such as PyTorch, JAX, and TensorFlow come with a very efficient and sophisticated set of algorithms, commonly known as Automatic Differentiation. AutoGrad is PyTorch's automatic differentiation engine. Here we start by covering the essentials of AutoGrad, and you will learn more in the coming days.\n",
        "\n"
      ]
    },
    {
      "cell_type": "markdown",
      "metadata": {
        "execution": {},
        "id": "R9BkwPHp82hN"
      },
      "source": [
        "## Section 2.1: Forward Propagation\n",
        "\n",
        "Everything starts with the forward propagation (pass). PyTorch tracks all the instructions, as we declare the variables and operations, and it builds the graph when we call the `.backward()` pass. PyTorch rebuilds the graph every time we iterate or change it (or simply put, PyTorch uses a dynamic graph).\n",
        "\n",
        "For gradient descent, it is only required to have the gradients of cost function with respect to the variables we wish to learn. These variables are often called \"learnable / trainable parameters\" or simply \"parameters\" in PyTorch. In neural nets, weights and biases are often the learnable parameters. "
      ]
    },
    {
      "cell_type": "markdown",
      "metadata": {
        "execution": {},
        "id": "D2D5QL2P82hO"
      },
      "source": [
        "### Coding Exercise 2.1: Buiding a Computational Graph\n",
        "\n",
        "In PyTorch, to indicate that a certain tensor contains learnable parameters, we can set the optional argument `requires_grad` to `True`. PyTorch will then track every operation using this tensor while configuring the computational graph. For this exercise, use the provided tensors to build the following graph, which implements a single neuron with scalar input and output.\n",
        "\n",
        "<br/>\n",
        "\n",
        "<center><img src=\"https://raw.githubusercontent.com/NeuromatchAcademy/course-content-dl/main/tutorials/W1D2_LinearDeepLearning/static/simple_graph.png\" alt=\"Simple nn graph\" width=\"600\"/></center>"
      ]
    },
    {
      "cell_type": "code",
      "metadata": {
        "execution": {},
        "id": "cxdNCIS582hO",
        "outputId": "08c3202a-5caf-439f-e47c-5a107fb49df6",
        "colab": {
          "base_uri": "https://localhost:8080/"
        }
      },
      "source": [
        "#add event to airtable\n",
        "atform.add_event('Coding Exercise 2.1: Computational Graph ')\n",
        "\n",
        "\n",
        "class SimpleGraph:\n",
        "  def __init__(self, w, b):\n",
        "    \"\"\"Initializing the SimpleGraph\n",
        "\n",
        "    Args:\n",
        "      w (float): initial value for weight\n",
        "      b (float): initial value for bias\n",
        "    \"\"\"\n",
        "    assert isinstance(w, float)\n",
        "    assert isinstance(b, float)\n",
        "    self.w = torch.tensor([w], requires_grad=True)\n",
        "    self.b = torch.tensor([b], requires_grad=True)\n",
        "\n",
        "  def forward(self, x):\n",
        "    \"\"\"Forward pass\n",
        "\n",
        "    Args:\n",
        "      x (torch.Tensor): 1D tensor of features\n",
        "\n",
        "    Returns:\n",
        "      torch.Tensor: model predictions\n",
        "    \"\"\"\n",
        "    assert isinstance(x, torch.Tensor)\n",
        "    #################################################\n",
        "    ## Implement the the forward pass to calculate prediction\n",
        "    ## Note that prediction is not the loss, but the value after `tanh`\n",
        "    #################################################\n",
        "    prediction = torch.tanh(self.w * x + self.b)\n",
        "    return prediction\n",
        "\n",
        "\n",
        "def sq_loss(y_true, y_prediction):\n",
        "  \"\"\"L2 loss function\n",
        "\n",
        "  Args:\n",
        "    y_true (torch.Tensor): 1D tensor of target labels\n",
        "    y_prediction (torch.Tensor): 1D tensor of predictions\n",
        "\n",
        "  Returns:\n",
        "    torch.Tensor: L2-loss (squared error)\n",
        "  \"\"\"\n",
        "  assert isinstance(y_true, torch.Tensor)\n",
        "  assert isinstance(y_prediction, torch.Tensor)\n",
        "  #################################################\n",
        "  ## Implement the L2-loss (squred error) given true label and prediction\n",
        "  #################################################\n",
        "  loss = (y_true - y_prediction)**2\n",
        "  return loss\n",
        "\n",
        "\n",
        "feature = torch.tensor([1])  # input tensor\n",
        "target = torch.tensor([7])  # target tensor\n",
        "## Uncomment to run\n",
        "simple_graph = SimpleGraph(-0.5, 0.5)\n",
        "print(f\"initial weight = {simple_graph.w.item()}, \"\n",
        "      f\"\\ninitial bias = {simple_graph.b.item()}\")\n",
        "prediction = simple_graph.forward(feature)\n",
        "square_loss = sq_loss(target, prediction)\n",
        "print(f\"for x={feature.item()} and y={target.item()}, \"\n",
        "      f\"prediction={prediction.item()}, and L2 Loss = {square_loss.item()}\")"
      ],
      "execution_count": 15,
      "outputs": [
        {
          "output_type": "stream",
          "text": [
            "initial weight = -0.5, \n",
            "initial bias = 0.5\n",
            "for x=1 and y=7, prediction=0.0, and L2 Loss = 49.0\n"
          ],
          "name": "stdout"
        }
      ]
    },
    {
      "cell_type": "markdown",
      "metadata": {
        "execution": {},
        "id": "xTP9lKfr82hQ"
      },
      "source": [
        "[*Click for solution*](https://github.com/NeuromatchAcademy/course-content-dl/tree/main//tutorials/W1D2_LinearDeepLearning/solutions/W1D2_Tutorial1_Solution_6668feea.py)\n",
        "\n"
      ]
    },
    {
      "cell_type": "markdown",
      "metadata": {
        "execution": {},
        "id": "tHi7YM6i82hS"
      },
      "source": [
        "It is important to appreciate the fact that PyTorch can follow our operations as we arbitrarily go through classes and functions."
      ]
    },
    {
      "cell_type": "markdown",
      "metadata": {
        "execution": {},
        "id": "jWVAny9c82hU"
      },
      "source": [
        "## Section 2.2: Backward Propagation\n",
        "\n",
        "Here is where all the magic lies. In PyTorch, `Tensor` and `Function` are interconnected and build up an acyclic graph, that encodes a complete history of computation. Each variable has a `grad_fn` attribute that references a function that has created the Tensor (except for Tensors created by the user - these have `None` as `grad_fn`).  The example below shows that the tensor `c = a + b` is created by the `Add` operation and the gradient function is the object `<AddBackward...>`. Replace `+` with other single operations (e.g., `c = a * b` or `c = torch.sin(a)`) and examine the results."
      ]
    },
    {
      "cell_type": "code",
      "metadata": {
        "execution": {},
        "id": "BxVXvpYv82hV",
        "outputId": "1628d23a-0e70-45a4-9d43-a2030d8458db",
        "colab": {
          "base_uri": "https://localhost:8080/"
        }
      },
      "source": [
        "a = torch.tensor([1.0], requires_grad=True)\n",
        "b = torch.tensor([-1.0], requires_grad=True)\n",
        "c = a + b\n",
        "print(f'Gradient function = {c.grad_fn}')"
      ],
      "execution_count": 16,
      "outputs": [
        {
          "output_type": "stream",
          "text": [
            "Gradient function = <AddBackward0 object at 0x7ff37990aa90>\n"
          ],
          "name": "stdout"
        }
      ]
    },
    {
      "cell_type": "markdown",
      "metadata": {
        "execution": {},
        "id": "4Jf0dd-c82hY"
      },
      "source": [
        "For more complex functions, printing the `grad_fn` would only show the last operation, even though the object tracks all the operations up to that point:"
      ]
    },
    {
      "cell_type": "code",
      "metadata": {
        "execution": {},
        "id": "0W6p1Kbp82hZ",
        "outputId": "7d1b4fa1-f142-44e5-894a-507c3a1f13c4",
        "colab": {
          "base_uri": "https://localhost:8080/"
        }
      },
      "source": [
        "print(f'Gradient function for prediction = {prediction.grad_fn}')\n",
        "print(f'Gradient function for loss = {square_loss.grad_fn}')"
      ],
      "execution_count": 17,
      "outputs": [
        {
          "output_type": "stream",
          "text": [
            "Gradient function for prediction = <TanhBackward object at 0x7ff37185f9d0>\n",
            "Gradient function for loss = <PowBackward0 object at 0x7ff37185f850>\n"
          ],
          "name": "stdout"
        }
      ]
    },
    {
      "cell_type": "markdown",
      "metadata": {
        "execution": {},
        "id": "d4Vbjy6Z82ha"
      },
      "source": [
        "Now let's kick off the backward pass to calculate the gradients by calling `.backward()` on the tensor we wish to initiate the backpropagation from. Often, `.backward()` is called on the loss, which is the last node on the graph. Before doing that, let's calculate the loss gradients by hand:\n",
        "\n",
        "$$\\frac{\\partial{loss}}{\\partial{w}} = - 2 x (y_t - y_p)(1 - y_p^2)$$\n",
        "\n",
        "$$\\frac{\\partial{loss}}{\\partial{b}} = - 2 (y_t - y_p)(1 - y_p^2)$$\n",
        "\n",
        "Where $y_t$ is the target (true label), and $y_p$ is the prediction (model output). We can then compare it to PyTorch gradients, which can be obtained by calling `.grad` on the relevant tensors.\n",
        "\n",
        "**Important Notes**\n",
        "* Learnable parameters (i.e. `reguires_grad` tensors) are \"contagious\". Let's look at a simple example: `Y = W @ X`, where `X` is the feature tensors and `W` is the weight tensor (learnable parameters, `reguires_grad`), the newly generated output tensor `Y` will be also `reguires_grad`. So any operation that is applied to `Y` will be part of the computational graph. Therefore, if we need to plot or store a tensor that is `reguires_grad`, we must first `.detach()` it from the graph by calling the `.detach()` method on that tensor.\n",
        "\n",
        "\n",
        "* `.backward()` accumulates gradients in the leaf nodes (i.e., the input nodes to the node of interest). We can call `.zero_grad()` on the loss or optimizer to zero out all `.grad` attributes (see [autograd.backward](https://pytorch.org/docs/stable/autograd.html#torch.autograd.backward) for more).\n",
        "\n",
        "* Recall that in python we can access variables and associated methods with `.method_name`. You can use the command `dir(my_object)` to observe all variables and associated methods to your object, e.g., `dir(simple_graph.w)`."
      ]
    },
    {
      "cell_type": "code",
      "metadata": {
        "execution": {},
        "id": "sYSWwUxO82hc"
      },
      "source": [
        "# analytical gradients (remember detaching)\n",
        "ana_dloss_dw = - 2 * feature * (target - prediction.detach())*(1 - prediction.detach()**2)\n",
        "ana_dloss_db = - 2 * (target - prediction.detach())*(1 - prediction.detach()**2)\n",
        "\n",
        "square_loss.backward()  # first we should call the backward to build the graph\n",
        "autograd_dloss_dw = simple_graph.w.grad  # we calculate the derivative w.r.t weights\n",
        "autograd_dloss_db = simple_graph.b.grad  # we calculate the derivative w.r.t bias\n",
        "\n",
        "print(ana_dloss_dw == autograd_dloss_dw)\n",
        "print(ana_dloss_db == autograd_dloss_db)"
      ],
      "execution_count": null,
      "outputs": []
    },
    {
      "cell_type": "markdown",
      "metadata": {
        "execution": {},
        "id": "IngHefjq82he"
      },
      "source": [
        "References and more:\n",
        "* [A GENTLE INTRODUCTION TO TORCH.AUTOGRAD](https://pytorch.org/tutorials/beginner/blitz/autograd_tutorial.html)\n",
        "\n",
        "* [AUTOMATIC DIFFERENTIATION PACKAGE - TORCH.AUTOGRAD](https://pytorch.org/docs/stable/autograd.html)\n",
        "\n",
        "* [AUTOGRAD MECHANICS](https://pytorch.org/docs/stable/notes/autograd.html)\n",
        "\n",
        "* [AUTOMATIC DIFFERENTIATION WITH TORCH.AUTOGRAD](https://pytorch.org/tutorials/beginner/basics/autogradqs_tutorial.html)"
      ]
    },
    {
      "cell_type": "markdown",
      "metadata": {
        "execution": {},
        "id": "DiUFqFwc82hh"
      },
      "source": [
        "---\n",
        "# Section 3: PyTorch's Neural Net module (`nn.Module`)\n",
        "\n",
        "*Time estimate: ~30 mins*"
      ]
    },
    {
      "cell_type": "code",
      "metadata": {
        "cellView": "form",
        "execution": {},
        "id": "VTVVNVXL82hi",
        "outputId": "3326a6a3-7605-4a1e-9adf-e9ceab273894",
        "colab": {
          "base_uri": "https://localhost:8080/",
          "height": 580,
          "referenced_widgets": [
            "85a3d96a0a0f406c96e30e58c169d1bd",
            "efbebbc5b845409bb2d8d9be69c5e9ec",
            "16716d773e734bb1b4a6952a06a3014b",
            "13e46fc9ccce42409bb92fdc0fa7a762",
            "af7d57da4d68485793015d35a429cdd1",
            "4c22a0a343d9410087a56d4dc03cf04e"
          ]
        }
      },
      "source": [
        "# @title Video 5: PyTorch `nn` module\n",
        "from ipywidgets import widgets\n",
        "\n",
        "out2 = widgets.Output()\n",
        "with out2:\n",
        "  from IPython.display import IFrame\n",
        "  class BiliVideo(IFrame):\n",
        "    def __init__(self, id, page=1, width=400, height=300, **kwargs):\n",
        "      self.id=id\n",
        "      src = \"https://player.bilibili.com/player.html?bvid={0}&page={1}\".format(id, page)\n",
        "      super(BiliVideo, self).__init__(src, width, height, **kwargs)\n",
        "\n",
        "  video = BiliVideo(id=f\"BV1MU4y1H7WH\", width=854, height=480, fs=1)\n",
        "  print(\"Video available at https://www.bilibili.com/video/{0}\".format(video.id))\n",
        "  display(video)\n",
        "\n",
        "out1 = widgets.Output()\n",
        "with out1:\n",
        "  from IPython.display import YouTubeVideo\n",
        "  video = YouTubeVideo(id=f\"jzTbQACq7KE\", width=854, height=480, fs=1, rel=0)\n",
        "  print(\"Video available at https://youtube.com/watch?v=\" + video.id)\n",
        "  display(video)\n",
        "\n",
        "out = widgets.Tab([out1, out2])\n",
        "out.set_title(0, 'Youtube')\n",
        "out.set_title(1, 'Bilibili')\n",
        "\n",
        "#add event to airtable\n",
        "atform.add_event('Video 5: PyTorch `nn` module')\n",
        "\n",
        "display(out)"
      ],
      "execution_count": 18,
      "outputs": [
        {
          "output_type": "display_data",
          "data": {
            "application/vnd.jupyter.widget-view+json": {
              "model_id": "85a3d96a0a0f406c96e30e58c169d1bd",
              "version_minor": 0,
              "version_major": 2
            },
            "text/plain": [
              "Tab(children=(Output(), Output()), _titles={'0': 'Youtube', '1': 'Bilibili'})"
            ]
          },
          "metadata": {
            "tags": []
          }
        }
      ]
    },
    {
      "cell_type": "markdown",
      "metadata": {
        "execution": {},
        "id": "At9lGQen82hk"
      },
      "source": [
        "PyTorch provides us with ready-to-use neural network building blocks, such as layers (e.g. linear, recurrent, ...), different activation and loss functions, and much more, packed in the [`torch.nn`](https://pytorch.org/docs/stable/nn.html) module. If we build a neural network using `torch.nn` layers, the weights and biases are already in `requires_grad` mode and will be registered as model parameters. \n",
        "\n",
        "For training, we need three things:\n",
        "\n",
        "*   **Model parameters** - Model parameters refer to all the learnable parameters of the model, which are accessible by calling `.parameters()` on the model. Please note that NOT all the `requires_grad` tensors are seen as model parameters. To create a custom model parameter, we can use [`nn.Parameter`](https://pytorch.org/docs/stable/generated/torch.nn.parameter.Parameter.html) (*A kind of Tensor that is to be considered a module parameter*).\n",
        "\n",
        "*   **Loss function** - The loss that we are going to be optimizing, which is often combined with regularization terms (conming up in few days).\n",
        "\n",
        "*   **Optimizer** - PyTorch provides us with many optimization methods (different versions of gradient descent). Optimizer holds the current state of the model and by calling the `step()` method, will update the parameters based on the computed gradients.\n",
        "\n",
        "You will learn more details about choosing the right model architecture, loss function, and optimizer later in the course."
      ]
    },
    {
      "cell_type": "markdown",
      "metadata": {
        "execution": {},
        "id": "ngfZm1fT82ho"
      },
      "source": [
        "## Section 3.1: Training loop in PyTorch\n",
        "\n",
        "We use a regression problem to study the training loop in PyTorch.\n",
        "\n",
        "The task is to train a wide nonlinear (using $\\tanh$ activation function) neural net for a simple $\\sin$ regression task. Wide neural networks are thought to be really good at generalization."
      ]
    },
    {
      "cell_type": "code",
      "metadata": {
        "cellView": "form",
        "execution": {},
        "id": "X8hh4jVZ82hr",
        "outputId": "3d84d244-4bef-4665-c176-c5f728dead58",
        "colab": {
          "base_uri": "https://localhost:8080/",
          "height": 376
        }
      },
      "source": [
        "# @markdown #### Generate the sample dataset\n",
        "set_seed(seed=SEED)\n",
        "n_samples = 32\n",
        "inputs = torch.linspace(-1.0, 1.0, n_samples).reshape(n_samples, 1)\n",
        "noise = torch.randn(n_samples, 1) / 4\n",
        "targets = torch.sin(pi * inputs) + noise\n",
        "plt.figure(figsize=(8, 5))\n",
        "plt.scatter(inputs, targets, c='c')\n",
        "plt.xlabel('x (inputs)')\n",
        "plt.ylabel('y (targets)')\n",
        "plt.show()"
      ],
      "execution_count": 19,
      "outputs": [
        {
          "output_type": "stream",
          "text": [
            "Random seed 2021 has been set.\n"
          ],
          "name": "stdout"
        },
        {
          "output_type": "display_data",
          "data": {
            "image/png": "[encoded data removed]",
            "text/plain": [
              "<Figure size 576x360 with 1 Axes>"
            ]
          },
          "metadata": {
            "tags": [],
            "image/png": {
              "width": 558,
              "height": 341
            },
            "needs_background": "light"
          }
        }
      ]
    },
    {
      "cell_type": "markdown",
      "metadata": {
        "execution": {},
        "id": "p3nYrYt782hu"
      },
      "source": [
        "Let's define a very wide (512 neurons) neural net with one hidden layer and `Tanh` activation function."
      ]
    },
    {
      "cell_type": "code",
      "metadata": {
        "execution": {},
        "id": "YxmaHyvq82hv"
      },
      "source": [
        "## A Wide neural network with a single hidden layer\n",
        "class WideNet(nn.Module):\n",
        "\n",
        "  def __init__(self):\n",
        "    \"\"\"Initializing the WideNet\n",
        "    \"\"\"\n",
        "    n_cells = 512\n",
        "    super().__init__()\n",
        "    self.layers = nn.Sequential(\n",
        "        nn.Linear(1, n_cells),\n",
        "        nn.Tanh(),\n",
        "        nn.Linear(n_cells, 1),\n",
        "    )\n",
        "\n",
        "  def forward(self, x):\n",
        "    \"\"\"Forward pass\n",
        "\n",
        "    Args:\n",
        "      x (torch.Tensor): 2D tensor of features\n",
        "\n",
        "    Returns:\n",
        "      torch.Tensor: model predictions\n",
        "    \"\"\"\n",
        "    return self.layers(x)"
      ],
      "execution_count": 20,
      "outputs": []
    },
    {
      "cell_type": "markdown",
      "metadata": {
        "execution": {},
        "id": "rl-4UL4182hx"
      },
      "source": [
        "We can now create an instance of our neural net and print its parameters."
      ]
    },
    {
      "cell_type": "code",
      "metadata": {
        "execution": {},
        "id": "iG1E-jBw82hy",
        "outputId": "dfd42099-9b72-442b-85e0-13569a3c5d70",
        "colab": {
          "base_uri": "https://localhost:8080/"
        }
      },
      "source": [
        "# creating an instance\n",
        "set_seed(seed=SEED)\n",
        "wide_net = WideNet()\n",
        "print(wide_net)"
      ],
      "execution_count": 21,
      "outputs": [
        {
          "output_type": "stream",
          "text": [
            "Random seed 2021 has been set.\n",
            "WideNet(\n",
            "  (layers): Sequential(\n",
            "    (0): Linear(in_features=1, out_features=512, bias=True)\n",
            "    (1): Tanh()\n",
            "    (2): Linear(in_features=512, out_features=1, bias=True)\n",
            "  )\n",
            ")\n"
          ],
          "name": "stdout"
        }
      ]
    },
    {
      "cell_type": "code",
      "metadata": {
        "execution": {},
        "id": "j9NXoLoS82h0"
      },
      "source": [
        "# Create a mse loss function\n",
        "loss_function = nn.MSELoss()\n",
        "\n",
        "# Stochstic Gradient Descent optimizer (you will learn about momentum soon)\n",
        "lr = 0.003  # learning rate\n",
        "sgd_optimizer = torch.optim.SGD(wide_net.parameters(), lr=lr, momentum=0.9)"
      ],
      "execution_count": 23,
      "outputs": []
    },
    {
      "cell_type": "markdown",
      "metadata": {
        "execution": {},
        "id": "arZgduZY82h0"
      },
      "source": [
        "The training process in PyTorch is interactive - you can perform training iterations as you wish and inspect the results after each iteration. \n",
        "\n",
        "Let's perform one training iteration. You can run the cell multiple times and see how the parameters are being updated and the loss is reducing. This code block is the core of everything to come: please make sure you go line-by-line through all the commands and discuss their purpose with the pod."
      ]
    },
    {
      "cell_type": "code",
      "metadata": {
        "execution": {},
        "id": "fiCLxhtV82h0",
        "outputId": "31d4e37b-1898-427c-8916-6205b4df9f25",
        "colab": {
          "base_uri": "https://localhost:8080/"
        }
      },
      "source": [
        "# Reset all gradients to zero\n",
        "sgd_optimizer.zero_grad()\n",
        "\n",
        "# Forward pass (Compute the output of the model on the features (inputs))\n",
        "prediction = wide_net(inputs)\n",
        "\n",
        "# Compute the loss\n",
        "loss = loss_function(prediction, targets)\n",
        "print(f'Loss: {loss.item()}')\n",
        "\n",
        "# Perform backpropagation to build the graph and compute the gradients\n",
        "loss.backward()\n",
        "\n",
        "# Optimizer takes a tiny step in the steepest direction (negative of gradient)\n",
        "# and \"updates\" the weights and biases of the network\n",
        "sgd_optimizer.step()"
      ],
      "execution_count": 26,
      "outputs": [
        {
          "output_type": "stream",
          "text": [
            "Loss: 0.4656757116317749\n"
          ],
          "name": "stdout"
        }
      ]
    },
    {
      "cell_type": "markdown",
      "metadata": {
        "execution": {},
        "id": "WAFglcBe82h1"
      },
      "source": [
        "### Coding Exercise 3.1: Training Loop\n",
        "Using everything we've learned so far, we ask you to complete the `train` function below."
      ]
    },
    {
      "cell_type": "code",
      "metadata": {
        "execution": {},
        "id": "2fisK9Qf82h3",
        "outputId": "b7c2415c-d747-4ec9-b32e-ed6d60ab375b",
        "colab": {
          "base_uri": "https://localhost:8080/",
          "height": 305
        }
      },
      "source": [
        "def train(features, labels, model, loss_fun, optimizer, n_epochs):\n",
        "\n",
        "  \"\"\"Training function\n",
        "\n",
        "  Args:\n",
        "    features (torch.Tensor): features (input) with shape torch.Size([n_samples, 1])\n",
        "    labels (torch.Tensor): labels (targets) with shape torch.Size([n_samples, 1])\n",
        "    model (torch nn.Module): the neural network\n",
        "    loss_fun (function): loss function\n",
        "    optimizer(function): optimizer\n",
        "    n_epochs (int): number of training iterations\n",
        "\n",
        "  Returns:\n",
        "    list: record (evolution) of training losses\n",
        "  \"\"\"\n",
        "  loss_record = []  # keeping recods of loss\n",
        "\n",
        "  for i in range(n_epochs):\n",
        "    #################################################\n",
        "    ## Implement the missing parts of the training loop\n",
        "    # Complete the function and remove or comment the line below\n",
        "    #################################################\n",
        "    optimizer.zero_grad()  # set gradients to 0\n",
        "    predictions =  model(features)  # Compute model prediction (output)\n",
        "    loss = loss_fun(predictions, labels)  # Compute the loss\n",
        "    loss.backward()  # Compute gradients (backward pass)\n",
        "    optimizer.step()  # update parameters (optimizer takes a step)\n",
        "\n",
        "    loss_record.append(loss.item())\n",
        "  return loss_record\n",
        "\n",
        "#add event to airtable\n",
        "atform.add_event('Coding Exercise 3.1: Training Loop')\n",
        "\n",
        "\n",
        "set_seed(seed=2021)\n",
        "epochs = 1847 # Cauchy, Exercices d'analyse et de physique mathematique (1847)\n",
        "## Uncomment to run\n",
        "losses = train(inputs, targets, wide_net, loss_function, sgd_optimizer, epochs)\n",
        "ex3_plot(wide_net, inputs, targets, epochs, losses)"
      ],
      "execution_count": 27,
      "outputs": [
        {
          "output_type": "stream",
          "text": [
            "Random seed 2021 has been set.\n"
          ],
          "name": "stdout"
        },
        {
          "output_type": "display_data",
          "data": {
            "image/png": "[encoded data removed]",
            "text/plain": [
              "<Figure size 864x288 with 2 Axes>"
            ]
          },
          "metadata": {
            "tags": [],
            "image/png": {
              "width": 845,
              "height": 270
            },
            "needs_background": "light"
          }
        }
      ]
    },
    {
      "cell_type": "markdown",
      "metadata": {
        "execution": {},
        "id": "cLiy8miO82h5"
      },
      "source": [
        "---\n",
        "# Summary"
      ]
    },
    {
      "cell_type": "markdown",
      "metadata": {
        "execution": {},
        "id": "lRFQtj5C82h7"
      },
      "source": [
        "In this tutorial we covered one of the most basic concepts of deep learning; the computational graph and how a network learns via gradient descent and the backpropagation algorithm. We have seen all of these using PyTorch modules and we compared the analytical solutions with the ones provided directly by the PyTorch module."
      ]
    },
    {
      "cell_type": "code",
      "metadata": {
        "cellView": "form",
        "execution": {},
        "id": "1kLmDfa_82h8",
        "outputId": "05cdeaad-92e0-4cda-e0ea-345624a01354",
        "colab": {
          "base_uri": "https://localhost:8080/",
          "height": 580,
          "referenced_widgets": [
            "50c8e8f474884a0a93d2ffca4308663c",
            "8cb899f04aee497aa919bc9f834b0b11",
            "7a251e7d70ee4a608bd06b0b4c685d72",
            "5ec0dd1e1da740feb62726720a77465c",
            "1ae400bafbdd4166a17a48ab30174168",
            "6e88ee26600642acac7d20c8c74b9fb0"
          ]
        }
      },
      "source": [
        "# @title Video 6: Tutorial 1 Wrap-up\n",
        "from ipywidgets import widgets\n",
        "\n",
        "out2 = widgets.Output()\n",
        "with out2:\n",
        "  from IPython.display import IFrame\n",
        "  class BiliVideo(IFrame):\n",
        "    def __init__(self, id, page=1, width=400, height=300, **kwargs):\n",
        "      self.id=id\n",
        "      src = \"https://player.bilibili.com/player.html?bvid={0}&page={1}\".format(id, page)\n",
        "      super(BiliVideo, self).__init__(src, width, height, **kwargs)\n",
        "\n",
        "  video = BiliVideo(id=f\"BV1Pg41177VU\", width=854, height=480, fs=1)\n",
        "  print(\"Video available at https://www.bilibili.com/video/{0}\".format(video.id))\n",
        "  display(video)\n",
        "\n",
        "out1 = widgets.Output()\n",
        "with out1:\n",
        "  from IPython.display import YouTubeVideo\n",
        "  video = YouTubeVideo(id=f\"TvZURbcnXc4\", width=854, height=480, fs=1, rel=0)\n",
        "  print(\"Video available at https://youtube.com/watch?v=\" + video.id)\n",
        "  display(video)\n",
        "\n",
        "out = widgets.Tab([out1, out2])\n",
        "out.set_title(0, 'Youtube')\n",
        "out.set_title(1, 'Bilibili')\n",
        "\n",
        "#add event to airtable\n",
        "atform.add_event('Video 6: Tutorial 1 Wrap-up')\n",
        "\n",
        "display(out)"
      ],
      "execution_count": 28,
      "outputs": [
        {
          "output_type": "display_data",
          "data": {
            "application/vnd.jupyter.widget-view+json": {
              "model_id": "50c8e8f474884a0a93d2ffca4308663c",
              "version_minor": 0,
              "version_major": 2
            },
            "text/plain": [
              "Tab(children=(Output(), Output()), _titles={'0': 'Youtube', '1': 'Bilibili'})"
            ]
          },
          "metadata": {
            "tags": []
          }
        }
      ]
    },
    {
      "cell_type": "code",
      "metadata": {
        "cellView": "form",
        "execution": {},
        "id": "_MUF2vzV82h-",
        "outputId": "32a4a942-5793-441d-9563-9947ece2d52e",
        "colab": {
          "base_uri": "https://localhost:8080/",
          "height": 157
        }
      },
      "source": [
        "# @title Airtable Submission Link\n",
        "from IPython import display as IPyDisplay\n",
        "IPyDisplay.HTML(\n",
        "    f\"\"\"\n",
        "  <div>\n",
        "    <a href= \"{atform.url()}\" target=\"_blank\">\n",
        "    <img src=\"https://github.com/NeuromatchAcademy/course-content-dl/blob/main/tutorials/static/AirtableSubmissionButton.png?raw=1\"\n",
        "  alt=\"button link to Airtable\" style=\"width:410px\"></a>\n",
        "    </div>\"\"\" )"
      ],
      "execution_count": 29,
      "outputs": [
        {
          "output_type": "execute_result",
          "data": {
            "text/html": [
              "\n",
              "  <div>\n",
              "    <a href= \"https://portal.neuromatchacademy.org/api/redirect/to/9c55f6cb-cdf9-4429-ac1c-ec44fe64c303?data=eyJmb3JtX2lkIjogImFwcG43VmRQUnNlU29NWEVHIiwgInRhYmxlX25hbWUiOiAiVzFEMl9UMSIsICJhbnN3ZXJzIjoge30sICJldmVudHMiOiBbeyJldmVudCI6ICJpbml0IiwgInRzIjogMTYyNzk3NjM5Ny4zMzg4MTU1fSwgeyJldmVudCI6ICJWaWRlbyAwOkludHJvZHVjdGlvbiIsICJ0cyI6IDE2Mjc5NzY1MzEuMTY5MDczfSwgeyJldmVudCI6ICJWaWRlbyAxOiBHcmFkaWVudCBEZXNjZW50IiwgInRzIjogMTYyNzk3NzQwMy42NDMzODI1fSwgeyJldmVudCI6ICJDb2RpbmcgRXhlcmNpc2UgMS4xOiBHcmFkaWVudCBWZWN0b3IiLCAidHMiOiAxNjI3OTc4MDUwLjIwNDAyODF9LCB7ImV2ZW50IjogIlZpZGVvIDI6IEdyYWRpZW50IERlc2NlbnQgIiwgInRzIjogMTYyNzk3ODA2MC4xNzQzNjc3fSwgeyJldmVudCI6ICJWaWRlbyAzOiBDb21wdXRhdGlvbmFsIEdyYXBoICIsICJ0cyI6IDE2Mjc5NzkyOTUuNzEyNzM4fSwgeyJldmVudCI6ICJWaWRlbyA0OiBBdXRvLURpZmZlcmVudGlhdGlvbiAiLCAidHMiOiAxNjI3OTc5ODc3LjAzMDk5NX0sIHsiZXZlbnQiOiAiQ29kaW5nIEV4ZXJjaXNlIDIuMTogQ29tcHV0YXRpb25hbCBHcmFwaCAiLCAidHMiOiAxNjI3OTgwNjI0LjgzNDk4MTR9LCB7ImV2ZW50IjogIkNvZGluZyBFeGVyY2lzZSAyLjE6IENvbXB1dGF0aW9uYWwgR3JhcGggIiwgInRzIjogMTYyNzk4MDY2MS44NzU4Mjg3fSwgeyJldmVudCI6ICJWaWRlbyA1OiBQeVRvcmNoIGBubmAgbW9kdWxlIiwgInRzIjogMTYyNzk4MjAyNi4xMzU4NjQzfSwgeyJldmVudCI6ICJDb2RpbmcgRXhlcmNpc2UgMy4xOiBUcmFpbmluZyBMb29wIiwgInRzIjogMTYyNzk4MzczNS42Nzc4NzY3fSwgeyJldmVudCI6ICJWaWRlbyA2OiBUdXRvcmlhbCAxIFdyYXAtdXAiLCAidHMiOiAxNjI3OTgzNzY0LjUwNjgwOTd9LCB7ImV2ZW50IjogInVybCBnZW5lcmF0ZWQiLCAidHMiOiAxNjI3OTgzOTQzLjEzMTE4MjJ9XX0%3D\" target=\"_blank\">\n",
              "    <img src=\"https://github.com/NeuromatchAcademy/course-content-dl/blob/main/tutorials/static/AirtableSubmissionButton.png?raw=1\"\n",
              "  alt=\"button link to Airtable\" style=\"width:410px\"></a>\n",
              "    </div>"
            ],
            "text/plain": [
              "<IPython.core.display.HTML object>"
            ]
          },
          "metadata": {
            "tags": []
          },
          "execution_count": 29
        }
      ]
    }
  ]
}